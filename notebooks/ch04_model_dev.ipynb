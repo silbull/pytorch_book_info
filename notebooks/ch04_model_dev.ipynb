{
  "cells": [
    {
      "cell_type": "markdown",
      "metadata": {
        "id": "qU9dTlgPF-Km"
      },
      "source": [
        "# 4章 予測関数定義"
      ]
    },
    {
      "cell_type": "code",
      "execution_count": 1,
      "metadata": {
        "id": "xV4MBR1YF-Kt"
      },
      "outputs": [
        {
          "name": "stdout",
          "output_type": "stream",
          "text": [
            "Requirement already satisfied: six>=1.5 in /home/miyawaki/anaconda3/envs/test/lib/python3.8/site-packages (from python-dateutil>=2.7->matplotlib->japanize_matplotlib) (1.16.0)\n",
            "Requirement already satisfied: typing_extensions in /home/miyawaki/anaconda3/envs/test/lib/python3.8/site-packages (from torch->torchviz) (4.4.0)\n"
          ]
        }
      ],
      "source": [
        "# 必要ライブラリの導入\n",
        "\n",
        "!pip install japanize_matplotlib | tail -n 1\n",
        "!pip install torchviz | tail -n 1"
      ]
    },
    {
      "cell_type": "code",
      "execution_count": 2,
      "metadata": {
        "id": "BLjiUdMkF-Kv"
      },
      "outputs": [],
      "source": [
        "# 必要ライブラリのインポート\n",
        "\n",
        "%matplotlib inline\n",
        "import numpy as np\n",
        "import matplotlib.pyplot as plt\n",
        "import japanize_matplotlib"
      ]
    },
    {
      "cell_type": "code",
      "execution_count": 3,
      "metadata": {
        "id": "jDn5PNK1F-Kw"
      },
      "outputs": [],
      "source": [
        "# PyTorch関連ライブラリ\n",
        "import torch\n",
        "import torch.nn as nn\n",
        "from torchviz import make_dot"
      ]
    },
    {
      "cell_type": "code",
      "execution_count": 4,
      "metadata": {
        "id": "2EvqxdjJF-Kw"
      },
      "outputs": [],
      "source": [
        "# デフォルトフォントサイズ変更\n",
        "plt.rcParams['font.size'] = 14\n",
        "\n",
        "# デフォルトグラフサイズ変更\n",
        "plt.rcParams['figure.figsize'] = (6,6)\n",
        "\n",
        "# デフォルトで方眼表示ON\n",
        "plt.rcParams['axes.grid'] = True\n",
        "\n",
        "# numpyの浮動小数点の表示精度\n",
        "np.set_printoptions(suppress=True, precision=4)"
      ]
    },
    {
      "cell_type": "markdown",
      "metadata": {
        "id": "_3WZJXXHF-Kw"
      },
      "source": [
        "## 4.4 擬似コードとしての予測関数"
      ]
    },
    {
      "cell_type": "code",
      "execution_count": 5,
      "metadata": {
        "id": "QMdb2lxdF-Kw"
      },
      "outputs": [],
      "source": [
        "# レイヤー関数定義\n",
        "\n",
        "# 最初の線形関数\n",
        "# 784 入力数\n",
        "# 128 出力数\n",
        "l1 = nn.Linear(784, 128)\n",
        "\n",
        "# 2番目の線形関数\n",
        "# 128 入力数\n",
        "# 10 出力数\n",
        "l2 = nn.Linear(128, 10)\n",
        "\n",
        "# 活性化関数\n",
        "relu = nn.ReLU(inplace=True)"
      ]
    },
    {
      "cell_type": "code",
      "execution_count": 6,
      "metadata": {
        "id": "F9HCp5nUF-Kx"
      },
      "outputs": [
        {
          "name": "stdout",
          "output_type": "stream",
          "text": [
            "入力テンソル torch.Size([100, 784])\n",
            "出力テンソル torch.Size([100, 10])\n"
          ]
        }
      ],
      "source": [
        "# 入力テンソルから出力テンソルを計算\n",
        "\n",
        "# ダミー入力データを作成\n",
        "inputs = torch.randn(100, 784)\n",
        "\n",
        "# 中間テンソル1の計算\n",
        "m1 = l1(inputs)\n",
        "\n",
        "# 中間テンソル2の計算\n",
        "m2 = relu(m1)\n",
        "\n",
        "# 出力テンソルの計算\n",
        "outputs = l2(m2)\n",
        "\n",
        "# 入力テンソルと出力テンソルのshape確認\n",
        "print('入力テンソル', inputs.shape)\n",
        "print('出力テンソル', outputs.shape)"
      ]
    },
    {
      "cell_type": "code",
      "execution_count": 7,
      "metadata": {
        "id": "k1pBFECMF-Kx"
      },
      "outputs": [
        {
          "name": "stdout",
          "output_type": "stream",
          "text": [
            "入力テンソル torch.Size([100, 784])\n",
            "出力テンソル torch.Size([100, 10])\n"
          ]
        }
      ],
      "source": [
        "# nn.Sequentialを使って、全体を合成関数として定義\n",
        "\n",
        "net2 = nn.Sequential(\n",
        "    l1,\n",
        "    relu,\n",
        "    l2\n",
        ")\n",
        "\n",
        "outputs2 = net2(inputs)\n",
        "\n",
        "# 入力テンソルと出力テンソルのshape確認\n",
        "print('入力テンソル', inputs.shape)\n",
        "print('出力テンソル', outputs2.shape)"
      ]
    },
    {
      "cell_type": "markdown",
      "metadata": {
        "id": "wQf1DBaS8FZm"
      },
      "source": [
        "## 4.7　活性化関数の目的\n",
        "当コラムでは予測結果のグラフ(図4-9から図4-11) が重要で、そのための実装コードの意味が現段階でわからなくて構いません。以下のコードがあくまで参考情報としての提示になります。"
      ]
    },
    {
      "cell_type": "markdown",
      "metadata": {
        "id": "J7apEGDq8zS7"
      },
      "source": [
        "#### 学習用のデータの計算"
      ]
    },
    {
      "cell_type": "code",
      "execution_count": 8,
      "metadata": {
        "id": "WRauI6Z7Gvz8"
      },
      "outputs": [],
      "source": [
        "# 訓練データ、検証データの計算\n",
        "np.random.seed(123)\n",
        "x = np.random.randn(100,1)\n",
        "\n",
        "# yの値はx^2に乱数の要素を1/10程度付加した\n",
        "y = x**2 + np.random.randn(100,1) * 0.1\n",
        "\n",
        "# データを50件ずつに分け、それぞれ訓練用、検証用とする\n",
        "x_train = x[:50,:]\n",
        "x_test = x[50:,:]\n",
        "y_train = y[:50,:]\n",
        "y_test = y[50:,:]"
      ]
    },
    {
      "cell_type": "code",
      "execution_count": 9,
      "metadata": {
        "id": "WubHpuSu9F2a"
      },
      "outputs": [
        {
          "data": {
            "image/png": "[encoded data removed]",
            "text/plain": [
              "<Figure size 600x600 with 1 Axes>"
            ]
          },
          "metadata": {},
          "output_type": "display_data"
        }
      ],
      "source": [
        "# 散布図表示\n",
        "plt.scatter(x_train, y_train, c='b', label='訓練データ')\n",
        "plt.scatter(x_test, y_test, c='k', marker='x', label='検証データ')\n",
        "plt.legend()\n",
        "plt.show()"
      ]
    },
    {
      "cell_type": "code",
      "execution_count": 10,
      "metadata": {
        "id": "eCrl5qLz9yB8"
      },
      "outputs": [],
      "source": [
        "# 入力変数x と正解値 ytのTesor化\n",
        "\n",
        "inputs = torch.tensor(x_train).float()\n",
        "labels = torch.tensor(y_train).float()\n",
        "\n",
        "inputs_test = torch.tensor(x_test).float()\n",
        "labels_test = torch.tensor(y_test).float()"
      ]
    },
    {
      "cell_type": "code",
      "execution_count": 11,
      "metadata": {
        "id": "k3QIOgzv-OOO"
      },
      "outputs": [],
      "source": [
        "import torch.optim as optim"
      ]
    },
    {
      "cell_type": "markdown",
      "metadata": {
        "id": "HVl4DOk0-vhO"
      },
      "source": [
        "### 単回帰の場合"
      ]
    },
    {
      "cell_type": "code",
      "execution_count": 12,
      "metadata": {
        "id": "JRyZGGMN9_d3"
      },
      "outputs": [],
      "source": [
        "# モデルの定義\n",
        "\n",
        "class Net(nn.Module):\n",
        "    def __init__(self):\n",
        "        #  親クラスnn.Modulesの初期化呼び出し\n",
        "        super().__init__()\n",
        "\n",
        "        # 出力層の定義\n",
        "        self.l1 = nn.Linear(1, 1)   \n",
        "        \n",
        "    # 予測関数の定義\n",
        "    def forward(self, x):\n",
        "        x1 = self.l1(x) # 線形回帰\n",
        "        return x1"
      ]
    },
    {
      "cell_type": "code",
      "execution_count": 13,
      "metadata": {
        "id": "h4P55Zk5-Cwk"
      },
      "outputs": [],
      "source": [
        "# 学習率\n",
        "lr = 0.01\n",
        "\n",
        "# インスタンス生成　(パラメータ値初期化)\n",
        "net = Net()\n",
        "\n",
        "# 最適化アルゴリズム: 勾配降下法\n",
        "optimizer = optim.SGD(net.parameters(), lr=lr)\n",
        "\n",
        "# 損失関数： 最小二乗誤差\n",
        "criterion = nn.MSELoss()\n",
        "\n",
        "# 繰り返し回数\n",
        "num_epochs = 10000\n",
        "\n",
        "# 評価結果記録用 (損失関数値のみ記録)\n",
        "history = np.zeros((0,2))"
      ]
    },
    {
      "cell_type": "code",
      "execution_count": 14,
      "metadata": {
        "id": "po6RlG27-FqN"
      },
      "outputs": [
        {
          "name": "stdout",
          "output_type": "stream",
          "text": [
            "Epoch 0 loss: 8.12027\n",
            "Epoch 100 loss: 3.30113\n",
            "Epoch 200 loss: 3.21695\n",
            "Epoch 300 loss: 3.21547\n",
            "Epoch 400 loss: 3.21544\n",
            "Epoch 500 loss: 3.21544\n",
            "Epoch 600 loss: 3.21544\n",
            "Epoch 700 loss: 3.21544\n",
            "Epoch 800 loss: 3.21544\n",
            "Epoch 900 loss: 3.21544\n",
            "Epoch 1000 loss: 3.21544\n",
            "Epoch 1100 loss: 3.21544\n",
            "Epoch 1200 loss: 3.21544\n",
            "Epoch 1300 loss: 3.21544\n",
            "Epoch 1400 loss: 3.21544\n",
            "Epoch 1500 loss: 3.21544\n",
            "Epoch 1600 loss: 3.21544\n",
            "Epoch 1700 loss: 3.21544\n",
            "Epoch 1800 loss: 3.21544\n",
            "Epoch 1900 loss: 3.21544\n",
            "Epoch 2000 loss: 3.21544\n",
            "Epoch 2100 loss: 3.21544\n",
            "Epoch 2200 loss: 3.21544\n",
            "Epoch 2300 loss: 3.21544\n",
            "Epoch 2400 loss: 3.21544\n",
            "Epoch 2500 loss: 3.21544\n",
            "Epoch 2600 loss: 3.21544\n",
            "Epoch 2700 loss: 3.21544\n",
            "Epoch 2800 loss: 3.21544\n",
            "Epoch 2900 loss: 3.21544\n",
            "Epoch 3000 loss: 3.21544\n",
            "Epoch 3100 loss: 3.21544\n",
            "Epoch 3200 loss: 3.21544\n",
            "Epoch 3300 loss: 3.21544\n",
            "Epoch 3400 loss: 3.21544\n",
            "Epoch 3500 loss: 3.21544\n",
            "Epoch 3600 loss: 3.21544\n",
            "Epoch 3700 loss: 3.21544\n",
            "Epoch 3800 loss: 3.21544\n",
            "Epoch 3900 loss: 3.21544\n",
            "Epoch 4000 loss: 3.21544\n",
            "Epoch 4100 loss: 3.21544\n",
            "Epoch 4200 loss: 3.21544\n",
            "Epoch 4300 loss: 3.21544\n",
            "Epoch 4400 loss: 3.21544\n",
            "Epoch 4500 loss: 3.21544\n",
            "Epoch 4600 loss: 3.21544\n",
            "Epoch 4700 loss: 3.21544\n",
            "Epoch 4800 loss: 3.21544\n",
            "Epoch 4900 loss: 3.21544\n",
            "Epoch 5000 loss: 3.21544\n",
            "Epoch 5100 loss: 3.21544\n",
            "Epoch 5200 loss: 3.21544\n",
            "Epoch 5300 loss: 3.21544\n",
            "Epoch 5400 loss: 3.21544\n",
            "Epoch 5500 loss: 3.21544\n",
            "Epoch 5600 loss: 3.21544\n",
            "Epoch 5700 loss: 3.21544\n",
            "Epoch 5800 loss: 3.21544\n",
            "Epoch 5900 loss: 3.21544\n",
            "Epoch 6000 loss: 3.21544\n",
            "Epoch 6100 loss: 3.21544\n",
            "Epoch 6200 loss: 3.21544\n",
            "Epoch 6300 loss: 3.21544\n",
            "Epoch 6400 loss: 3.21544\n",
            "Epoch 6500 loss: 3.21544\n",
            "Epoch 6600 loss: 3.21544\n",
            "Epoch 6700 loss: 3.21544\n",
            "Epoch 6800 loss: 3.21544\n",
            "Epoch 6900 loss: 3.21544\n",
            "Epoch 7000 loss: 3.21544\n",
            "Epoch 7100 loss: 3.21544\n",
            "Epoch 7200 loss: 3.21544\n",
            "Epoch 7300 loss: 3.21544\n",
            "Epoch 7400 loss: 3.21544\n",
            "Epoch 7500 loss: 3.21544\n",
            "Epoch 7600 loss: 3.21544\n",
            "Epoch 7700 loss: 3.21544\n",
            "Epoch 7800 loss: 3.21544\n",
            "Epoch 7900 loss: 3.21544\n",
            "Epoch 8000 loss: 3.21544\n",
            "Epoch 8100 loss: 3.21544\n",
            "Epoch 8200 loss: 3.21544\n",
            "Epoch 8300 loss: 3.21544\n",
            "Epoch 8400 loss: 3.21544\n",
            "Epoch 8500 loss: 3.21544\n",
            "Epoch 8600 loss: 3.21544\n",
            "Epoch 8700 loss: 3.21544\n",
            "Epoch 8800 loss: 3.21544\n",
            "Epoch 8900 loss: 3.21544\n",
            "Epoch 9000 loss: 3.21544\n",
            "Epoch 9100 loss: 3.21544\n",
            "Epoch 9200 loss: 3.21544\n",
            "Epoch 9300 loss: 3.21544\n",
            "Epoch 9400 loss: 3.21544\n",
            "Epoch 9500 loss: 3.21544\n",
            "Epoch 9600 loss: 3.21544\n",
            "Epoch 9700 loss: 3.21544\n",
            "Epoch 9800 loss: 3.21544\n",
            "Epoch 9900 loss: 3.21544\n"
          ]
        }
      ],
      "source": [
        "# 繰り返し計算メインループ\n",
        "\n",
        "for epoch in range(num_epochs):\n",
        "    \n",
        "    # 勾配値初期化\n",
        "    optimizer.zero_grad()\n",
        "\n",
        "    # 予測計算\n",
        "    outputs = net(inputs)\n",
        "  \n",
        "    # 誤差計算\n",
        "    loss = criterion(outputs, labels)\n",
        "\n",
        "    #勾配計算\n",
        "    loss.backward()\n",
        "\n",
        "    # 勾配降下法の適用\n",
        "    optimizer.step()\n",
        "\n",
        "    # 100回ごとに途中経過を記録する\n",
        "    if ( epoch % 100 == 0):\n",
        "        history = np.vstack((history, np.array([epoch, loss.item()])))\n",
        "        print(f'Epoch {epoch} loss: {loss.item():.5f}')"
      ]
    },
    {
      "cell_type": "code",
      "execution_count": 15,
      "metadata": {
        "id": "v-ClJcWw-XTk"
      },
      "outputs": [
        {
          "data": {
            "image/png": "[encoded data removed]",
            "text/plain": [
              "<Figure size 600x600 with 1 Axes>"
            ]
          },
          "metadata": {},
          "output_type": "display_data"
        }
      ],
      "source": [
        "# 結果のグラフ化\n",
        "labels_pred = net(inputs_test)\n",
        "\n",
        "plt.title('隠れ層なし　活性化関数なし')\n",
        "plt.scatter(inputs_test[:,0].data, labels_pred[:,0].data, c='b', label='予測値')\n",
        "plt.scatter(inputs_test[:,0].data, labels_test[:,0].data, c='k', marker='x',label='正解値')\n",
        "plt.legend()\n",
        "plt.show()"
      ]
    },
    {
      "cell_type": "markdown",
      "metadata": {
        "id": "yAO6k3Nu-z85"
      },
      "source": [
        "### 疑似ディープラーニングの場合"
      ]
    },
    {
      "cell_type": "code",
      "execution_count": 16,
      "metadata": {
        "id": "pEQbY7qG-nBu"
      },
      "outputs": [],
      "source": [
        "# モデルの定義\n",
        "\n",
        "class Net2(nn.Module):\n",
        "    def __init__(self):\n",
        "        #  親クラスnn.Modulesの初期化呼び出し\n",
        "        super().__init__()\n",
        "\n",
        "        # 出力層の定義\n",
        "        self.l1 = nn.Linear(1, 10)\n",
        "        self.l2 = nn.Linear(10, 10)\n",
        "        self.l3 = nn.Linear(10,1)\n",
        "        \n",
        "    # 予測関数の定義\n",
        "    def forward(self, x):\n",
        "        x1 = self.l1(x)\n",
        "        x2 = self.l2(x1)\n",
        "        x3 = self.l3(x2)\n",
        "        return x3"
      ]
    },
    {
      "cell_type": "code",
      "execution_count": 17,
      "metadata": {
        "id": "gvbOfSCh-6mC"
      },
      "outputs": [],
      "source": [
        "# 学習率\n",
        "lr = 0.01\n",
        "\n",
        "# インスタンス生成　(パラメータ値初期化)\n",
        "net2 = Net2()\n",
        "\n",
        "# 最適化アルゴリズム: 勾配降下法\n",
        "optimizer = optim.SGD(net2.parameters(), lr=lr)\n",
        "\n",
        "# 損失関数： 最小二乗誤差\n",
        "criterion = nn.MSELoss()\n",
        "\n",
        "# 繰り返し回数\n",
        "num_epochs = 10000\n",
        "\n",
        "# 評価結果記録用 (損失関数値のみ記録)\n",
        "history = np.zeros((0,2))"
      ]
    },
    {
      "cell_type": "code",
      "execution_count": 18,
      "metadata": {
        "id": "8mUIKSmN-93V"
      },
      "outputs": [
        {
          "name": "stdout",
          "output_type": "stream",
          "text": [
            "Epoch 0 loss: 4.41909\n",
            "Epoch 100 loss: 3.21545\n",
            "Epoch 200 loss: 3.21544\n",
            "Epoch 300 loss: 3.21544\n",
            "Epoch 400 loss: 3.21544\n",
            "Epoch 500 loss: 3.21544\n",
            "Epoch 600 loss: 3.21544\n",
            "Epoch 700 loss: 3.21544\n",
            "Epoch 800 loss: 3.21544\n",
            "Epoch 900 loss: 3.21544\n",
            "Epoch 1000 loss: 3.21544\n",
            "Epoch 1100 loss: 3.21544\n",
            "Epoch 1200 loss: 3.21544\n",
            "Epoch 1300 loss: 3.21544\n",
            "Epoch 1400 loss: 3.21544\n",
            "Epoch 1500 loss: 3.21544\n",
            "Epoch 1600 loss: 3.21544\n",
            "Epoch 1700 loss: 3.21544\n",
            "Epoch 1800 loss: 3.21544\n",
            "Epoch 1900 loss: 3.21544\n",
            "Epoch 2000 loss: 3.21544\n",
            "Epoch 2100 loss: 3.21544\n",
            "Epoch 2200 loss: 3.21544\n",
            "Epoch 2300 loss: 3.21544\n",
            "Epoch 2400 loss: 3.21544\n",
            "Epoch 2500 loss: 3.21544\n",
            "Epoch 2600 loss: 3.21544\n",
            "Epoch 2700 loss: 3.21544\n",
            "Epoch 2800 loss: 3.21544\n",
            "Epoch 2900 loss: 3.21544\n",
            "Epoch 3000 loss: 3.21544\n",
            "Epoch 3100 loss: 3.21544\n",
            "Epoch 3200 loss: 3.21544\n",
            "Epoch 3300 loss: 3.21544\n",
            "Epoch 3400 loss: 3.21544\n",
            "Epoch 3500 loss: 3.21544\n",
            "Epoch 3600 loss: 3.21544\n",
            "Epoch 3700 loss: 3.21544\n",
            "Epoch 3800 loss: 3.21544\n",
            "Epoch 3900 loss: 3.21544\n",
            "Epoch 4000 loss: 3.21544\n",
            "Epoch 4100 loss: 3.21544\n",
            "Epoch 4200 loss: 3.21544\n",
            "Epoch 4300 loss: 3.21544\n",
            "Epoch 4400 loss: 3.21544\n",
            "Epoch 4500 loss: 3.21544\n",
            "Epoch 4600 loss: 3.21544\n",
            "Epoch 4700 loss: 3.21544\n",
            "Epoch 4800 loss: 3.21544\n",
            "Epoch 4900 loss: 3.21544\n",
            "Epoch 5000 loss: 3.21544\n",
            "Epoch 5100 loss: 3.21544\n",
            "Epoch 5200 loss: 3.21544\n",
            "Epoch 5300 loss: 3.21544\n",
            "Epoch 5400 loss: 3.21544\n",
            "Epoch 5500 loss: 3.21544\n",
            "Epoch 5600 loss: 3.21544\n",
            "Epoch 5700 loss: 3.21544\n",
            "Epoch 5800 loss: 3.21544\n",
            "Epoch 5900 loss: 3.21544\n",
            "Epoch 6000 loss: 3.21544\n",
            "Epoch 6100 loss: 3.21544\n",
            "Epoch 6200 loss: 3.21544\n",
            "Epoch 6300 loss: 3.21544\n",
            "Epoch 6400 loss: 3.21544\n",
            "Epoch 6500 loss: 3.21544\n",
            "Epoch 6600 loss: 3.21544\n",
            "Epoch 6700 loss: 3.21544\n",
            "Epoch 6800 loss: 3.21544\n",
            "Epoch 6900 loss: 3.21544\n",
            "Epoch 7000 loss: 3.21544\n",
            "Epoch 7100 loss: 3.21544\n",
            "Epoch 7200 loss: 3.21544\n",
            "Epoch 7300 loss: 3.21544\n",
            "Epoch 7400 loss: 3.21544\n",
            "Epoch 7500 loss: 3.21544\n",
            "Epoch 7600 loss: 3.21544\n",
            "Epoch 7700 loss: 3.21544\n",
            "Epoch 7800 loss: 3.21544\n",
            "Epoch 7900 loss: 3.21544\n",
            "Epoch 8000 loss: 3.21544\n",
            "Epoch 8100 loss: 3.21544\n",
            "Epoch 8200 loss: 3.21544\n",
            "Epoch 8300 loss: 3.21544\n",
            "Epoch 8400 loss: 3.21544\n",
            "Epoch 8500 loss: 3.21544\n",
            "Epoch 8600 loss: 3.21544\n",
            "Epoch 8700 loss: 3.21544\n",
            "Epoch 8800 loss: 3.21544\n",
            "Epoch 8900 loss: 3.21544\n",
            "Epoch 9000 loss: 3.21544\n",
            "Epoch 9100 loss: 3.21544\n",
            "Epoch 9200 loss: 3.21544\n",
            "Epoch 9300 loss: 3.21544\n",
            "Epoch 9400 loss: 3.21544\n",
            "Epoch 9500 loss: 3.21544\n",
            "Epoch 9600 loss: 3.21544\n",
            "Epoch 9700 loss: 3.21544\n",
            "Epoch 9800 loss: 3.21544\n",
            "Epoch 9900 loss: 3.21544\n"
          ]
        }
      ],
      "source": [
        "# 繰り返し計算メインループ\n",
        "\n",
        "for epoch in range(num_epochs):\n",
        "    \n",
        "    # 勾配値初期化\n",
        "    optimizer.zero_grad()\n",
        "\n",
        "    # 予測計算\n",
        "    outputs = net2(inputs)\n",
        "  \n",
        "    # 誤差計算\n",
        "    loss = criterion(outputs, labels)\n",
        "\n",
        "    #勾配計算\n",
        "    loss.backward()\n",
        "\n",
        "    # 勾配降下法の適用\n",
        "    optimizer.step()\n",
        "\n",
        "    # 100回ごとに途中経過を記録する\n",
        "    if ( epoch % 100 == 0):\n",
        "        history = np.vstack((history, np.array([epoch, loss.item()])))\n",
        "        print(f'Epoch {epoch} loss: {loss.item():.5f}')"
      ]
    },
    {
      "cell_type": "code",
      "execution_count": 19,
      "metadata": {
        "id": "8Dem98PE_ApM"
      },
      "outputs": [
        {
          "data": {
            "image/png": "[encoded data removed]",
            "text/plain": [
              "<Figure size 600x600 with 1 Axes>"
            ]
          },
          "metadata": {},
          "output_type": "display_data"
        }
      ],
      "source": [
        "# 結果のグラフ化\n",
        "labels_pred2 = net2(inputs_test)\n",
        "\n",
        "plt.title('隠れ層２層　活性化関数なし')\n",
        "plt.scatter(inputs_test[:,0].data, labels_pred2[:,0].data, c='b', label='予測値')\n",
        "plt.scatter(inputs_test[:,0].data, labels_test[:,0].data, c='k', marker='x',label='正解値')\n",
        "plt.legend()\n",
        "plt.show()\n"
      ]
    },
    {
      "cell_type": "markdown",
      "metadata": {
        "id": "PFvMf5on_TwP"
      },
      "source": [
        "### ディープラーニング(活性化関数あり)の場合"
      ]
    },
    {
      "cell_type": "code",
      "execution_count": 20,
      "metadata": {
        "id": "R-oqefSk_FiB"
      },
      "outputs": [],
      "source": [
        "# モデルの定義\n",
        "\n",
        "class Net3(nn.Module):\n",
        "    def __init__(self):\n",
        "        #  親クラスnn.Modulesの初期化呼び出し\n",
        "        super().__init__()\n",
        "\n",
        "        # 出力層の定義\n",
        "        self.l1 = nn.Linear(1, 10)\n",
        "        self.l2 = nn.Linear(10, 10)\n",
        "        self.l3 = nn.Linear(10,1)\n",
        "        self.relu = nn.ReLU(inplace=True)\n",
        "        \n",
        "    # 予測関数の定義\n",
        "    def forward(self, x):\n",
        "        x1 = self.relu(self.l1(x))\n",
        "        x2 = self.relu(self.l2(x1))\n",
        "        x3 = self.l3(x2)\n",
        "        return x3"
      ]
    },
    {
      "cell_type": "code",
      "execution_count": 21,
      "metadata": {
        "id": "5W9FC-Hm_IDA"
      },
      "outputs": [],
      "source": [
        "# 学習率\n",
        "lr = 0.01\n",
        "\n",
        "# インスタンス生成　(パラメータ値初期化)\n",
        "net3 = Net3()\n",
        "\n",
        "# 最適化アルゴリズム: 勾配降下法\n",
        "optimizer = optim.SGD(net3.parameters(), lr=lr)\n",
        "\n",
        "# 損失関数： 最小二乗誤差\n",
        "criterion = nn.MSELoss()\n",
        "\n",
        "# 繰り返し回数\n",
        "num_epochs = 10000\n",
        "\n",
        "# 評価結果記録用 (損失関数値のみ記録)\n",
        "history = np.zeros((0,2))"
      ]
    },
    {
      "cell_type": "code",
      "execution_count": 22,
      "metadata": {
        "id": "o0EmBr7b_n9l"
      },
      "outputs": [
        {
          "name": "stdout",
          "output_type": "stream",
          "text": [
            "Epoch 0 loss: 5.08408\n",
            "Epoch 100 loss: 0.28362\n",
            "Epoch 200 loss: 0.14371\n",
            "Epoch 300 loss: 0.11347\n",
            "Epoch 400 loss: 0.08817\n",
            "Epoch 500 loss: 0.06928\n",
            "Epoch 600 loss: 0.05606\n",
            "Epoch 700 loss: 0.04701\n",
            "Epoch 800 loss: 0.04023\n",
            "Epoch 900 loss: 0.03493\n",
            "Epoch 1000 loss: 0.03074\n",
            "Epoch 1100 loss: 0.02731\n",
            "Epoch 1200 loss: 0.02460\n",
            "Epoch 1300 loss: 0.02222\n",
            "Epoch 1400 loss: 0.02016\n",
            "Epoch 1500 loss: 0.01860\n",
            "Epoch 1600 loss: 0.01739\n",
            "Epoch 1700 loss: 0.01602\n",
            "Epoch 1800 loss: 0.01469\n",
            "Epoch 1900 loss: 0.01359\n",
            "Epoch 2000 loss: 0.01270\n",
            "Epoch 2100 loss: 0.01198\n",
            "Epoch 2200 loss: 0.01152\n",
            "Epoch 2300 loss: 0.01113\n",
            "Epoch 2400 loss: 0.01082\n",
            "Epoch 2500 loss: 0.01056\n",
            "Epoch 2600 loss: 0.01036\n",
            "Epoch 2700 loss: 0.01024\n",
            "Epoch 2800 loss: 0.01014\n",
            "Epoch 2900 loss: 0.01006\n",
            "Epoch 3000 loss: 0.00999\n",
            "Epoch 3100 loss: 0.00994\n",
            "Epoch 3200 loss: 0.00989\n",
            "Epoch 3300 loss: 0.00985\n",
            "Epoch 3400 loss: 0.00981\n",
            "Epoch 3500 loss: 0.00978\n",
            "Epoch 3600 loss: 0.00975\n",
            "Epoch 3700 loss: 0.00972\n",
            "Epoch 3800 loss: 0.00969\n",
            "Epoch 3900 loss: 0.00966\n",
            "Epoch 4000 loss: 0.00963\n",
            "Epoch 4100 loss: 0.00960\n",
            "Epoch 4200 loss: 0.00956\n",
            "Epoch 4300 loss: 0.00953\n",
            "Epoch 4400 loss: 0.00950\n",
            "Epoch 4500 loss: 0.00948\n",
            "Epoch 4600 loss: 0.00945\n",
            "Epoch 4700 loss: 0.00942\n",
            "Epoch 4800 loss: 0.00940\n",
            "Epoch 4900 loss: 0.00938\n",
            "Epoch 5000 loss: 0.00935\n",
            "Epoch 5100 loss: 0.00933\n",
            "Epoch 5200 loss: 0.00931\n",
            "Epoch 5300 loss: 0.00929\n",
            "Epoch 5400 loss: 0.00927\n",
            "Epoch 5500 loss: 0.00925\n",
            "Epoch 5600 loss: 0.00924\n",
            "Epoch 5700 loss: 0.00922\n",
            "Epoch 5800 loss: 0.00920\n",
            "Epoch 5900 loss: 0.00919\n",
            "Epoch 6000 loss: 0.00917\n",
            "Epoch 6100 loss: 0.00915\n",
            "Epoch 6200 loss: 0.00913\n",
            "Epoch 6300 loss: 0.00912\n",
            "Epoch 6400 loss: 0.00910\n",
            "Epoch 6500 loss: 0.00909\n",
            "Epoch 6600 loss: 0.00908\n",
            "Epoch 6700 loss: 0.00906\n",
            "Epoch 6800 loss: 0.00905\n",
            "Epoch 6900 loss: 0.00904\n",
            "Epoch 7000 loss: 0.00903\n",
            "Epoch 7100 loss: 0.00902\n",
            "Epoch 7200 loss: 0.00901\n",
            "Epoch 7300 loss: 0.00900\n",
            "Epoch 7400 loss: 0.00899\n",
            "Epoch 7500 loss: 0.00898\n",
            "Epoch 7600 loss: 0.00897\n",
            "Epoch 7700 loss: 0.00896\n",
            "Epoch 7800 loss: 0.00896\n",
            "Epoch 7900 loss: 0.00895\n",
            "Epoch 8000 loss: 0.00894\n",
            "Epoch 8100 loss: 0.00893\n",
            "Epoch 8200 loss: 0.00892\n",
            "Epoch 8300 loss: 0.00892\n",
            "Epoch 8400 loss: 0.00891\n",
            "Epoch 8500 loss: 0.00890\n",
            "Epoch 8600 loss: 0.00890\n",
            "Epoch 8700 loss: 0.00889\n",
            "Epoch 8800 loss: 0.00888\n",
            "Epoch 8900 loss: 0.00888\n",
            "Epoch 9000 loss: 0.00887\n",
            "Epoch 9100 loss: 0.00886\n",
            "Epoch 9200 loss: 0.00886\n",
            "Epoch 9300 loss: 0.00885\n",
            "Epoch 9400 loss: 0.00885\n",
            "Epoch 9500 loss: 0.00884\n",
            "Epoch 9600 loss: 0.00884\n",
            "Epoch 9700 loss: 0.00883\n",
            "Epoch 9800 loss: 0.00883\n",
            "Epoch 9900 loss: 0.00882\n"
          ]
        }
      ],
      "source": [
        "# 繰り返し計算メインループ\n",
        "\n",
        "for epoch in range(num_epochs):\n",
        "    \n",
        "    # 勾配値初期化\n",
        "    optimizer.zero_grad()\n",
        "\n",
        "    # 予測計算\n",
        "    outputs = net3(inputs)\n",
        "  \n",
        "    # 誤差計算\n",
        "    loss = criterion(outputs, labels)\n",
        "\n",
        "    #勾配計算\n",
        "    loss.backward()\n",
        "\n",
        "    # 勾配降下法の適用\n",
        "    optimizer.step()\n",
        "\n",
        "    # 100回ごとに途中経過を記録する\n",
        "    if ( epoch % 100 == 0):\n",
        "        history = np.vstack((history, np.array([epoch, loss.item()])))\n",
        "        print(f'Epoch {epoch} loss: {loss.item():.5f}')"
      ]
    },
    {
      "cell_type": "code",
      "execution_count": 23,
      "metadata": {
        "id": "6JFjZsuD_vBE"
      },
      "outputs": [
        {
          "data": {
            "image/png": "[encoded data removed]",
            "text/plain": [
              "<Figure size 600x600 with 1 Axes>"
            ]
          },
          "metadata": {},
          "output_type": "display_data"
        }
      ],
      "source": [
        "# 結果の可視化\n",
        "labels_pred3 = net3(inputs_test)\n",
        "\n",
        "plt.title('隠れ層２層　活性化関数あり')\n",
        "plt.scatter(inputs_test[:,0].data, labels_pred3[:,0].data, c='b', label='予測値')\n",
        "plt.scatter(inputs_test[:,0].data, labels_test[:,0].data, c='k', marker='x',label='正解値')\n",
        "plt.legend()\n",
        "plt.show()\n"
      ]
    },
    {
      "cell_type": "code",
      "execution_count": null,
      "metadata": {
        "id": "A5uo6qCu_r2e"
      },
      "outputs": [],
      "source": []
    }
  ],
  "metadata": {
    "colab": {
      "collapsed_sections": [],
      "name": "ch04_model_dev.ipynb",
      "provenance": [],
      "toc_visible": true
    },
    "kernelspec": {
      "display_name": "Python 3",
      "language": "python",
      "name": "python3"
    },
    "language_info": {
      "codemirror_mode": {
        "name": "ipython",
        "version": 3
      },
      "file_extension": ".py",
      "mimetype": "text/x-python",
      "name": "python",
      "nbconvert_exporter": "python",
      "pygments_lexer": "ipython3",
      "version": "3.8.16"
    }
  },
  "nbformat": 4,
  "nbformat_minor": 0
}
