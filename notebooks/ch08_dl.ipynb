{
  "cells": [
    {
      "cell_type": "markdown",
      "metadata": {
        "id": "-sq7LWW1GyMr"
      },
      "source": [
        "# 8章　MNISTを使った数字認識"
      ]
    },
    {
      "cell_type": "code",
      "execution_count": 2,
      "metadata": {
        "id": "m4NAwf20QRbN"
      },
      "outputs": [
        {
          "name": "stdout",
          "output_type": "stream",
          "text": [
            "Successfully installed japanize_matplotlib-1.1.3\n",
            "Successfully installed graphviz-0.20.1 torchviz-0.0.2\n",
            "Successfully installed torchinfo-1.7.2\n"
          ]
        }
      ],
      "source": [
        "# 必要ライブラリの導入\n",
        "\n",
        "!pip install japanize_matplotlib | tail -n 1\n",
        "!pip install torchviz | tail -n 1\n",
        "!pip install torchinfo | tail -n 1"
      ]
    },
    {
      "cell_type": "code",
      "execution_count": 3,
      "metadata": {
        "id": "wIKc0rgJQRbQ"
      },
      "outputs": [],
      "source": [
        "# 必要ライブラリのインポート\n",
        "\n",
        "%matplotlib inline\n",
        "import numpy as np\n",
        "import matplotlib.pyplot as plt\n",
        "import japanize_matplotlib\n",
        "from IPython.display import display"
      ]
    },
    {
      "cell_type": "code",
      "execution_count": 4,
      "metadata": {
        "id": "R4AKptKEQRbQ"
      },
      "outputs": [
        {
          "name": "stderr",
          "output_type": "stream",
          "text": [
            "/home/miyawaki/anaconda3/envs/irvs_get_started/lib/python3.10/site-packages/tqdm/auto.py:21: TqdmWarning: IProgress not found. Please update jupyter and ipywidgets. See https://ipywidgets.readthedocs.io/en/stable/user_install.html\n",
            "  from .autonotebook import tqdm as notebook_tqdm\n"
          ]
        }
      ],
      "source": [
        "# torch関連ライブラリのインポート\n",
        "\n",
        "import torch\n",
        "import torch.nn as nn\n",
        "import torch.optim as optim\n",
        "from torchinfo import summary\n",
        "from torchviz import make_dot"
      ]
    },
    {
      "cell_type": "code",
      "execution_count": 5,
      "metadata": {
        "id": "OaJvhUX1QRbR"
      },
      "outputs": [],
      "source": [
        "# warning表示off\n",
        "import warnings\n",
        "warnings.simplefilter('ignore')\n",
        "\n",
        "# デフォルトフォントサイズ変更\n",
        "plt.rcParams['font.size'] = 14\n",
        "\n",
        "# デフォルトグラフサイズ変更\n",
        "plt.rcParams['figure.figsize'] = (6,6)\n",
        "\n",
        "# デフォルトで方眼表示ON\n",
        "plt.rcParams['axes.grid'] = True\n",
        "\n",
        "# numpyの表示桁数設定\n",
        "np.set_printoptions(suppress=True, precision=5)"
      ]
    },
    {
      "cell_type": "markdown",
      "metadata": {
        "id": "-vlvZjd_y8fw"
      },
      "source": [
        "## 8.3 ReLU関数"
      ]
    },
    {
      "cell_type": "code",
      "execution_count": 6,
      "metadata": {
        "id": "Qr0e6fNJztAr"
      },
      "outputs": [
        {
          "data": {
            "image/png": "[encoded data removed]",
            "text/plain": [
              "<Figure size 600x600 with 1 Axes>"
            ]
          },
          "metadata": {},
          "output_type": "display_data"
        }
      ],
      "source": [
        "# ReLU関数のグラフ\n",
        "\n",
        "relu = nn.ReLU()\n",
        "x_np = np.arange(-2, 2.1, 0.25)\n",
        "x = torch.tensor(x_np).float()\n",
        "y = relu(x)\n",
        "\n",
        "plt.plot(x.data, y.data)\n",
        "plt.title('ReLU関数')\n",
        "plt.show()"
      ]
    },
    {
      "cell_type": "markdown",
      "metadata": {
        "id": "JuXnWk6jtpfW"
      },
      "source": [
        "## 8.4 GPU利用"
      ]
    },
    {
      "cell_type": "markdown",
      "metadata": {
        "id": "G9dK3ibfzWDW"
      },
      "source": [
        "### GPUチェック"
      ]
    },
    {
      "cell_type": "code",
      "execution_count": 7,
      "metadata": {
        "id": "-vMUHy9RGyNB"
      },
      "outputs": [
        {
          "name": "stdout",
          "output_type": "stream",
          "text": [
            "cuda:0\n",
            "True\n"
          ]
        }
      ],
      "source": [
        "# デバイスの割り当て\n",
        "device = torch.device(\"cuda:0\")\n",
        "print(device)\n",
        "print(torch.cuda.is_available())"
      ]
    },
    {
      "cell_type": "code",
      "execution_count": 8,
      "metadata": {
        "id": "Z-koKiUTy8fx"
      },
      "outputs": [
        {
          "name": "stdout",
          "output_type": "stream",
          "text": [
            "tensor([ 2.0000,  1.3125,  0.7500,  0.3125, -0.0000, -0.1875, -0.2500, -0.1875,\n",
            "         0.0000,  0.3125,  0.7500,  1.3125,  2.0000,  2.8125,  3.7500,  4.8125,\n",
            "         6.0000])\n"
          ]
        }
      ],
      "source": [
        "# テスト用tensor変数x , y \n",
        "x_np = np.arange(-2.0, 2.1, 0.25)\n",
        "y_np = np.arange(-1.0, 3.1, 0.25)\n",
        "x = torch.tensor(x_np).float()\n",
        "y = torch.tensor(y_np).float()\n",
        "\n",
        "# xとyの間の演算\n",
        "z = x * y\n",
        "print(z)"
      ]
    },
    {
      "cell_type": "code",
      "execution_count": 9,
      "metadata": {
        "id": "1-VBUQL135T3"
      },
      "outputs": [
        {
          "name": "stdout",
          "output_type": "stream",
          "text": [
            "x:  cuda:0\n",
            "y:  cpu\n"
          ]
        }
      ],
      "source": [
        "# 変数xをGPUに送る\n",
        "x = x.to(device)\n",
        "\n",
        "# 変数xとyの属性data, deviceの確認\n",
        "print('x: ', x.device)\n",
        "print('y: ', y.device)"
      ]
    },
    {
      "cell_type": "code",
      "execution_count": 10,
      "metadata": {
        "id": "ovOqHX2735yN"
      },
      "outputs": [
        {
          "ename": "RuntimeError",
          "evalue": "Expected all tensors to be on the same device, but found at least two devices, cuda:0 and cpu!",
          "output_type": "error",
          "traceback": [
            "\u001b[0;31m---------------------------------------------------------------------------\u001b[0m",
            "\u001b[0;31mRuntimeError\u001b[0m                              Traceback (most recent call last)",
            "Cell \u001b[0;32mIn[10], line 3\u001b[0m\n\u001b[1;32m      1\u001b[0m \u001b[39m# この状態でxとyの演算をすると。。。\u001b[39;00m\n\u001b[0;32m----> 3\u001b[0m z \u001b[39m=\u001b[39m x \u001b[39m*\u001b[39;49m y\n",
            "\u001b[0;31mRuntimeError\u001b[0m: Expected all tensors to be on the same device, but found at least two devices, cuda:0 and cpu!"
          ]
        }
      ],
      "source": [
        "# この状態でxとyの演算をすると。。。\n",
        "\n",
        "z = x * y"
      ]
    },
    {
      "cell_type": "code",
      "execution_count": 11,
      "metadata": {
        "id": "qavPREnP359u"
      },
      "outputs": [
        {
          "name": "stdout",
          "output_type": "stream",
          "text": [
            "tensor([ 2.0000,  1.3125,  0.7500,  0.3125, -0.0000, -0.1875, -0.2500, -0.1875,\n",
            "         0.0000,  0.3125,  0.7500,  1.3125,  2.0000,  2.8125,  3.7500,  4.8125,\n",
            "         6.0000], device='cuda:0')\n"
          ]
        }
      ],
      "source": [
        "# yもGPUに送る\n",
        "y = y.to(device)\n",
        "\n",
        "# 今度は計算可能になる\n",
        "z = x * y\n",
        "print(z)"
      ]
    },
    {
      "cell_type": "markdown",
      "metadata": {
        "id": "7S2H468hORq2"
      },
      "source": [
        "## 8.8 データ準備1 (データセットによる読み込み)"
      ]
    },
    {
      "cell_type": "code",
      "execution_count": 12,
      "metadata": {
        "id": "nbjBR_ZAORq3"
      },
      "outputs": [],
      "source": [
        "# ライブラリインポート\n",
        "import torchvision.datasets as datasets\n",
        "\n",
        "# ダウンロード先ディレクトリ名\n",
        "data_root = './data'\n",
        "\n",
        "train_set0 = datasets.MNIST(\n",
        "    # 元データダウンロード先の指定\n",
        "    root = data_root,  \n",
        "    # 訓練データか検証データか\n",
        "    train = True,  \n",
        "    # 元データがない場合にダウンロードするか\n",
        "    download = True)"
      ]
    },
    {
      "cell_type": "code",
      "execution_count": 13,
      "metadata": {
        "id": "yZDvzf2nSc8n"
      },
      "outputs": [
        {
          "name": "stdout",
          "output_type": "stream",
          "text": [
            "./data/MNIST:\n",
            "合計 0\n",
            "drwxrwxr-x 2 miyawaki miyawaki 262  5月  1 14:16 raw\n",
            "\n",
            "./data/MNIST/raw:\n",
            "合計 65008\n",
            "-rw-rw-r-- 1 miyawaki miyawaki  7840016  5月  1 14:16 t10k-images-idx3-ubyte\n",
            "-rw-rw-r-- 1 miyawaki miyawaki  1648877  5月  1 14:16 t10k-images-idx3-ubyte.gz\n",
            "-rw-rw-r-- 1 miyawaki miyawaki    10008  5月  1 14:16 t10k-labels-idx1-ubyte\n",
            "-rw-rw-r-- 1 miyawaki miyawaki     4542  5月  1 14:16 t10k-labels-idx1-ubyte.gz\n",
            "-rw-rw-r-- 1 miyawaki miyawaki 47040016  5月  1 14:16 train-images-idx3-ubyte\n",
            "-rw-rw-r-- 1 miyawaki miyawaki  9912422  5月  1 14:16 train-images-idx3-ubyte.gz\n",
            "-rw-rw-r-- 1 miyawaki miyawaki    60008  5月  1 14:16 train-labels-idx1-ubyte\n",
            "-rw-rw-r-- 1 miyawaki miyawaki    28881  5月  1 14:16 train-labels-idx1-ubyte.gz\n"
          ]
        }
      ],
      "source": [
        "# ダウンロードしたファイルの確認\n",
        "\n",
        "!ls -lR ./data/MNIST"
      ]
    },
    {
      "cell_type": "code",
      "execution_count": 14,
      "metadata": {
        "id": "DTnvCClZh93k"
      },
      "outputs": [
        {
          "name": "stdout",
          "output_type": "stream",
          "text": [
            "データ件数:  60000\n",
            "入力データの型:  <class 'PIL.Image.Image'>\n",
            "正解データの型:  <class 'int'>\n"
          ]
        }
      ],
      "source": [
        "# データ件数の確認\n",
        "print('データ件数: ', len(train_set0))\n",
        "\n",
        "# 最初の要素の取得\n",
        "image, label = train_set0[0]\n",
        "\n",
        "# データ型の確認\n",
        "print('入力データの型: ', type(image))\n",
        "print('正解データの型: ', type(label))"
      ]
    },
    {
      "cell_type": "code",
      "execution_count": 15,
      "metadata": {
        "id": "zax7TjeCORq5"
      },
      "outputs": [
        {
          "data": {
            "image/png": "[encoded data removed]",
            "text/plain": [
              "<Figure size 200x300 with 1 Axes>"
            ]
          },
          "metadata": {},
          "output_type": "display_data"
        }
      ],
      "source": [
        "# 入力データの画像表示\n",
        "\n",
        "plt.figure(figsize=(2,3))\n",
        "plt.title(f'{label}')\n",
        "plt.imshow(image, cmap='gray_r')\n",
        "plt.axis('off')\n",
        "plt.show()"
      ]
    },
    {
      "cell_type": "code",
      "execution_count": 24,
      "metadata": {
        "id": "cltigf4xh95z"
      },
      "outputs": [
        {
          "data": {
            "image/png": "[encoded data removed]",
            "text/plain": [
              "<Figure size 1000x300 with 30 Axes>"
            ]
          },
          "metadata": {},
          "output_type": "display_data"
        }
      ],
      "source": [
        "# 正解データ付きで、最初の20個をイメージ表示\n",
        "\n",
        "plt.figure(figsize=(10, 3))\n",
        "for i in range(30):\n",
        "    ax = plt.subplot(2, 15, i+1) # 2行15列のグラフのi+1番目, 3つめの引数はサブ領域の番号\n",
        "    image, label = train_set0[i]\n",
        "    # イメージ表示\n",
        "    plt.imshow(image, cmap='gray_r')\n",
        "    ax.set_title(f'{label}')\n",
        "    ax.get_xaxis().set_visible(False)\n",
        "    ax.get_yaxis().set_visible(False)\n",
        "plt.show()"
      ]
    },
    {
      "cell_type": "markdown",
      "metadata": {
        "id": "H69fmQI0ORq6"
      },
      "source": [
        "## 8.9 データ準備2 (Transformsによるデータ前処理)"
      ]
    },
    {
      "cell_type": "markdown",
      "metadata": {
        "id": "8_LMC1gpORq6"
      },
      "source": [
        "### Step1 ToTensorの利用"
      ]
    },
    {
      "cell_type": "code",
      "execution_count": 25,
      "metadata": {
        "id": "1JBDhjnIORq6"
      },
      "outputs": [],
      "source": [
        "# ライブラリインポート\n",
        "import torchvision.transforms as transforms\n",
        "\n",
        "transform1 = transforms.Compose([\n",
        "    # データのTensor化\n",
        "    transforms.ToTensor(),\n",
        "])\n",
        "\n",
        "train_set1 = datasets.MNIST(\n",
        "    root=data_root,  train=True,  download=True,\n",
        "    transform = transform1)"
      ]
    },
    {
      "cell_type": "code",
      "execution_count": 26,
      "metadata": {
        "id": "fHERq6bDORq6"
      },
      "outputs": [
        {
          "name": "stdout",
          "output_type": "stream",
          "text": [
            "入力データの型:  <class 'torch.Tensor'>\n",
            "入力データのshape:  torch.Size([1, 28, 28])\n",
            "最小値:  tensor(0.)\n",
            "最大値:  tensor(1.)\n"
          ]
        }
      ],
      "source": [
        "# 変換結果の確認\n",
        "\n",
        "image, label = train_set1[0]\n",
        "print('入力データの型: ', type(image))\n",
        "print('入力データのshape: ', image.shape)\n",
        "print('最小値: ', image.data.min())\n",
        "print('最大値: ', image.data.max())"
      ]
    },
    {
      "cell_type": "markdown",
      "metadata": {
        "id": "Vc0HYDp_ORq7"
      },
      "source": [
        "### Step2 Normalizeの利用"
      ]
    },
    {
      "cell_type": "code",
      "execution_count": 27,
      "metadata": {
        "id": "EGCtROV8ORq7"
      },
      "outputs": [],
      "source": [
        "# transforms.Composeで複数の前処理をまとめて実行\n",
        "transform2 = transforms.Compose([\n",
        "    # データのTensor化\n",
        "    transforms.ToTensor(),\n",
        "    \n",
        "    # データの正規化\n",
        "    transforms.Normalize(0.5,  0.5),\n",
        "])\n",
        "# Normalize(平均, 標準偏差)となる。x_new = (x - 0.5) / 0.5 となるので、x_new = 2x-1となる\n",
        "# もともとのデータは0-1の範囲なので、-1から1の範囲になる\n",
        "\n",
        "train_set2 = datasets.MNIST(\n",
        "    root = data_root,  train = True,  download = True,\n",
        "    transform = transform2) \n",
        "#q: transformには何を指定するか\n",
        "#a: データの前処理を指定する"
      ]
    },
    {
      "cell_type": "code",
      "execution_count": 28,
      "metadata": {
        "id": "y0R6AO1BORq7"
      },
      "outputs": [
        {
          "name": "stdout",
          "output_type": "stream",
          "text": [
            "shape:  torch.Size([1, 28, 28])\n",
            "最小値:  tensor(-1.)\n",
            "最大値:  tensor(1.)\n"
          ]
        }
      ],
      "source": [
        "# 変換結果の確認\n",
        "\n",
        "image, label = train_set2[0]\n",
        "print('shape: ', image.shape)\n",
        "print('最小値: ', image.data.min())\n",
        "print('最大値: ', image.data.max())"
      ]
    },
    {
      "attachments": {},
      "cell_type": "markdown",
      "metadata": {},
      "source": [
        "上の確認でわかるように、入力サイズは28 x 28で最小値と最大値は−１から１になっている。"
      ]
    },
    {
      "cell_type": "markdown",
      "metadata": {
        "id": "C3cZ9aT9ORq8"
      },
      "source": [
        "### Step3 Lambdaを利用して1階テンソル化"
      ]
    },
    {
      "cell_type": "code",
      "execution_count": 29,
      "metadata": {
        "id": "jsZ1B1MXORq8"
      },
      "outputs": [],
      "source": [
        "transform3 = transforms.Compose([\n",
        "    # データのTensor化\n",
        "    transforms.ToTensor(),\n",
        "    \n",
        "    # データの正規化\n",
        "    transforms.Normalize(0.5, 0.5),\n",
        "    \n",
        "    # Tensorの1階テンソル化\n",
        "    transforms.Lambda(lambda x: x.view(-1)), #viewはテンソルの場合に次元を変更する関数\n",
        "])\n",
        "\n",
        "train_set3 = datasets.MNIST(\n",
        "    root = data_root,  train = True,  \n",
        "    download=True, transform = transform3)"
      ]
    },
    {
      "cell_type": "code",
      "execution_count": 30,
      "metadata": {
        "id": "kQFnaPTnORq8"
      },
      "outputs": [
        {
          "name": "stdout",
          "output_type": "stream",
          "text": [
            "shape:  torch.Size([784])\n",
            "最小値:  tensor(-1.)\n",
            "最大値:  tensor(1.)\n"
          ]
        }
      ],
      "source": [
        "# 変換結果の確認\n",
        "\n",
        "image, label = train_set3[0]\n",
        "print('shape: ', image.shape)\n",
        "print('最小値: ', image.data.min())\n",
        "print('最大値: ', image.data.max())"
      ]
    },
    {
      "cell_type": "markdown",
      "metadata": {
        "id": "Lm2hP2TtORq9"
      },
      "source": [
        "### 最終的な実装"
      ]
    },
    {
      "cell_type": "code",
      "execution_count": 31,
      "metadata": {
        "id": "3LuXsts3ORq9"
      },
      "outputs": [],
      "source": [
        "# データ変換用関数 Transforms\n",
        "# (1) Imageをテンソル化\n",
        "# (2) [0, 1]の範囲の値を[-1, 1]の範囲にする\n",
        "# (3) データのshapeを[1, 28, 28]から[784]に変換\n",
        "\n",
        "transform = transforms.Compose([\n",
        "    # (1) データのテンソル化\n",
        "    transforms.ToTensor(),\n",
        "    \n",
        "    # (2) データの正規化\n",
        "    transforms.Normalize(0.5, 0.5),\n",
        "    \n",
        "    # (3) 1階テンソルに変換\n",
        "    transforms.Lambda(lambda x: x.view(-1)),\n",
        "])"
      ]
    },
    {
      "cell_type": "code",
      "execution_count": 32,
      "metadata": {
        "id": "3gEppo6VORq9"
      },
      "outputs": [],
      "source": [
        "# データ取得用関数 Dataset\n",
        "\n",
        "# 訓練用データセットの定義\n",
        "train_set = datasets.MNIST(\n",
        "    root = data_root, train = True,\n",
        "    download = True, transform = transform)\n",
        "\n",
        "# 検証データセットの定義\n",
        "test_set = datasets.MNIST(\n",
        "    root = data_root, train = False, \n",
        "    download = True, transform = transform)"
      ]
    },
    {
      "cell_type": "markdown",
      "metadata": {
        "id": "oE2YPjEFORq-"
      },
      "source": [
        "## 8.10 データ準備3 データローダーによるミニバッチ用データ生成)"
      ]
    },
    {
      "cell_type": "code",
      "execution_count": 33,
      "metadata": {
        "id": "c5Jog4MHORq-"
      },
      "outputs": [],
      "source": [
        "# ライブラリインポート\n",
        "from torch.utils.data import DataLoader\n",
        "\n",
        "# ミニバッチのサイズ指定\n",
        "batch_size = 500\n",
        "\n",
        "# 訓練用データローダー\n",
        "# 訓練用なので、シャッフルをかける\n",
        "train_loader = DataLoader(\n",
        "    train_set, batch_size = batch_size, \n",
        "    shuffle = True)\n",
        "\n",
        "# 検証用データローダー\n",
        "# 検証時にシャッフルは不要\n",
        "test_loader = DataLoader(\n",
        "    test_set,  batch_size = batch_size, \n",
        "    shuffle = False) "
      ]
    },
    {
      "cell_type": "code",
      "execution_count": 34,
      "metadata": {
        "id": "xpWvs4n9ORq-"
      },
      "outputs": [
        {
          "name": "stdout",
          "output_type": "stream",
          "text": [
            "120\n",
            "torch.Size([500, 784])\n",
            "torch.Size([500])\n"
          ]
        }
      ],
      "source": [
        "# 何組のデータが取得できるか\n",
        "print(len(train_loader))\n",
        "\n",
        "# DataLoaderから最初の1セットを取得する\n",
        "for images, labels in train_loader:\n",
        "    break\n",
        "\n",
        "print(images.shape)\n",
        "print(labels.shape)"
      ]
    },
    {
      "cell_type": "code",
      "execution_count": 35,
      "metadata": {
        "id": "uIk15hXpORq_"
      },
      "outputs": [
        {
          "data": {
            "image/png": "[encoded data removed]",
            "text/plain": [
              "<Figure size 1000x300 with 20 Axes>"
            ]
          },
          "metadata": {},
          "output_type": "display_data"
        }
      ],
      "source": [
        "# イメージ表示\n",
        "plt.figure(figsize=(10, 3))\n",
        "for i in range(20):\n",
        "    ax = plt.subplot(2, 10, i + 1)\n",
        "    \n",
        "    # numpyに変換\n",
        "    image = images[i].numpy()\n",
        "    label = labels[i]\n",
        "    \n",
        "    # imgの範囲を[0, 1]に戻す\n",
        "    image2 = (image + 1)/ 2\n",
        "    # イメージ表示\n",
        "    plt.imshow(image2.reshape(28, 28),cmap='gray_r')\n",
        "    ax.set_title(f'{label}')\n",
        "    ax.get_xaxis().set_visible(False)\n",
        "    ax.get_yaxis().set_visible(False)\n",
        "plt.show()"
      ]
    },
    {
      "cell_type": "markdown",
      "metadata": {
        "id": "C68aEOhrGyNA"
      },
      "source": [
        "全体で60000件ある訓練データが120個のグループに分割されて取得できていることがわかります。  \n",
        "今回はテスト用でシャッフルなしでデータを取得しましたが、訓練データは取得のたびにシャッフルがかかります。  \n",
        "つまり、ミニバッチ用のデータセットが自動的に取得できていることになります。"
      ]
    },
    {
      "cell_type": "markdown",
      "metadata": {
        "id": "ZBHL-ynpTx6X"
      },
      "source": [
        "## 8.11 モデル定義"
      ]
    },
    {
      "cell_type": "code",
      "execution_count": 36,
      "metadata": {
        "id": "uIXhfySWTx6Y"
      },
      "outputs": [
        {
          "name": "stdout",
          "output_type": "stream",
          "text": [
            "n_input: 784  n_hidden: 128 n_output: 10\n"
          ]
        }
      ],
      "source": [
        "# 入力次元数\n",
        "n_input = image.shape[0]\n",
        "\n",
        "# 出力次元数\n",
        "# 分類先クラス数　今回は10になる\n",
        "n_output = 10\n",
        "\n",
        "#   隠れ層のノード数\n",
        "n_hidden = 128\n",
        "\n",
        "# 結果確認\n",
        "print(f'n_input: {n_input}  n_hidden: {n_hidden} n_output: {n_output}')"
      ]
    },
    {
      "cell_type": "code",
      "execution_count": 37,
      "metadata": {
        "id": "GIHt22OFGyNC"
      },
      "outputs": [],
      "source": [
        "# モデルの定義\n",
        "# 784入力10出力1隠れ層のニューラルネットワークモデル\n",
        "\n",
        "class Net(nn.Module):\n",
        "    def __init__(self, n_input, n_output, n_hidden):\n",
        "        super().__init__()\n",
        "\n",
        "        # 隠れ層の定義 (隠れ層のノード数: n_hidden)\n",
        "        self.l1 = nn.Linear(n_input, n_hidden)\n",
        "\n",
        "        # 出力層の定義\n",
        "        self.l2 = nn.Linear(n_hidden, n_output)\n",
        "\n",
        "        # ReLU関数の定義\n",
        "        self.relu = nn.ReLU(inplace=True)\n",
        "   \n",
        "    def forward(self, x):\n",
        "        x1 = self.l1(x)\n",
        "        x2 = self.relu(x1)\n",
        "        x3 = self.l2(x2)\n",
        "        return x3"
      ]
    },
    {
      "cell_type": "code",
      "execution_count": 38,
      "metadata": {
        "id": "Q749IwhKGyNC"
      },
      "outputs": [],
      "source": [
        "# 乱数の固定化\n",
        "torch.manual_seed(123)\n",
        "torch.cuda.manual_seed(123)\n",
        "\n",
        "# モデルインスタンス生成\n",
        "net = Net(n_input, n_output, n_hidden)\n",
        "\n",
        "# モデルをGPU側に送る\n",
        "net = net.to(device)"
      ]
    },
    {
      "cell_type": "markdown",
      "metadata": {
        "id": "0V6v9PCpTx6b"
      },
      "source": [
        "### 最適化アルゴリズムと損失関数"
      ]
    },
    {
      "cell_type": "code",
      "execution_count": 39,
      "metadata": {
        "id": "VyIXY4i_GyNC"
      },
      "outputs": [
        {
          "ename": "NameError",
          "evalue": "name 'lr' is not defined",
          "output_type": "error",
          "traceback": [
            "\u001b[0;31m---------------------------------------------------------------------------\u001b[0m",
            "\u001b[0;31mNameError\u001b[0m                                 Traceback (most recent call last)",
            "Cell \u001b[0;32mIn[39], line 4\u001b[0m\n\u001b[1;32m      2\u001b[0m device \u001b[39m=\u001b[39m torch\u001b[39m.\u001b[39mdevice(\u001b[39m\"\u001b[39m\u001b[39mcuda\u001b[39m\u001b[39m\"\u001b[39m)\n\u001b[1;32m      3\u001b[0m \u001b[39m# アルゴリズム: 勾配降下法\u001b[39;00m\n\u001b[0;32m----> 4\u001b[0m optimizer \u001b[39m=\u001b[39m torch\u001b[39m.\u001b[39moptim\u001b[39m.\u001b[39mSGD(net\u001b[39m.\u001b[39mparameters(), lr\u001b[39m=\u001b[39mlr)\n\u001b[1;32m      6\u001b[0m \u001b[39m# 損失関数： 交差エントロピー関数\u001b[39;00m\n\u001b[1;32m      7\u001b[0m criterion \u001b[39m=\u001b[39m nn\u001b[39m.\u001b[39mCrossEntropyLoss()\n",
            "\u001b[0;31mNameError\u001b[0m: name 'lr' is not defined"
          ]
        }
      ],
      "source": [
        "# 学習率\n",
        "device = torch.device(\"cuda\")\n",
        "# アルゴリズム: 勾配降下法\n",
        "optimizer = torch.optim.SGD(net.parameters(), lr=lr)\n",
        "\n",
        "# 損失関数： 交差エントロピー関数\n",
        "criterion = nn.CrossEntropyLoss()"
      ]
    },
    {
      "cell_type": "markdown",
      "metadata": {
        "id": "YdR3zTewTx6c"
      },
      "source": [
        "### モデル確認"
      ]
    },
    {
      "cell_type": "code",
      "execution_count": null,
      "metadata": {
        "id": "fDwhdRWjMOmT"
      },
      "outputs": [],
      "source": [
        "# モデル内のパラメータの確認\n",
        "# l1.weight, l1.bias, l2.weight, l2.biasがあることがわかる\n",
        "\n",
        "for parameter in net.named_parameters():\n",
        "    print(parameter)"
      ]
    },
    {
      "cell_type": "code",
      "execution_count": null,
      "metadata": {
        "id": "b56fYbaVGyND"
      },
      "outputs": [],
      "source": [
        "# モデルの概要表示\n",
        "\n",
        "print(net)"
      ]
    },
    {
      "cell_type": "code",
      "execution_count": null,
      "metadata": {
        "id": "tl6x8W1vGyND"
      },
      "outputs": [],
      "source": [
        "# モデルのサマリー表示\n",
        "\n",
        "summary(net, (784,))"
      ]
    },
    {
      "cell_type": "markdown",
      "metadata": {
        "id": "zodDP4VcuuQl"
      },
      "source": [
        "## 8.12 勾配降下法"
      ]
    },
    {
      "cell_type": "markdown",
      "metadata": {
        "id": "UnhTGUUiBYnV"
      },
      "source": [
        "### 予測計算"
      ]
    },
    {
      "cell_type": "code",
      "execution_count": 40,
      "metadata": {
        "id": "kE5l-chbGyND"
      },
      "outputs": [],
      "source": [
        "# 訓練データセット　最初の1項目を取得\n",
        "# データローダーから最初の1セットを取得する\n",
        "for images, labels in train_loader:\n",
        "    break "
      ]
    },
    {
      "cell_type": "code",
      "execution_count": 41,
      "metadata": {
        "id": "FQax9NwFJeWs"
      },
      "outputs": [],
      "source": [
        "# データローダーから取得したデータをGPUに送る\n",
        "inputs = images.to(device)\n",
        "labels = labels.to(device)"
      ]
    },
    {
      "cell_type": "code",
      "execution_count": 42,
      "metadata": {
        "id": "tZWIl2PUJl8B"
      },
      "outputs": [
        {
          "name": "stdout",
          "output_type": "stream",
          "text": [
            "tensor([[-0.2908, -0.0540,  0.0845,  ...,  0.0779,  0.1828,  0.1080],\n",
            "        [-0.2764, -0.3271, -0.1788,  ...,  0.1037,  0.1030, -0.0235],\n",
            "        [-0.3289, -0.0409,  0.1447,  ...,  0.3945,  0.2317,  0.1213],\n",
            "        ...,\n",
            "        [-0.4067, -0.0062,  0.1470,  ...,  0.0346,  0.1045,  0.1304],\n",
            "        [-0.3684, -0.2211,  0.1907,  ...,  0.0544,  0.2114,  0.1275],\n",
            "        [-0.2524, -0.2597,  0.1427,  ...,  0.0983,  0.1258,  0.0972]],\n",
            "       device='cuda:0', grad_fn=<AddmmBackward0>)\n"
          ]
        }
      ],
      "source": [
        "# 予測計算\n",
        "outputs = net(inputs)\n",
        "\n",
        "# 結果確認\n",
        "print(outputs)"
      ]
    },
    {
      "cell_type": "markdown",
      "metadata": {
        "id": "O7D1YeAxBsD_"
      },
      "source": [
        "### 損失関数"
      ]
    },
    {
      "cell_type": "markdown",
      "metadata": {
        "id": "5PbP_nUUDsJZ"
      },
      "source": [
        "#### 損失計算と計算グラフの可視化"
      ]
    },
    {
      "cell_type": "code",
      "execution_count": 43,
      "metadata": {
        "id": "g-2E8cA_d4dF"
      },
      "outputs": [
        {
          "ename": "NameError",
          "evalue": "name 'criterion' is not defined",
          "output_type": "error",
          "traceback": [
            "\u001b[0;31m---------------------------------------------------------------------------\u001b[0m",
            "\u001b[0;31mNameError\u001b[0m                                 Traceback (most recent call last)",
            "Cell \u001b[0;32mIn[43], line 2\u001b[0m\n\u001b[1;32m      1\u001b[0m \u001b[39m#  損失計算\u001b[39;00m\n\u001b[0;32m----> 2\u001b[0m loss \u001b[39m=\u001b[39m criterion(outputs, labels)\n\u001b[1;32m      4\u001b[0m \u001b[39m# 損失値の取得\u001b[39;00m\n\u001b[1;32m      5\u001b[0m \u001b[39mprint\u001b[39m(loss\u001b[39m.\u001b[39mitem())\n",
            "\u001b[0;31mNameError\u001b[0m: name 'criterion' is not defined"
          ]
        }
      ],
      "source": [
        "#  損失計算\n",
        "loss = criterion(outputs, labels)\n",
        "\n",
        "# 損失値の取得\n",
        "print(loss.item())\n",
        "\n",
        "# 損失の計算グラフ可視化\n",
        "g = make_dot(loss, params=dict(net.named_parameters()))\n",
        "display(g)"
      ]
    },
    {
      "cell_type": "markdown",
      "metadata": {
        "id": "-ZKkOTDbByWr"
      },
      "source": [
        "### 勾配計算"
      ]
    },
    {
      "cell_type": "code",
      "execution_count": null,
      "metadata": {
        "id": "uTvRimoEiHeZ"
      },
      "outputs": [],
      "source": [
        "# 勾配計算の実行\n",
        "loss.backward()"
      ]
    },
    {
      "cell_type": "code",
      "execution_count": null,
      "metadata": {
        "id": "8xRXQnfsArTV"
      },
      "outputs": [],
      "source": [
        "# 勾配計算の結果\n",
        "w = net.to('cpu')\n",
        "print(w.l1.weight.grad.numpy())\n",
        "print(w.l1.bias.grad.numpy())\n",
        "print(w.l2.weight.grad.numpy())\n",
        "print(w.l2.bias.grad.numpy())"
      ]
    },
    {
      "cell_type": "markdown",
      "metadata": {
        "id": "PAN6zrWwB_1Q"
      },
      "source": [
        "### パラメータ修正"
      ]
    },
    {
      "cell_type": "code",
      "execution_count": null,
      "metadata": {
        "id": "Q-fIWFp7iW8_"
      },
      "outputs": [],
      "source": [
        "# 勾配降下法の適用\n",
        "optimizer.step()"
      ]
    },
    {
      "cell_type": "code",
      "execution_count": null,
      "metadata": {
        "id": "quuVCRNJij0M"
      },
      "outputs": [],
      "source": [
        "# パラメータ値の表示\n",
        "print(net.l1.weight)\n",
        "print(net.l1.bias)"
      ]
    },
    {
      "attachments": {},
      "cell_type": "markdown",
      "metadata": {
        "id": "1fuqiacmvNJq"
      },
      "source": [
        "### 繰り返し計算（ここから）"
      ]
    },
    {
      "cell_type": "code",
      "execution_count": 44,
      "metadata": {
        "id": "F_xGv4kci7XG"
      },
      "outputs": [],
      "source": [
        "# 乱数の固定化\n",
        "torch.manual_seed(123)\n",
        "torch.cuda.manual_seed(123)\n",
        "torch.backends.cudnn.deterministic = True\n",
        "torch.use_deterministic_algorithms = True\n",
        "\n",
        "# 学習率\n",
        "lr = 0.01\n",
        "\n",
        "# モデルインスタンス生成\n",
        "net = Net(n_input, n_output, n_hidden).to(device)\n",
        "\n",
        "# 損失関数： 交差エントロピー関数\n",
        "criterion = nn.CrossEntropyLoss()\n",
        "\n",
        "# 最適化関数: 勾配降下法\n",
        "optimizer = optim.SGD(net.parameters(), lr=lr)\n",
        "\n",
        "# 繰り返し回数\n",
        "num_epochs = 100\n",
        "\n",
        "# 評価結果記録用\n",
        "history = np.zeros((0,5))"
      ]
    },
    {
      "cell_type": "code",
      "execution_count": 46,
      "metadata": {
        "id": "k8e4FfOLfFV4"
      },
      "outputs": [
        {
          "name": "stderr",
          "output_type": "stream",
          "text": [
            "100%|██████████| 120/120 [00:08<00:00, 14.78it/s]\n"
          ]
        },
        {
          "name": "stdout",
          "output_type": "stream",
          "text": [
            "Epoch [1/100], loss: 1.82979 acc: 0.56707 val_loss: 1.32723, val_acc: 0.76460\n"
          ]
        },
        {
          "name": "stderr",
          "output_type": "stream",
          "text": [
            "100%|██████████| 120/120 [00:07<00:00, 15.64it/s]\n"
          ]
        },
        {
          "name": "stdout",
          "output_type": "stream",
          "text": [
            "Epoch [2/100], loss: 1.03963 acc: 0.79607 val_loss: 0.79882, val_acc: 0.83330\n"
          ]
        },
        {
          "name": "stderr",
          "output_type": "stream",
          "text": [
            "100%|██████████| 120/120 [00:07<00:00, 15.08it/s]\n"
          ]
        },
        {
          "name": "stdout",
          "output_type": "stream",
          "text": [
            "Epoch [3/100], loss: 0.70848 acc: 0.84057 val_loss: 0.60380, val_acc: 0.86080\n"
          ]
        },
        {
          "name": "stderr",
          "output_type": "stream",
          "text": [
            "100%|██████████| 120/120 [00:07<00:00, 15.01it/s]\n"
          ]
        },
        {
          "name": "stdout",
          "output_type": "stream",
          "text": [
            "Epoch [4/100], loss: 0.57304 acc: 0.86062 val_loss: 0.51197, val_acc: 0.87190\n"
          ]
        },
        {
          "name": "stderr",
          "output_type": "stream",
          "text": [
            "100%|██████████| 120/120 [00:07<00:00, 15.21it/s]\n"
          ]
        },
        {
          "name": "stdout",
          "output_type": "stream",
          "text": [
            "Epoch [5/100], loss: 0.50225 acc: 0.87170 val_loss: 0.45877, val_acc: 0.88030\n"
          ]
        },
        {
          "name": "stderr",
          "output_type": "stream",
          "text": [
            "100%|██████████| 120/120 [00:07<00:00, 15.02it/s]\n"
          ]
        },
        {
          "name": "stdout",
          "output_type": "stream",
          "text": [
            "Epoch [6/100], loss: 0.45891 acc: 0.87905 val_loss: 0.42454, val_acc: 0.88630\n"
          ]
        },
        {
          "name": "stderr",
          "output_type": "stream",
          "text": [
            "100%|██████████| 120/120 [00:08<00:00, 14.95it/s]\n"
          ]
        },
        {
          "name": "stdout",
          "output_type": "stream",
          "text": [
            "Epoch [7/100], loss: 0.42950 acc: 0.88365 val_loss: 0.39989, val_acc: 0.89040\n"
          ]
        },
        {
          "name": "stderr",
          "output_type": "stream",
          "text": [
            "100%|██████████| 120/120 [00:07<00:00, 15.23it/s]\n"
          ]
        },
        {
          "name": "stdout",
          "output_type": "stream",
          "text": [
            "Epoch [8/100], loss: 0.40810 acc: 0.88755 val_loss: 0.38295, val_acc: 0.89360\n"
          ]
        },
        {
          "name": "stderr",
          "output_type": "stream",
          "text": [
            "100%|██████████| 120/120 [00:07<00:00, 15.04it/s]\n"
          ]
        },
        {
          "name": "stdout",
          "output_type": "stream",
          "text": [
            "Epoch [9/100], loss: 0.39181 acc: 0.89043 val_loss: 0.36888, val_acc: 0.89650\n"
          ]
        },
        {
          "name": "stderr",
          "output_type": "stream",
          "text": [
            "100%|██████████| 120/120 [00:07<00:00, 15.37it/s]\n"
          ]
        },
        {
          "name": "stdout",
          "output_type": "stream",
          "text": [
            "Epoch [10/100], loss: 0.37880 acc: 0.89325 val_loss: 0.35792, val_acc: 0.89900\n"
          ]
        },
        {
          "name": "stderr",
          "output_type": "stream",
          "text": [
            "100%|██████████| 120/120 [00:07<00:00, 15.13it/s]\n"
          ]
        },
        {
          "name": "stdout",
          "output_type": "stream",
          "text": [
            "Epoch [11/100], loss: 0.36810 acc: 0.89587 val_loss: 0.34832, val_acc: 0.90130\n"
          ]
        },
        {
          "name": "stderr",
          "output_type": "stream",
          "text": [
            "100%|██████████| 120/120 [00:07<00:00, 15.63it/s]\n"
          ]
        },
        {
          "name": "stdout",
          "output_type": "stream",
          "text": [
            "Epoch [12/100], loss: 0.35927 acc: 0.89780 val_loss: 0.34038, val_acc: 0.90270\n"
          ]
        },
        {
          "name": "stderr",
          "output_type": "stream",
          "text": [
            "100%|██████████| 120/120 [00:07<00:00, 15.07it/s]\n"
          ]
        },
        {
          "name": "stdout",
          "output_type": "stream",
          "text": [
            "Epoch [13/100], loss: 0.35149 acc: 0.89948 val_loss: 0.33504, val_acc: 0.90390\n"
          ]
        },
        {
          "name": "stderr",
          "output_type": "stream",
          "text": [
            "100%|██████████| 120/120 [00:08<00:00, 14.87it/s]\n"
          ]
        },
        {
          "name": "stdout",
          "output_type": "stream",
          "text": [
            "Epoch [14/100], loss: 0.34480 acc: 0.90072 val_loss: 0.32821, val_acc: 0.90680\n"
          ]
        },
        {
          "name": "stderr",
          "output_type": "stream",
          "text": [
            "100%|██████████| 120/120 [00:07<00:00, 15.16it/s]\n"
          ]
        },
        {
          "name": "stdout",
          "output_type": "stream",
          "text": [
            "Epoch [15/100], loss: 0.33898 acc: 0.90267 val_loss: 0.32254, val_acc: 0.90650\n"
          ]
        },
        {
          "name": "stderr",
          "output_type": "stream",
          "text": [
            "100%|██████████| 120/120 [00:07<00:00, 15.22it/s]\n"
          ]
        },
        {
          "name": "stdout",
          "output_type": "stream",
          "text": [
            "Epoch [16/100], loss: 0.33335 acc: 0.90425 val_loss: 0.31786, val_acc: 0.90860\n"
          ]
        },
        {
          "name": "stderr",
          "output_type": "stream",
          "text": [
            "100%|██████████| 120/120 [00:07<00:00, 15.56it/s]\n"
          ]
        },
        {
          "name": "stdout",
          "output_type": "stream",
          "text": [
            "Epoch [17/100], loss: 0.32841 acc: 0.90512 val_loss: 0.31379, val_acc: 0.90910\n"
          ]
        },
        {
          "name": "stderr",
          "output_type": "stream",
          "text": [
            "100%|██████████| 120/120 [00:07<00:00, 15.12it/s]\n"
          ]
        },
        {
          "name": "stdout",
          "output_type": "stream",
          "text": [
            "Epoch [18/100], loss: 0.32384 acc: 0.90667 val_loss: 0.30992, val_acc: 0.91270\n"
          ]
        },
        {
          "name": "stderr",
          "output_type": "stream",
          "text": [
            "100%|██████████| 120/120 [00:07<00:00, 15.01it/s]\n"
          ]
        },
        {
          "name": "stdout",
          "output_type": "stream",
          "text": [
            "Epoch [19/100], loss: 0.31964 acc: 0.90757 val_loss: 0.30670, val_acc: 0.91110\n"
          ]
        },
        {
          "name": "stderr",
          "output_type": "stream",
          "text": [
            "100%|██████████| 120/120 [00:08<00:00, 14.87it/s]\n"
          ]
        },
        {
          "name": "stdout",
          "output_type": "stream",
          "text": [
            "Epoch [20/100], loss: 0.31572 acc: 0.90925 val_loss: 0.30359, val_acc: 0.91230\n"
          ]
        },
        {
          "name": "stderr",
          "output_type": "stream",
          "text": [
            "100%|██████████| 120/120 [00:08<00:00, 14.65it/s]\n"
          ]
        },
        {
          "name": "stdout",
          "output_type": "stream",
          "text": [
            "Epoch [21/100], loss: 0.31198 acc: 0.91035 val_loss: 0.30051, val_acc: 0.91360\n"
          ]
        },
        {
          "name": "stderr",
          "output_type": "stream",
          "text": [
            "100%|██████████| 120/120 [00:07<00:00, 15.21it/s]\n"
          ]
        },
        {
          "name": "stdout",
          "output_type": "stream",
          "text": [
            "Epoch [22/100], loss: 0.30863 acc: 0.91123 val_loss: 0.29660, val_acc: 0.91470\n"
          ]
        },
        {
          "name": "stderr",
          "output_type": "stream",
          "text": [
            "100%|██████████| 120/120 [00:07<00:00, 15.43it/s]\n"
          ]
        },
        {
          "name": "stdout",
          "output_type": "stream",
          "text": [
            "Epoch [23/100], loss: 0.30517 acc: 0.91232 val_loss: 0.29402, val_acc: 0.91620\n"
          ]
        },
        {
          "name": "stderr",
          "output_type": "stream",
          "text": [
            "100%|██████████| 120/120 [00:08<00:00, 14.77it/s]\n"
          ]
        },
        {
          "name": "stdout",
          "output_type": "stream",
          "text": [
            "Epoch [24/100], loss: 0.30196 acc: 0.91357 val_loss: 0.29118, val_acc: 0.91620\n"
          ]
        },
        {
          "name": "stderr",
          "output_type": "stream",
          "text": [
            "100%|██████████| 120/120 [00:07<00:00, 15.16it/s]\n"
          ]
        },
        {
          "name": "stdout",
          "output_type": "stream",
          "text": [
            "Epoch [25/100], loss: 0.29914 acc: 0.91415 val_loss: 0.28870, val_acc: 0.91750\n"
          ]
        },
        {
          "name": "stderr",
          "output_type": "stream",
          "text": [
            "100%|██████████| 120/120 [00:08<00:00, 14.54it/s]\n"
          ]
        },
        {
          "name": "stdout",
          "output_type": "stream",
          "text": [
            "Epoch [26/100], loss: 0.29609 acc: 0.91542 val_loss: 0.28608, val_acc: 0.91840\n"
          ]
        },
        {
          "name": "stderr",
          "output_type": "stream",
          "text": [
            "100%|██████████| 120/120 [00:07<00:00, 15.07it/s]\n"
          ]
        },
        {
          "name": "stdout",
          "output_type": "stream",
          "text": [
            "Epoch [27/100], loss: 0.29323 acc: 0.91610 val_loss: 0.28366, val_acc: 0.91830\n"
          ]
        },
        {
          "name": "stderr",
          "output_type": "stream",
          "text": [
            "100%|██████████| 120/120 [00:07<00:00, 15.15it/s]\n"
          ]
        },
        {
          "name": "stdout",
          "output_type": "stream",
          "text": [
            "Epoch [28/100], loss: 0.29038 acc: 0.91747 val_loss: 0.28145, val_acc: 0.92060\n"
          ]
        },
        {
          "name": "stderr",
          "output_type": "stream",
          "text": [
            "100%|██████████| 120/120 [00:08<00:00, 14.87it/s]\n"
          ]
        },
        {
          "name": "stdout",
          "output_type": "stream",
          "text": [
            "Epoch [29/100], loss: 0.28771 acc: 0.91748 val_loss: 0.27998, val_acc: 0.92180\n"
          ]
        },
        {
          "name": "stderr",
          "output_type": "stream",
          "text": [
            "100%|██████████| 120/120 [00:08<00:00, 14.83it/s]\n"
          ]
        },
        {
          "name": "stdout",
          "output_type": "stream",
          "text": [
            "Epoch [30/100], loss: 0.28518 acc: 0.91850 val_loss: 0.27709, val_acc: 0.92050\n"
          ]
        },
        {
          "name": "stderr",
          "output_type": "stream",
          "text": [
            "100%|██████████| 120/120 [00:07<00:00, 15.09it/s]\n"
          ]
        },
        {
          "name": "stdout",
          "output_type": "stream",
          "text": [
            "Epoch [31/100], loss: 0.28244 acc: 0.91960 val_loss: 0.27662, val_acc: 0.92170\n"
          ]
        },
        {
          "name": "stderr",
          "output_type": "stream",
          "text": [
            "100%|██████████| 120/120 [00:07<00:00, 15.14it/s]\n"
          ]
        },
        {
          "name": "stdout",
          "output_type": "stream",
          "text": [
            "Epoch [32/100], loss: 0.28004 acc: 0.91992 val_loss: 0.27309, val_acc: 0.92220\n"
          ]
        },
        {
          "name": "stderr",
          "output_type": "stream",
          "text": [
            "100%|██████████| 120/120 [00:07<00:00, 15.05it/s]\n"
          ]
        },
        {
          "name": "stdout",
          "output_type": "stream",
          "text": [
            "Epoch [33/100], loss: 0.27763 acc: 0.92043 val_loss: 0.27143, val_acc: 0.92170\n"
          ]
        },
        {
          "name": "stderr",
          "output_type": "stream",
          "text": [
            "100%|██████████| 120/120 [00:08<00:00, 14.74it/s]\n"
          ]
        },
        {
          "name": "stdout",
          "output_type": "stream",
          "text": [
            "Epoch [34/100], loss: 0.27499 acc: 0.92132 val_loss: 0.26867, val_acc: 0.92330\n"
          ]
        },
        {
          "name": "stderr",
          "output_type": "stream",
          "text": [
            "100%|██████████| 120/120 [00:08<00:00, 14.55it/s]\n"
          ]
        },
        {
          "name": "stdout",
          "output_type": "stream",
          "text": [
            "Epoch [35/100], loss: 0.27287 acc: 0.92232 val_loss: 0.26696, val_acc: 0.92250\n"
          ]
        },
        {
          "name": "stderr",
          "output_type": "stream",
          "text": [
            "100%|██████████| 120/120 [00:07<00:00, 15.16it/s]\n"
          ]
        },
        {
          "name": "stdout",
          "output_type": "stream",
          "text": [
            "Epoch [36/100], loss: 0.27051 acc: 0.92277 val_loss: 0.26536, val_acc: 0.92460\n"
          ]
        },
        {
          "name": "stderr",
          "output_type": "stream",
          "text": [
            "100%|██████████| 120/120 [00:07<00:00, 15.52it/s]\n"
          ]
        },
        {
          "name": "stdout",
          "output_type": "stream",
          "text": [
            "Epoch [37/100], loss: 0.26821 acc: 0.92355 val_loss: 0.26318, val_acc: 0.92490\n"
          ]
        },
        {
          "name": "stderr",
          "output_type": "stream",
          "text": [
            "100%|██████████| 120/120 [00:08<00:00, 14.90it/s]\n"
          ]
        },
        {
          "name": "stdout",
          "output_type": "stream",
          "text": [
            "Epoch [38/100], loss: 0.26605 acc: 0.92387 val_loss: 0.26113, val_acc: 0.92540\n"
          ]
        },
        {
          "name": "stderr",
          "output_type": "stream",
          "text": [
            "100%|██████████| 120/120 [00:08<00:00, 14.88it/s]\n"
          ]
        },
        {
          "name": "stdout",
          "output_type": "stream",
          "text": [
            "Epoch [39/100], loss: 0.26380 acc: 0.92465 val_loss: 0.25970, val_acc: 0.92650\n"
          ]
        },
        {
          "name": "stderr",
          "output_type": "stream",
          "text": [
            "100%|██████████| 120/120 [00:08<00:00, 14.80it/s]\n"
          ]
        },
        {
          "name": "stdout",
          "output_type": "stream",
          "text": [
            "Epoch [40/100], loss: 0.26162 acc: 0.92545 val_loss: 0.25752, val_acc: 0.92600\n"
          ]
        },
        {
          "name": "stderr",
          "output_type": "stream",
          "text": [
            "100%|██████████| 120/120 [00:07<00:00, 15.09it/s]\n"
          ]
        },
        {
          "name": "stdout",
          "output_type": "stream",
          "text": [
            "Epoch [41/100], loss: 0.25949 acc: 0.92625 val_loss: 0.25571, val_acc: 0.92740\n"
          ]
        },
        {
          "name": "stderr",
          "output_type": "stream",
          "text": [
            "100%|██████████| 120/120 [00:07<00:00, 15.18it/s]\n"
          ]
        },
        {
          "name": "stdout",
          "output_type": "stream",
          "text": [
            "Epoch [42/100], loss: 0.25720 acc: 0.92652 val_loss: 0.25368, val_acc: 0.92690\n"
          ]
        },
        {
          "name": "stderr",
          "output_type": "stream",
          "text": [
            "100%|██████████| 120/120 [00:08<00:00, 14.94it/s]\n"
          ]
        },
        {
          "name": "stdout",
          "output_type": "stream",
          "text": [
            "Epoch [43/100], loss: 0.25521 acc: 0.92695 val_loss: 0.25150, val_acc: 0.92870\n"
          ]
        },
        {
          "name": "stderr",
          "output_type": "stream",
          "text": [
            "100%|██████████| 120/120 [00:08<00:00, 14.93it/s]\n"
          ]
        },
        {
          "name": "stdout",
          "output_type": "stream",
          "text": [
            "Epoch [44/100], loss: 0.25305 acc: 0.92778 val_loss: 0.24931, val_acc: 0.92870\n"
          ]
        },
        {
          "name": "stderr",
          "output_type": "stream",
          "text": [
            "100%|██████████| 120/120 [00:07<00:00, 15.35it/s]\n"
          ]
        },
        {
          "name": "stdout",
          "output_type": "stream",
          "text": [
            "Epoch [45/100], loss: 0.25096 acc: 0.92880 val_loss: 0.24818, val_acc: 0.93000\n"
          ]
        },
        {
          "name": "stderr",
          "output_type": "stream",
          "text": [
            "100%|██████████| 120/120 [00:08<00:00, 14.88it/s]\n"
          ]
        },
        {
          "name": "stdout",
          "output_type": "stream",
          "text": [
            "Epoch [46/100], loss: 0.24889 acc: 0.92923 val_loss: 0.24608, val_acc: 0.93000\n"
          ]
        },
        {
          "name": "stderr",
          "output_type": "stream",
          "text": [
            "100%|██████████| 120/120 [00:07<00:00, 15.32it/s]\n"
          ]
        },
        {
          "name": "stdout",
          "output_type": "stream",
          "text": [
            "Epoch [47/100], loss: 0.24684 acc: 0.92985 val_loss: 0.24438, val_acc: 0.92990\n"
          ]
        },
        {
          "name": "stderr",
          "output_type": "stream",
          "text": [
            "100%|██████████| 120/120 [00:07<00:00, 15.08it/s]\n"
          ]
        },
        {
          "name": "stdout",
          "output_type": "stream",
          "text": [
            "Epoch [48/100], loss: 0.24475 acc: 0.93048 val_loss: 0.24292, val_acc: 0.93090\n"
          ]
        },
        {
          "name": "stderr",
          "output_type": "stream",
          "text": [
            "100%|██████████| 120/120 [00:08<00:00, 14.95it/s]\n"
          ]
        },
        {
          "name": "stdout",
          "output_type": "stream",
          "text": [
            "Epoch [49/100], loss: 0.24275 acc: 0.93090 val_loss: 0.24057, val_acc: 0.93230\n"
          ]
        },
        {
          "name": "stderr",
          "output_type": "stream",
          "text": [
            "100%|██████████| 120/120 [00:08<00:00, 14.77it/s]\n"
          ]
        },
        {
          "name": "stdout",
          "output_type": "stream",
          "text": [
            "Epoch [50/100], loss: 0.24088 acc: 0.93138 val_loss: 0.23888, val_acc: 0.93260\n"
          ]
        },
        {
          "name": "stderr",
          "output_type": "stream",
          "text": [
            "100%|██████████| 120/120 [00:07<00:00, 15.31it/s]\n"
          ]
        },
        {
          "name": "stdout",
          "output_type": "stream",
          "text": [
            "Epoch [51/100], loss: 0.23881 acc: 0.93213 val_loss: 0.23721, val_acc: 0.93250\n"
          ]
        },
        {
          "name": "stderr",
          "output_type": "stream",
          "text": [
            "100%|██████████| 120/120 [00:07<00:00, 15.68it/s]\n"
          ]
        },
        {
          "name": "stdout",
          "output_type": "stream",
          "text": [
            "Epoch [52/100], loss: 0.23698 acc: 0.93248 val_loss: 0.23527, val_acc: 0.93290\n"
          ]
        },
        {
          "name": "stderr",
          "output_type": "stream",
          "text": [
            "100%|██████████| 120/120 [00:07<00:00, 15.50it/s]\n"
          ]
        },
        {
          "name": "stdout",
          "output_type": "stream",
          "text": [
            "Epoch [53/100], loss: 0.23485 acc: 0.93368 val_loss: 0.23338, val_acc: 0.93430\n"
          ]
        },
        {
          "name": "stderr",
          "output_type": "stream",
          "text": [
            "100%|██████████| 120/120 [00:08<00:00, 14.92it/s]\n"
          ]
        },
        {
          "name": "stdout",
          "output_type": "stream",
          "text": [
            "Epoch [54/100], loss: 0.23302 acc: 0.93423 val_loss: 0.23229, val_acc: 0.93370\n"
          ]
        },
        {
          "name": "stderr",
          "output_type": "stream",
          "text": [
            "100%|██████████| 120/120 [00:07<00:00, 15.05it/s]\n"
          ]
        },
        {
          "name": "stdout",
          "output_type": "stream",
          "text": [
            "Epoch [55/100], loss: 0.23114 acc: 0.93470 val_loss: 0.23069, val_acc: 0.93470\n"
          ]
        },
        {
          "name": "stderr",
          "output_type": "stream",
          "text": [
            "100%|██████████| 120/120 [00:07<00:00, 15.34it/s]\n"
          ]
        },
        {
          "name": "stdout",
          "output_type": "stream",
          "text": [
            "Epoch [56/100], loss: 0.22923 acc: 0.93517 val_loss: 0.22932, val_acc: 0.93410\n"
          ]
        },
        {
          "name": "stderr",
          "output_type": "stream",
          "text": [
            "100%|██████████| 120/120 [00:08<00:00, 14.88it/s]\n"
          ]
        },
        {
          "name": "stdout",
          "output_type": "stream",
          "text": [
            "Epoch [57/100], loss: 0.22734 acc: 0.93592 val_loss: 0.22688, val_acc: 0.93500\n"
          ]
        },
        {
          "name": "stderr",
          "output_type": "stream",
          "text": [
            "100%|██████████| 120/120 [00:07<00:00, 15.13it/s]\n"
          ]
        },
        {
          "name": "stdout",
          "output_type": "stream",
          "text": [
            "Epoch [58/100], loss: 0.22558 acc: 0.93652 val_loss: 0.22545, val_acc: 0.93610\n"
          ]
        },
        {
          "name": "stderr",
          "output_type": "stream",
          "text": [
            "100%|██████████| 120/120 [00:07<00:00, 15.36it/s]\n"
          ]
        },
        {
          "name": "stdout",
          "output_type": "stream",
          "text": [
            "Epoch [59/100], loss: 0.22392 acc: 0.93672 val_loss: 0.22357, val_acc: 0.93610\n"
          ]
        },
        {
          "name": "stderr",
          "output_type": "stream",
          "text": [
            "100%|██████████| 120/120 [00:07<00:00, 15.08it/s]\n"
          ]
        },
        {
          "name": "stdout",
          "output_type": "stream",
          "text": [
            "Epoch [60/100], loss: 0.22213 acc: 0.93730 val_loss: 0.22238, val_acc: 0.93650\n"
          ]
        },
        {
          "name": "stderr",
          "output_type": "stream",
          "text": [
            "100%|██████████| 120/120 [00:07<00:00, 15.16it/s]\n"
          ]
        },
        {
          "name": "stdout",
          "output_type": "stream",
          "text": [
            "Epoch [61/100], loss: 0.22025 acc: 0.93788 val_loss: 0.22039, val_acc: 0.93690\n"
          ]
        },
        {
          "name": "stderr",
          "output_type": "stream",
          "text": [
            "100%|██████████| 120/120 [00:08<00:00, 14.92it/s]\n"
          ]
        },
        {
          "name": "stdout",
          "output_type": "stream",
          "text": [
            "Epoch [62/100], loss: 0.21852 acc: 0.93845 val_loss: 0.21852, val_acc: 0.93720\n"
          ]
        },
        {
          "name": "stderr",
          "output_type": "stream",
          "text": [
            "100%|██████████| 120/120 [00:08<00:00, 14.82it/s]\n"
          ]
        },
        {
          "name": "stdout",
          "output_type": "stream",
          "text": [
            "Epoch [63/100], loss: 0.21678 acc: 0.93875 val_loss: 0.21707, val_acc: 0.93750\n"
          ]
        },
        {
          "name": "stderr",
          "output_type": "stream",
          "text": [
            "100%|██████████| 120/120 [00:07<00:00, 15.67it/s]\n"
          ]
        },
        {
          "name": "stdout",
          "output_type": "stream",
          "text": [
            "Epoch [64/100], loss: 0.21514 acc: 0.93948 val_loss: 0.21590, val_acc: 0.93710\n"
          ]
        },
        {
          "name": "stderr",
          "output_type": "stream",
          "text": [
            "100%|██████████| 120/120 [00:08<00:00, 14.99it/s]\n"
          ]
        },
        {
          "name": "stdout",
          "output_type": "stream",
          "text": [
            "Epoch [65/100], loss: 0.21329 acc: 0.93978 val_loss: 0.21394, val_acc: 0.93880\n"
          ]
        },
        {
          "name": "stderr",
          "output_type": "stream",
          "text": [
            "100%|██████████| 120/120 [00:07<00:00, 15.13it/s]\n"
          ]
        },
        {
          "name": "stdout",
          "output_type": "stream",
          "text": [
            "Epoch [66/100], loss: 0.21171 acc: 0.94027 val_loss: 0.21303, val_acc: 0.93980\n"
          ]
        },
        {
          "name": "stderr",
          "output_type": "stream",
          "text": [
            "100%|██████████| 120/120 [00:08<00:00, 14.45it/s]\n"
          ]
        },
        {
          "name": "stdout",
          "output_type": "stream",
          "text": [
            "Epoch [67/100], loss: 0.21005 acc: 0.94100 val_loss: 0.21134, val_acc: 0.93910\n"
          ]
        },
        {
          "name": "stderr",
          "output_type": "stream",
          "text": [
            "100%|██████████| 120/120 [00:08<00:00, 14.69it/s]\n"
          ]
        },
        {
          "name": "stdout",
          "output_type": "stream",
          "text": [
            "Epoch [68/100], loss: 0.20841 acc: 0.94137 val_loss: 0.20903, val_acc: 0.93970\n"
          ]
        },
        {
          "name": "stderr",
          "output_type": "stream",
          "text": [
            "100%|██████████| 120/120 [00:07<00:00, 15.06it/s]\n"
          ]
        },
        {
          "name": "stdout",
          "output_type": "stream",
          "text": [
            "Epoch [69/100], loss: 0.20678 acc: 0.94187 val_loss: 0.20845, val_acc: 0.94010\n"
          ]
        },
        {
          "name": "stderr",
          "output_type": "stream",
          "text": [
            "100%|██████████| 120/120 [00:07<00:00, 15.25it/s]\n"
          ]
        },
        {
          "name": "stdout",
          "output_type": "stream",
          "text": [
            "Epoch [70/100], loss: 0.20517 acc: 0.94227 val_loss: 0.20728, val_acc: 0.94130\n"
          ]
        },
        {
          "name": "stderr",
          "output_type": "stream",
          "text": [
            "100%|██████████| 120/120 [00:07<00:00, 15.35it/s]\n"
          ]
        },
        {
          "name": "stdout",
          "output_type": "stream",
          "text": [
            "Epoch [71/100], loss: 0.20359 acc: 0.94297 val_loss: 0.20521, val_acc: 0.93910\n"
          ]
        },
        {
          "name": "stderr",
          "output_type": "stream",
          "text": [
            "100%|██████████| 120/120 [00:08<00:00, 14.91it/s]\n"
          ]
        },
        {
          "name": "stdout",
          "output_type": "stream",
          "text": [
            "Epoch [72/100], loss: 0.20220 acc: 0.94332 val_loss: 0.20368, val_acc: 0.94100\n"
          ]
        },
        {
          "name": "stderr",
          "output_type": "stream",
          "text": [
            "100%|██████████| 120/120 [00:07<00:00, 15.63it/s]\n"
          ]
        },
        {
          "name": "stdout",
          "output_type": "stream",
          "text": [
            "Epoch [73/100], loss: 0.20060 acc: 0.94327 val_loss: 0.20252, val_acc: 0.94220\n"
          ]
        },
        {
          "name": "stderr",
          "output_type": "stream",
          "text": [
            "100%|██████████| 120/120 [00:07<00:00, 15.42it/s]\n"
          ]
        },
        {
          "name": "stdout",
          "output_type": "stream",
          "text": [
            "Epoch [74/100], loss: 0.19905 acc: 0.94410 val_loss: 0.20107, val_acc: 0.94320\n"
          ]
        },
        {
          "name": "stderr",
          "output_type": "stream",
          "text": [
            "100%|██████████| 120/120 [00:07<00:00, 15.35it/s]\n"
          ]
        },
        {
          "name": "stdout",
          "output_type": "stream",
          "text": [
            "Epoch [75/100], loss: 0.19747 acc: 0.94435 val_loss: 0.19951, val_acc: 0.94310\n"
          ]
        },
        {
          "name": "stderr",
          "output_type": "stream",
          "text": [
            "100%|██████████| 120/120 [00:07<00:00, 15.13it/s]\n"
          ]
        },
        {
          "name": "stdout",
          "output_type": "stream",
          "text": [
            "Epoch [76/100], loss: 0.19613 acc: 0.94487 val_loss: 0.19792, val_acc: 0.94340\n"
          ]
        },
        {
          "name": "stderr",
          "output_type": "stream",
          "text": [
            "100%|██████████| 120/120 [00:07<00:00, 15.05it/s]\n"
          ]
        },
        {
          "name": "stdout",
          "output_type": "stream",
          "text": [
            "Epoch [77/100], loss: 0.19481 acc: 0.94490 val_loss: 0.19665, val_acc: 0.94280\n"
          ]
        },
        {
          "name": "stderr",
          "output_type": "stream",
          "text": [
            "100%|██████████| 120/120 [00:08<00:00, 14.89it/s]\n"
          ]
        },
        {
          "name": "stdout",
          "output_type": "stream",
          "text": [
            "Epoch [78/100], loss: 0.19312 acc: 0.94585 val_loss: 0.19560, val_acc: 0.94320\n"
          ]
        },
        {
          "name": "stderr",
          "output_type": "stream",
          "text": [
            "100%|██████████| 120/120 [00:07<00:00, 15.18it/s]\n"
          ]
        },
        {
          "name": "stdout",
          "output_type": "stream",
          "text": [
            "Epoch [79/100], loss: 0.19183 acc: 0.94618 val_loss: 0.19432, val_acc: 0.94420\n"
          ]
        },
        {
          "name": "stderr",
          "output_type": "stream",
          "text": [
            "100%|██████████| 120/120 [00:07<00:00, 15.09it/s]\n"
          ]
        },
        {
          "name": "stdout",
          "output_type": "stream",
          "text": [
            "Epoch [80/100], loss: 0.19049 acc: 0.94690 val_loss: 0.19283, val_acc: 0.94400\n"
          ]
        },
        {
          "name": "stderr",
          "output_type": "stream",
          "text": [
            "100%|██████████| 120/120 [00:07<00:00, 15.31it/s]\n"
          ]
        },
        {
          "name": "stdout",
          "output_type": "stream",
          "text": [
            "Epoch [81/100], loss: 0.18911 acc: 0.94692 val_loss: 0.19222, val_acc: 0.94450\n"
          ]
        },
        {
          "name": "stderr",
          "output_type": "stream",
          "text": [
            "100%|██████████| 120/120 [00:08<00:00, 14.94it/s]\n"
          ]
        },
        {
          "name": "stdout",
          "output_type": "stream",
          "text": [
            "Epoch [82/100], loss: 0.18777 acc: 0.94732 val_loss: 0.19045, val_acc: 0.94550\n"
          ]
        },
        {
          "name": "stderr",
          "output_type": "stream",
          "text": [
            "100%|██████████| 120/120 [00:07<00:00, 15.06it/s]\n"
          ]
        },
        {
          "name": "stdout",
          "output_type": "stream",
          "text": [
            "Epoch [83/100], loss: 0.18629 acc: 0.94773 val_loss: 0.18912, val_acc: 0.94520\n"
          ]
        },
        {
          "name": "stderr",
          "output_type": "stream",
          "text": [
            "100%|██████████| 120/120 [00:07<00:00, 15.10it/s]\n"
          ]
        },
        {
          "name": "stdout",
          "output_type": "stream",
          "text": [
            "Epoch [84/100], loss: 0.18514 acc: 0.94808 val_loss: 0.18789, val_acc: 0.94460\n"
          ]
        },
        {
          "name": "stderr",
          "output_type": "stream",
          "text": [
            "100%|██████████| 120/120 [00:08<00:00, 14.92it/s]\n"
          ]
        },
        {
          "name": "stdout",
          "output_type": "stream",
          "text": [
            "Epoch [85/100], loss: 0.18356 acc: 0.94875 val_loss: 0.18686, val_acc: 0.94610\n"
          ]
        },
        {
          "name": "stderr",
          "output_type": "stream",
          "text": [
            "100%|██████████| 120/120 [00:07<00:00, 15.31it/s]\n"
          ]
        },
        {
          "name": "stdout",
          "output_type": "stream",
          "text": [
            "Epoch [86/100], loss: 0.18239 acc: 0.94902 val_loss: 0.18585, val_acc: 0.94540\n"
          ]
        },
        {
          "name": "stderr",
          "output_type": "stream",
          "text": [
            "100%|██████████| 120/120 [00:08<00:00, 15.00it/s]\n"
          ]
        },
        {
          "name": "stdout",
          "output_type": "stream",
          "text": [
            "Epoch [87/100], loss: 0.18096 acc: 0.94963 val_loss: 0.18485, val_acc: 0.94590\n"
          ]
        },
        {
          "name": "stderr",
          "output_type": "stream",
          "text": [
            "100%|██████████| 120/120 [00:07<00:00, 15.42it/s]\n"
          ]
        },
        {
          "name": "stdout",
          "output_type": "stream",
          "text": [
            "Epoch [88/100], loss: 0.17997 acc: 0.94985 val_loss: 0.18338, val_acc: 0.94680\n"
          ]
        },
        {
          "name": "stderr",
          "output_type": "stream",
          "text": [
            "100%|██████████| 120/120 [00:08<00:00, 14.91it/s]\n"
          ]
        },
        {
          "name": "stdout",
          "output_type": "stream",
          "text": [
            "Epoch [89/100], loss: 0.17864 acc: 0.95015 val_loss: 0.18222, val_acc: 0.94640\n"
          ]
        },
        {
          "name": "stderr",
          "output_type": "stream",
          "text": [
            "100%|██████████| 120/120 [00:08<00:00, 14.97it/s]\n"
          ]
        },
        {
          "name": "stdout",
          "output_type": "stream",
          "text": [
            "Epoch [90/100], loss: 0.17748 acc: 0.95045 val_loss: 0.18174, val_acc: 0.94710\n"
          ]
        },
        {
          "name": "stderr",
          "output_type": "stream",
          "text": [
            "100%|██████████| 120/120 [00:07<00:00, 15.35it/s]\n"
          ]
        },
        {
          "name": "stdout",
          "output_type": "stream",
          "text": [
            "Epoch [91/100], loss: 0.17617 acc: 0.95110 val_loss: 0.18037, val_acc: 0.94680\n"
          ]
        },
        {
          "name": "stderr",
          "output_type": "stream",
          "text": [
            "100%|██████████| 120/120 [00:08<00:00, 14.83it/s]\n"
          ]
        },
        {
          "name": "stdout",
          "output_type": "stream",
          "text": [
            "Epoch [92/100], loss: 0.17509 acc: 0.95153 val_loss: 0.17863, val_acc: 0.94700\n"
          ]
        },
        {
          "name": "stderr",
          "output_type": "stream",
          "text": [
            "100%|██████████| 120/120 [00:08<00:00, 14.95it/s]\n"
          ]
        },
        {
          "name": "stdout",
          "output_type": "stream",
          "text": [
            "Epoch [93/100], loss: 0.17391 acc: 0.95160 val_loss: 0.17791, val_acc: 0.94790\n"
          ]
        },
        {
          "name": "stderr",
          "output_type": "stream",
          "text": [
            "100%|██████████| 120/120 [00:08<00:00, 14.50it/s]\n"
          ]
        },
        {
          "name": "stdout",
          "output_type": "stream",
          "text": [
            "Epoch [94/100], loss: 0.17275 acc: 0.95207 val_loss: 0.17694, val_acc: 0.94780\n"
          ]
        },
        {
          "name": "stderr",
          "output_type": "stream",
          "text": [
            "100%|██████████| 120/120 [00:07<00:00, 15.17it/s]\n"
          ]
        },
        {
          "name": "stdout",
          "output_type": "stream",
          "text": [
            "Epoch [95/100], loss: 0.17153 acc: 0.95255 val_loss: 0.17568, val_acc: 0.94820\n"
          ]
        },
        {
          "name": "stderr",
          "output_type": "stream",
          "text": [
            "100%|██████████| 120/120 [00:07<00:00, 15.19it/s]\n"
          ]
        },
        {
          "name": "stdout",
          "output_type": "stream",
          "text": [
            "Epoch [96/100], loss: 0.17033 acc: 0.95242 val_loss: 0.17462, val_acc: 0.94850\n"
          ]
        },
        {
          "name": "stderr",
          "output_type": "stream",
          "text": [
            "100%|██████████| 120/120 [00:07<00:00, 15.12it/s]\n"
          ]
        },
        {
          "name": "stdout",
          "output_type": "stream",
          "text": [
            "Epoch [97/100], loss: 0.16931 acc: 0.95298 val_loss: 0.17480, val_acc: 0.94840\n"
          ]
        },
        {
          "name": "stderr",
          "output_type": "stream",
          "text": [
            "100%|██████████| 120/120 [00:08<00:00, 14.94it/s]\n"
          ]
        },
        {
          "name": "stdout",
          "output_type": "stream",
          "text": [
            "Epoch [98/100], loss: 0.16830 acc: 0.95303 val_loss: 0.17323, val_acc: 0.94870\n"
          ]
        },
        {
          "name": "stderr",
          "output_type": "stream",
          "text": [
            "100%|██████████| 120/120 [00:08<00:00, 14.56it/s]\n"
          ]
        },
        {
          "name": "stdout",
          "output_type": "stream",
          "text": [
            "Epoch [99/100], loss: 0.16721 acc: 0.95325 val_loss: 0.17204, val_acc: 0.94900\n"
          ]
        },
        {
          "name": "stderr",
          "output_type": "stream",
          "text": [
            "100%|██████████| 120/120 [00:07<00:00, 15.41it/s]\n"
          ]
        },
        {
          "name": "stdout",
          "output_type": "stream",
          "text": [
            "Epoch [100/100], loss: 0.16609 acc: 0.95368 val_loss: 0.17107, val_acc: 0.94960\n"
          ]
        }
      ],
      "source": [
        "# tqdmライブラリのインポート\n",
        "from tqdm.auto import tqdm\n",
        "\n",
        "# 繰り返し計算メインループ\n",
        "\n",
        "for epoch in range(num_epochs):\n",
        "    # 1エポックあたりの正解数(精度計算用)\n",
        "    n_train_acc, n_val_acc = 0, 0\n",
        "    # 1エポックあたりの累積損失(平均化前)\n",
        "    train_loss, val_loss = 0, 0\n",
        "    # 1エポックあたりのデータ累積件数\n",
        "    n_train, n_test = 0, 0\n",
        "\n",
        "    # 訓練フェーズ\n",
        "    for inputs, labels in tqdm(train_loader):\n",
        "        # 1バッチあたりのデータ件数\n",
        "        train_batch_size = len(labels)\n",
        "        # 1エポックあたりのデータ累積件数\n",
        "        n_train += train_batch_size\n",
        "\n",
        "        # GPUヘ転送\n",
        "        inputs = inputs.to(device)\n",
        "        labels = labels.to(device)\n",
        "    \n",
        "        #勾配の初期化\n",
        "        optimizer.zero_grad()\n",
        "\n",
        "        # 予測計算\n",
        "        outputs = net(inputs)\n",
        "\n",
        "        # 損失計算\n",
        "        loss = criterion(outputs, labels)\n",
        "\n",
        "        # 勾配計算\n",
        "        loss.backward()\n",
        "    \n",
        "        # パラメータ修正\n",
        "        optimizer.step()\n",
        "\n",
        "        # 予測ラベル導出\n",
        "        predicted = torch.max(outputs, 1)[1] # 最大値のインデックスを取得\n",
        "\n",
        "        # 平均前の損失と正解数の計算\n",
        "        # lossは平均計算が行われているので平均前の損失に戻して加算\n",
        "        train_loss += loss.item() * train_batch_size \n",
        "        n_train_acc += (predicted == labels).sum().item() \n",
        "\n",
        "    #予測フェーズ\n",
        "    for inputs_test, labels_test in test_loader:\n",
        "        # 1バッチあたりのデータ件数\n",
        "        test_batch_size = len(labels_test)\n",
        "        # 1エポックあたりのデータ累積件数\n",
        "        n_test += test_batch_size\n",
        "\n",
        "        inputs_test = inputs_test.to(device)\n",
        "        labels_test = labels_test.to(device)\n",
        "            \n",
        "        # 予測計算\n",
        "        outputs_test = net(inputs_test)\n",
        "\n",
        "        # 損失計算\n",
        "        loss_test = criterion(outputs_test, labels_test)\n",
        "\n",
        "        #予測ラベル導出\n",
        "        predicted_test = torch.max(outputs_test, 1)[1]\n",
        "\n",
        "        #  平均前の損失と正解数の計算\n",
        "        # lossは平均計算が行われているので平均前の損失に戻して加算\n",
        "        val_loss +=  loss_test.item() * test_batch_size\n",
        "        n_val_acc +=  (predicted_test == labels_test).sum().item()\n",
        "\n",
        "    # 精度計算\n",
        "    train_acc = n_train_acc / n_train\n",
        "    val_acc = n_val_acc / n_test\n",
        "    # 損失計算\n",
        "    ave_train_loss = train_loss / n_train\n",
        "    ave_val_loss = val_loss / n_test\n",
        "    # 結果表示\n",
        "    print (f'Epoch [{epoch+1}/{num_epochs}], loss: {ave_train_loss:.5f} acc: {train_acc:.5f} val_loss: {ave_val_loss:.5f}, val_acc: {val_acc:.5f}')\n",
        "    # 記録\n",
        "    item = np.array([epoch+1 , ave_train_loss, train_acc, ave_val_loss, val_acc])\n",
        "    history = np.vstack((history, item))"
      ]
    },
    {
      "cell_type": "markdown",
      "metadata": {
        "id": "3YpNqlm2vZC0"
      },
      "source": [
        "## 8.13 結果確認"
      ]
    },
    {
      "cell_type": "code",
      "execution_count": 47,
      "metadata": {
        "id": "2NQJM_UBli5m"
      },
      "outputs": [
        {
          "name": "stdout",
          "output_type": "stream",
          "text": [
            "初期状態: 損失: 1.32723 精度: 0.76460\n",
            "最終状態: 損失: 0.17107 精度: 0.94960\n"
          ]
        }
      ],
      "source": [
        "#損失と精度の確認\n",
        "\n",
        "print(f'初期状態: 損失: {history[0,3]:.5f} 精度: {history[0,4]:.5f}' )\n",
        "print(f'最終状態: 損失: {history[-1,3]:.5f} 精度: {history[-1,4]:.5f}' )"
      ]
    },
    {
      "cell_type": "code",
      "execution_count": 48,
      "metadata": {
        "id": "phCQdH7No5Z_"
      },
      "outputs": [
        {
          "data": {
            "image/png": "[encoded data removed]",
            "text/plain": [
              "<Figure size 900x800 with 1 Axes>"
            ]
          },
          "metadata": {},
          "output_type": "display_data"
        }
      ],
      "source": [
        "# 学習曲線の表示 (損失)\n",
        "\n",
        "plt.rcParams['figure.figsize'] = (9,8)\n",
        "plt.plot(history[:,0], history[:,1], 'b', label='訓練')\n",
        "plt.plot(history[:,0], history[:,3], 'k', label='検証')\n",
        "plt.xlabel('繰り返し回数')\n",
        "plt.ylabel('損失')\n",
        "plt.title('学習曲線(損失)')\n",
        "plt.legend()\n",
        "plt.show()"
      ]
    },
    {
      "cell_type": "code",
      "execution_count": 49,
      "metadata": {
        "id": "v3I8Jw0ticf2"
      },
      "outputs": [
        {
          "data": {
            "image/png": "[encoded data removed]",
            "text/plain": [
              "<Figure size 900x800 with 1 Axes>"
            ]
          },
          "metadata": {},
          "output_type": "display_data"
        }
      ],
      "source": [
        "# 学習曲線の表示 (精度)\n",
        "\n",
        "plt.rcParams['figure.figsize'] = (9,8)\n",
        "plt.plot(history[:,0], history[:,2], 'b', label='訓練')\n",
        "plt.plot(history[:,0], history[:,4], 'k', label='検証')\n",
        "plt.xlabel('繰り返し回数')\n",
        "plt.ylabel('精度')\n",
        "plt.title('学習曲線(精度)')\n",
        "plt.legend()\n",
        "plt.show()"
      ]
    },
    {
      "cell_type": "markdown",
      "metadata": {
        "id": "jHbKGRzI9XWn"
      },
      "source": [
        "### イメージ表示で確認"
      ]
    },
    {
      "cell_type": "code",
      "execution_count": 50,
      "metadata": {
        "id": "oVuuBxXWHNvE"
      },
      "outputs": [],
      "source": [
        "# DataLoaderから最初の1セットを取得する\n",
        "for images, labels in test_loader:\n",
        "    break\n",
        "\n",
        "# 予測結果の取得\n",
        "inputs = images.to(device)\n",
        "labels = labels.to(device)\n",
        "outputs = net(inputs)\n",
        "predicted = torch.max(outputs, 1)[1]"
      ]
    },
    {
      "cell_type": "code",
      "execution_count": 51,
      "metadata": {
        "id": "CN5MGTud7bsf"
      },
      "outputs": [
        {
          "data": {
            "image/png": "[encoded data removed]",
            "text/plain": [
              "<Figure size 1000x800 with 50 Axes>"
            ]
          },
          "metadata": {},
          "output_type": "display_data"
        }
      ],
      "source": [
        "# 最初の50件でイメージを「正解値:予測値」と表示\n",
        "\n",
        "plt.figure(figsize=(10, 8))\n",
        "for i in range(50):\n",
        "  ax = plt.subplot(5, 10, i + 1)\n",
        "    \n",
        "  # numpyに変換\n",
        "  image = images[i]\n",
        "  label = labels[i]\n",
        "  pred = predicted[i]\n",
        "  if (pred == label):\n",
        "    c = 'k'\n",
        "  else:\n",
        "    c = 'b'\n",
        "    \n",
        "  # imgの範囲を[0, 1]に戻す\n",
        "  image2 = (image + 1)/ 2\n",
        "    \n",
        "  # イメージ表示\n",
        "  plt.imshow(image2.reshape(28, 28),cmap='gray_r')\n",
        "  ax.set_title(f'{label}:{pred}', c=c)\n",
        "  ax.get_xaxis().set_visible(False)\n",
        "  ax.get_yaxis().set_visible(False)\n",
        "plt.show()\n"
      ]
    },
    {
      "cell_type": "markdown",
      "metadata": {
        "id": "lYQlrBNW4b0R"
      },
      "source": [
        "## 8.14 隠れ層の2層化"
      ]
    },
    {
      "cell_type": "code",
      "execution_count": 52,
      "metadata": {
        "id": "WKI_YKqevw16"
      },
      "outputs": [],
      "source": [
        "# モデルの定義\n",
        "# 784入力10出力2隠れ層のニューラルネットワークモデル\n",
        "\n",
        "class Net2(nn.Module):\n",
        "    def __init__(self, n_input, n_output, n_hidden):\n",
        "        super().__init__()\n",
        "        \n",
        "        # 隠れ層1の定義 (隠れ層のノード数: n_hidden)\n",
        "        self.l1 = nn.Linear(n_input, n_hidden)\n",
        "\n",
        "        # 隠れ層2の定義 (隠れ層のノード数: n_hidden)\n",
        "        self.l2 = nn.Linear(n_hidden, n_hidden)\n",
        "\n",
        "        # 出力層の定義\n",
        "        self.l3 = nn.Linear(n_hidden, n_output)\n",
        "\n",
        "        # ReLU関数の定義\n",
        "        self.relu = nn.ReLU(inplace=True)\n",
        "\n",
        "    def forward(self, x):\n",
        "        x1 = self.l1(x)\n",
        "        x2 = self.relu(x1)\n",
        "        x3 = self.l2(x2)\n",
        "        x4 = self.relu(x3)\n",
        "        x5 = self.l3(x4)\n",
        "        return x5"
      ]
    },
    {
      "cell_type": "code",
      "execution_count": 53,
      "metadata": {
        "id": "4iZ_1fHl59Js"
      },
      "outputs": [],
      "source": [
        "# 乱数の固定化\n",
        "torch.manual_seed(123)\n",
        "torch.cuda.manual_seed(123)\n",
        "\n",
        "# モデルインスタンス生成\n",
        "net = Net2(n_input, n_output, n_hidden).to(device)\n",
        "\n",
        "# 損失関数： 交差エントロピー関数\n",
        "criterion = nn.CrossEntropyLoss()\n",
        "\n",
        "# 最適化関数: 勾配降下法\n",
        "optimizer = torch.optim.SGD(net.parameters(), lr=lr)"
      ]
    },
    {
      "cell_type": "code",
      "execution_count": 54,
      "metadata": {
        "id": "D6iqjM5P5EW5"
      },
      "outputs": [
        {
          "name": "stdout",
          "output_type": "stream",
          "text": [
            "Net2(\n",
            "  (l1): Linear(in_features=784, out_features=128, bias=True)\n",
            "  (l2): Linear(in_features=128, out_features=128, bias=True)\n",
            "  (l3): Linear(in_features=128, out_features=10, bias=True)\n",
            "  (relu): ReLU(inplace=True)\n",
            ")\n"
          ]
        }
      ],
      "source": [
        "# モデルの概要表示\n",
        "\n",
        "print(net)"
      ]
    },
    {
      "cell_type": "code",
      "execution_count": 55,
      "metadata": {
        "id": "rL5pmOzi5T0i"
      },
      "outputs": [
        {
          "data": {
            "text/plain": [
              "==========================================================================================\n",
              "Layer (type:depth-idx)                   Output Shape              Param #\n",
              "==========================================================================================\n",
              "Net2                                     [10]                      --\n",
              "├─Linear: 1-1                            [128]                     100,480\n",
              "├─ReLU: 1-2                              [128]                     --\n",
              "├─Linear: 1-3                            [128]                     16,512\n",
              "├─ReLU: 1-4                              [128]                     --\n",
              "├─Linear: 1-5                            [10]                      1,290\n",
              "==========================================================================================\n",
              "Total params: 118,282\n",
              "Trainable params: 118,282\n",
              "Non-trainable params: 0\n",
              "Total mult-adds (M): 14.99\n",
              "==========================================================================================\n",
              "Input size (MB): 0.00\n",
              "Forward/backward pass size (MB): 0.00\n",
              "Params size (MB): 0.47\n",
              "Estimated Total Size (MB): 0.48\n",
              "=========================================================================================="
            ]
          },
          "execution_count": 55,
          "metadata": {},
          "output_type": "execute_result"
        }
      ],
      "source": [
        "# モデルのサマリー表示\n",
        "\n",
        "summary(net, (784,))"
      ]
    },
    {
      "cell_type": "code",
      "execution_count": 56,
      "metadata": {
        "id": "tuznoi_AgBQ0"
      },
      "outputs": [],
      "source": [
        "# DataLoaderから最初の1セットを取得する\n",
        "for images, labels in test_loader:\n",
        "    break\n",
        "\n",
        "# 予測結果の取得\n",
        "inputs = images.to(device)\n",
        "labels = labels.to(device)"
      ]
    },
    {
      "cell_type": "code",
      "execution_count": 57,
      "metadata": {
        "id": "ANTVr2Wz5bbU"
      },
      "outputs": [
        {
          "data": {
            "image/svg+xml": [
              "<?xml version=\"1.0\" encoding=\"UTF-8\" standalone=\"no\"?>\n",
              "<!DOCTYPE svg PUBLIC \"-//W3C//DTD SVG 1.1//EN\"\n",
              " \"http://www.w3.org/Graphics/SVG/1.1/DTD/svg11.dtd\">\n",
              "<!-- Generated by graphviz version 2.43.0 (0)\n",
              " -->\n",
              "<!-- Title: %3 Pages: 1 -->\n",
              "<svg width=\"376pt\" height=\"655pt\"\n",
              " viewBox=\"0.00 0.00 375.50 655.00\" xmlns=\"http://www.w3.org/2000/svg\" xmlns:xlink=\"http://www.w3.org/1999/xlink\">\n",
              "<g id=\"graph0\" class=\"graph\" transform=\"scale(1 1) rotate(0) translate(4 651)\">\n",
              "<title>%3</title>\n",
              "<polygon fill=\"white\" stroke=\"transparent\" points=\"-4,4 -4,-651 371.5,-651 371.5,4 -4,4\"/>\n",
              "<!-- 23418079101712 -->\n",
              "<g id=\"node1\" class=\"node\">\n",
              "<title>23418079101712</title>\n",
              "<polygon fill=\"#caff70\" stroke=\"black\" points=\"219,-31 165,-31 165,0 219,0 219,-31\"/>\n",
              "<text text-anchor=\"middle\" x=\"192\" y=\"-7\" font-family=\"monospace\" font-size=\"10.00\"> ()</text>\n",
              "</g>\n",
              "<!-- 23419204942336 -->\n",
              "<g id=\"node2\" class=\"node\">\n",
              "<title>23419204942336</title>\n",
              "<polygon fill=\"lightgrey\" stroke=\"black\" points=\"242.5,-86 141.5,-86 141.5,-67 242.5,-67 242.5,-86\"/>\n",
              "<text text-anchor=\"middle\" x=\"192\" y=\"-74\" font-family=\"monospace\" font-size=\"10.00\">NllLossBackward0</text>\n",
              "</g>\n",
              "<!-- 23419204942336&#45;&gt;23418079101712 -->\n",
              "<g id=\"edge22\" class=\"edge\">\n",
              "<title>23419204942336&#45;&gt;23418079101712</title>\n",
              "<path fill=\"none\" stroke=\"black\" d=\"M192,-66.79C192,-60.07 192,-50.4 192,-41.34\"/>\n",
              "<polygon fill=\"black\" stroke=\"black\" points=\"195.5,-41.19 192,-31.19 188.5,-41.19 195.5,-41.19\"/>\n",
              "</g>\n",
              "<!-- 23419204938832 -->\n",
              "<g id=\"node3\" class=\"node\">\n",
              "<title>23419204938832</title>\n",
              "<polygon fill=\"lightgrey\" stroke=\"black\" points=\"250,-141 134,-141 134,-122 250,-122 250,-141\"/>\n",
              "<text text-anchor=\"middle\" x=\"192\" y=\"-129\" font-family=\"monospace\" font-size=\"10.00\">LogSoftmaxBackward0</text>\n",
              "</g>\n",
              "<!-- 23419204938832&#45;&gt;23419204942336 -->\n",
              "<g id=\"edge1\" class=\"edge\">\n",
              "<title>23419204938832&#45;&gt;23419204942336</title>\n",
              "<path fill=\"none\" stroke=\"black\" d=\"M192,-121.75C192,-114.8 192,-104.85 192,-96.13\"/>\n",
              "<polygon fill=\"black\" stroke=\"black\" points=\"195.5,-96.09 192,-86.09 188.5,-96.09 195.5,-96.09\"/>\n",
              "</g>\n",
              "<!-- 23419204940608 -->\n",
              "<g id=\"node4\" class=\"node\">\n",
              "<title>23419204940608</title>\n",
              "<polygon fill=\"lightgrey\" stroke=\"black\" points=\"237,-196 147,-196 147,-177 237,-177 237,-196\"/>\n",
              "<text text-anchor=\"middle\" x=\"192\" y=\"-184\" font-family=\"monospace\" font-size=\"10.00\">AddmmBackward0</text>\n",
              "</g>\n",
              "<!-- 23419204940608&#45;&gt;23419204938832 -->\n",
              "<g id=\"edge2\" class=\"edge\">\n",
              "<title>23419204940608&#45;&gt;23419204938832</title>\n",
              "<path fill=\"none\" stroke=\"black\" d=\"M192,-176.75C192,-169.8 192,-159.85 192,-151.13\"/>\n",
              "<polygon fill=\"black\" stroke=\"black\" points=\"195.5,-151.09 192,-141.09 188.5,-151.09 195.5,-151.09\"/>\n",
              "</g>\n",
              "<!-- 23417806450176 -->\n",
              "<g id=\"node5\" class=\"node\">\n",
              "<title>23417806450176</title>\n",
              "<polygon fill=\"lightgrey\" stroke=\"black\" points=\"131,-251 41,-251 41,-232 131,-232 131,-251\"/>\n",
              "<text text-anchor=\"middle\" x=\"86\" y=\"-239\" font-family=\"monospace\" font-size=\"10.00\">AccumulateGrad</text>\n",
              "</g>\n",
              "<!-- 23417806450176&#45;&gt;23419204940608 -->\n",
              "<g id=\"edge3\" class=\"edge\">\n",
              "<title>23417806450176&#45;&gt;23419204940608</title>\n",
              "<path fill=\"none\" stroke=\"black\" d=\"M103.03,-231.98C119.93,-223.54 146.06,-210.47 165.64,-200.68\"/>\n",
              "<polygon fill=\"black\" stroke=\"black\" points=\"167.28,-203.77 174.66,-196.17 164.15,-197.51 167.28,-203.77\"/>\n",
              "</g>\n",
              "<!-- 23417786865104 -->\n",
              "<g id=\"node6\" class=\"node\">\n",
              "<title>23417786865104</title>\n",
              "<polygon fill=\"lightblue\" stroke=\"black\" points=\"113,-317 59,-317 59,-287 113,-287 113,-317\"/>\n",
              "<text text-anchor=\"middle\" x=\"86\" y=\"-305\" font-family=\"monospace\" font-size=\"10.00\">l3.bias</text>\n",
              "<text text-anchor=\"middle\" x=\"86\" y=\"-294\" font-family=\"monospace\" font-size=\"10.00\"> (10)</text>\n",
              "</g>\n",
              "<!-- 23417786865104&#45;&gt;23417806450176 -->\n",
              "<g id=\"edge4\" class=\"edge\">\n",
              "<title>23417786865104&#45;&gt;23417806450176</title>\n",
              "<path fill=\"none\" stroke=\"black\" d=\"M86,-286.84C86,-279.21 86,-269.7 86,-261.45\"/>\n",
              "<polygon fill=\"black\" stroke=\"black\" points=\"89.5,-261.27 86,-251.27 82.5,-261.27 89.5,-261.27\"/>\n",
              "</g>\n",
              "<!-- 23417806450560 -->\n",
              "<g id=\"node7\" class=\"node\">\n",
              "<title>23417806450560</title>\n",
              "<polygon fill=\"lightgrey\" stroke=\"black\" points=\"234.5,-251 149.5,-251 149.5,-232 234.5,-232 234.5,-251\"/>\n",
              "<text text-anchor=\"middle\" x=\"192\" y=\"-239\" font-family=\"monospace\" font-size=\"10.00\">ReluBackward0</text>\n",
              "</g>\n",
              "<!-- 23417806450560&#45;&gt;23419204940608 -->\n",
              "<g id=\"edge5\" class=\"edge\">\n",
              "<title>23417806450560&#45;&gt;23419204940608</title>\n",
              "<path fill=\"none\" stroke=\"black\" d=\"M192,-231.75C192,-224.8 192,-214.85 192,-206.13\"/>\n",
              "<polygon fill=\"black\" stroke=\"black\" points=\"195.5,-206.09 192,-196.09 188.5,-206.09 195.5,-206.09\"/>\n",
              "</g>\n",
              "<!-- 23417806451040 -->\n",
              "<g id=\"node8\" class=\"node\">\n",
              "<title>23417806451040</title>\n",
              "<polygon fill=\"lightgrey\" stroke=\"black\" points=\"233,-311.5 143,-311.5 143,-292.5 233,-292.5 233,-311.5\"/>\n",
              "<text text-anchor=\"middle\" x=\"188\" y=\"-299.5\" font-family=\"monospace\" font-size=\"10.00\">AddmmBackward0</text>\n",
              "</g>\n",
              "<!-- 23417806451040&#45;&gt;23417806450560 -->\n",
              "<g id=\"edge6\" class=\"edge\">\n",
              "<title>23417806451040&#45;&gt;23417806450560</title>\n",
              "<path fill=\"none\" stroke=\"black\" d=\"M188.59,-292.37C189.15,-284.25 190,-271.81 190.71,-261.39\"/>\n",
              "<polygon fill=\"black\" stroke=\"black\" points=\"194.22,-261.38 191.41,-251.17 187.23,-260.91 194.22,-261.38\"/>\n",
              "</g>\n",
              "<!-- 23417806452288 -->\n",
              "<g id=\"node9\" class=\"node\">\n",
              "<title>23417806452288</title>\n",
              "<polygon fill=\"lightgrey\" stroke=\"black\" points=\"90,-377.5 0,-377.5 0,-358.5 90,-358.5 90,-377.5\"/>\n",
              "<text text-anchor=\"middle\" x=\"45\" y=\"-365.5\" font-family=\"monospace\" font-size=\"10.00\">AccumulateGrad</text>\n",
              "</g>\n",
              "<!-- 23417806452288&#45;&gt;23417806451040 -->\n",
              "<g id=\"edge7\" class=\"edge\">\n",
              "<title>23417806452288&#45;&gt;23417806451040</title>\n",
              "<path fill=\"none\" stroke=\"black\" d=\"M64.29,-358.37C88.7,-347.44 130.97,-328.52 159.21,-315.88\"/>\n",
              "<polygon fill=\"black\" stroke=\"black\" points=\"160.87,-318.98 168.56,-311.7 158.01,-312.59 160.87,-318.98\"/>\n",
              "</g>\n",
              "<!-- 23417785112176 -->\n",
              "<g id=\"node10\" class=\"node\">\n",
              "<title>23417785112176</title>\n",
              "<polygon fill=\"lightblue\" stroke=\"black\" points=\"72,-449 18,-449 18,-419 72,-419 72,-449\"/>\n",
              "<text text-anchor=\"middle\" x=\"45\" y=\"-437\" font-family=\"monospace\" font-size=\"10.00\">l2.bias</text>\n",
              "<text text-anchor=\"middle\" x=\"45\" y=\"-426\" font-family=\"monospace\" font-size=\"10.00\"> (128)</text>\n",
              "</g>\n",
              "<!-- 23417785112176&#45;&gt;23417806452288 -->\n",
              "<g id=\"edge8\" class=\"edge\">\n",
              "<title>23417785112176&#45;&gt;23417806452288</title>\n",
              "<path fill=\"none\" stroke=\"black\" d=\"M45,-418.8C45,-409.7 45,-397.79 45,-387.9\"/>\n",
              "<polygon fill=\"black\" stroke=\"black\" points=\"48.5,-387.84 45,-377.84 41.5,-387.84 48.5,-387.84\"/>\n",
              "</g>\n",
              "<!-- 23417806451568 -->\n",
              "<g id=\"node11\" class=\"node\">\n",
              "<title>23417806451568</title>\n",
              "<polygon fill=\"lightgrey\" stroke=\"black\" points=\"193.5,-377.5 108.5,-377.5 108.5,-358.5 193.5,-358.5 193.5,-377.5\"/>\n",
              "<text text-anchor=\"middle\" x=\"151\" y=\"-365.5\" font-family=\"monospace\" font-size=\"10.00\">ReluBackward0</text>\n",
              "</g>\n",
              "<!-- 23417806451568&#45;&gt;23417806451040 -->\n",
              "<g id=\"edge9\" class=\"edge\">\n",
              "<title>23417806451568&#45;&gt;23417806451040</title>\n",
              "<path fill=\"none\" stroke=\"black\" d=\"M155.99,-358.37C161.53,-348.78 170.63,-333.05 177.71,-320.8\"/>\n",
              "<polygon fill=\"black\" stroke=\"black\" points=\"180.88,-322.31 182.85,-311.91 174.82,-318.81 180.88,-322.31\"/>\n",
              "</g>\n",
              "<!-- 23417806451616 -->\n",
              "<g id=\"node12\" class=\"node\">\n",
              "<title>23417806451616</title>\n",
              "<polygon fill=\"lightgrey\" stroke=\"black\" points=\"189,-443.5 99,-443.5 99,-424.5 189,-424.5 189,-443.5\"/>\n",
              "<text text-anchor=\"middle\" x=\"144\" y=\"-431.5\" font-family=\"monospace\" font-size=\"10.00\">AddmmBackward0</text>\n",
              "</g>\n",
              "<!-- 23417806451616&#45;&gt;23417806451568 -->\n",
              "<g id=\"edge10\" class=\"edge\">\n",
              "<title>23417806451616&#45;&gt;23417806451568</title>\n",
              "<path fill=\"none\" stroke=\"black\" d=\"M144.94,-424.37C145.96,-415.07 147.61,-399.98 148.93,-387.9\"/>\n",
              "<polygon fill=\"black\" stroke=\"black\" points=\"152.42,-388.23 150.03,-377.91 145.46,-387.47 152.42,-388.23\"/>\n",
              "</g>\n",
              "<!-- 23417806449600 -->\n",
              "<g id=\"node13\" class=\"node\">\n",
              "<title>23417806449600</title>\n",
              "<polygon fill=\"lightgrey\" stroke=\"black\" points=\"100,-509.5 10,-509.5 10,-490.5 100,-490.5 100,-509.5\"/>\n",
              "<text text-anchor=\"middle\" x=\"55\" y=\"-497.5\" font-family=\"monospace\" font-size=\"10.00\">AccumulateGrad</text>\n",
              "</g>\n",
              "<!-- 23417806449600&#45;&gt;23417806451616 -->\n",
              "<g id=\"edge11\" class=\"edge\">\n",
              "<title>23417806449600&#45;&gt;23417806451616</title>\n",
              "<path fill=\"none\" stroke=\"black\" d=\"M67,-490.37C81.47,-479.97 106.01,-462.32 123.49,-449.75\"/>\n",
              "<polygon fill=\"black\" stroke=\"black\" points=\"125.83,-452.38 131.9,-443.7 121.74,-446.7 125.83,-452.38\"/>\n",
              "</g>\n",
              "<!-- 23417785109936 -->\n",
              "<g id=\"node14\" class=\"node\">\n",
              "<title>23417785109936</title>\n",
              "<polygon fill=\"lightblue\" stroke=\"black\" points=\"82,-581 28,-581 28,-551 82,-551 82,-581\"/>\n",
              "<text text-anchor=\"middle\" x=\"55\" y=\"-569\" font-family=\"monospace\" font-size=\"10.00\">l1.bias</text>\n",
              "<text text-anchor=\"middle\" x=\"55\" y=\"-558\" font-family=\"monospace\" font-size=\"10.00\"> (128)</text>\n",
              "</g>\n",
              "<!-- 23417785109936&#45;&gt;23417806449600 -->\n",
              "<g id=\"edge12\" class=\"edge\">\n",
              "<title>23417785109936&#45;&gt;23417806449600</title>\n",
              "<path fill=\"none\" stroke=\"black\" d=\"M55,-550.8C55,-541.7 55,-529.79 55,-519.9\"/>\n",
              "<polygon fill=\"black\" stroke=\"black\" points=\"58.5,-519.84 55,-509.84 51.5,-519.84 58.5,-519.84\"/>\n",
              "</g>\n",
              "<!-- 23417806449696 -->\n",
              "<g id=\"node15\" class=\"node\">\n",
              "<title>23417806449696</title>\n",
              "<polygon fill=\"lightgrey\" stroke=\"black\" points=\"187.5,-509.5 118.5,-509.5 118.5,-490.5 187.5,-490.5 187.5,-509.5\"/>\n",
              "<text text-anchor=\"middle\" x=\"153\" y=\"-497.5\" font-family=\"monospace\" font-size=\"10.00\">TBackward0</text>\n",
              "</g>\n",
              "<!-- 23417806449696&#45;&gt;23417806451616 -->\n",
              "<g id=\"edge13\" class=\"edge\">\n",
              "<title>23417806449696&#45;&gt;23417806451616</title>\n",
              "<path fill=\"none\" stroke=\"black\" d=\"M151.79,-490.37C150.48,-481.07 148.36,-465.98 146.66,-453.9\"/>\n",
              "<polygon fill=\"black\" stroke=\"black\" points=\"150.11,-453.32 145.25,-443.91 143.18,-454.3 150.11,-453.32\"/>\n",
              "</g>\n",
              "<!-- 23417806450080 -->\n",
              "<g id=\"node16\" class=\"node\">\n",
              "<title>23417806450080</title>\n",
              "<polygon fill=\"lightgrey\" stroke=\"black\" points=\"198,-575.5 108,-575.5 108,-556.5 198,-556.5 198,-575.5\"/>\n",
              "<text text-anchor=\"middle\" x=\"153\" y=\"-563.5\" font-family=\"monospace\" font-size=\"10.00\">AccumulateGrad</text>\n",
              "</g>\n",
              "<!-- 23417806450080&#45;&gt;23417806449696 -->\n",
              "<g id=\"edge14\" class=\"edge\">\n",
              "<title>23417806450080&#45;&gt;23417806449696</title>\n",
              "<path fill=\"none\" stroke=\"black\" d=\"M153,-556.37C153,-547.16 153,-532.29 153,-520.27\"/>\n",
              "<polygon fill=\"black\" stroke=\"black\" points=\"156.5,-519.91 153,-509.91 149.5,-519.91 156.5,-519.91\"/>\n",
              "</g>\n",
              "<!-- 23417788581984 -->\n",
              "<g id=\"node17\" class=\"node\">\n",
              "<title>23417788581984</title>\n",
              "<polygon fill=\"lightblue\" stroke=\"black\" points=\"190,-647 116,-647 116,-617 190,-617 190,-647\"/>\n",
              "<text text-anchor=\"middle\" x=\"153\" y=\"-635\" font-family=\"monospace\" font-size=\"10.00\">l1.weight</text>\n",
              "<text text-anchor=\"middle\" x=\"153\" y=\"-624\" font-family=\"monospace\" font-size=\"10.00\"> (128, 784)</text>\n",
              "</g>\n",
              "<!-- 23417788581984&#45;&gt;23417806450080 -->\n",
              "<g id=\"edge15\" class=\"edge\">\n",
              "<title>23417788581984&#45;&gt;23417806450080</title>\n",
              "<path fill=\"none\" stroke=\"black\" d=\"M153,-616.8C153,-607.7 153,-595.79 153,-585.9\"/>\n",
              "<polygon fill=\"black\" stroke=\"black\" points=\"156.5,-585.84 153,-575.84 149.5,-585.84 156.5,-585.84\"/>\n",
              "</g>\n",
              "<!-- 23417806451280 -->\n",
              "<g id=\"node18\" class=\"node\">\n",
              "<title>23417806451280</title>\n",
              "<polygon fill=\"lightgrey\" stroke=\"black\" points=\"280.5,-377.5 211.5,-377.5 211.5,-358.5 280.5,-358.5 280.5,-377.5\"/>\n",
              "<text text-anchor=\"middle\" x=\"246\" y=\"-365.5\" font-family=\"monospace\" font-size=\"10.00\">TBackward0</text>\n",
              "</g>\n",
              "<!-- 23417806451280&#45;&gt;23417806451040 -->\n",
              "<g id=\"edge16\" class=\"edge\">\n",
              "<title>23417806451280&#45;&gt;23417806451040</title>\n",
              "<path fill=\"none\" stroke=\"black\" d=\"M238.18,-358.37C229.15,-348.4 214.09,-331.79 202.83,-319.36\"/>\n",
              "<polygon fill=\"black\" stroke=\"black\" points=\"205.38,-316.96 196.07,-311.91 200.19,-321.67 205.38,-316.96\"/>\n",
              "</g>\n",
              "<!-- 23417806446912 -->\n",
              "<g id=\"node19\" class=\"node\">\n",
              "<title>23417806446912</title>\n",
              "<polygon fill=\"lightgrey\" stroke=\"black\" points=\"297,-443.5 207,-443.5 207,-424.5 297,-424.5 297,-443.5\"/>\n",
              "<text text-anchor=\"middle\" x=\"252\" y=\"-431.5\" font-family=\"monospace\" font-size=\"10.00\">AccumulateGrad</text>\n",
              "</g>\n",
              "<!-- 23417806446912&#45;&gt;23417806451280 -->\n",
              "<g id=\"edge17\" class=\"edge\">\n",
              "<title>23417806446912&#45;&gt;23417806451280</title>\n",
              "<path fill=\"none\" stroke=\"black\" d=\"M251.19,-424.37C250.32,-415.07 248.9,-399.98 247.77,-387.9\"/>\n",
              "<polygon fill=\"black\" stroke=\"black\" points=\"251.25,-387.53 246.83,-377.91 244.28,-388.19 251.25,-387.53\"/>\n",
              "</g>\n",
              "<!-- 23417785730528 -->\n",
              "<g id=\"node20\" class=\"node\">\n",
              "<title>23417785730528</title>\n",
              "<polygon fill=\"lightblue\" stroke=\"black\" points=\"289,-515 215,-515 215,-485 289,-485 289,-515\"/>\n",
              "<text text-anchor=\"middle\" x=\"252\" y=\"-503\" font-family=\"monospace\" font-size=\"10.00\">l2.weight</text>\n",
              "<text text-anchor=\"middle\" x=\"252\" y=\"-492\" font-family=\"monospace\" font-size=\"10.00\"> (128, 128)</text>\n",
              "</g>\n",
              "<!-- 23417785730528&#45;&gt;23417806446912 -->\n",
              "<g id=\"edge18\" class=\"edge\">\n",
              "<title>23417785730528&#45;&gt;23417806446912</title>\n",
              "<path fill=\"none\" stroke=\"black\" d=\"M252,-484.8C252,-475.7 252,-463.79 252,-453.9\"/>\n",
              "<polygon fill=\"black\" stroke=\"black\" points=\"255.5,-453.84 252,-443.84 248.5,-453.84 255.5,-453.84\"/>\n",
              "</g>\n",
              "<!-- 23417806451136 -->\n",
              "<g id=\"node21\" class=\"node\">\n",
              "<title>23417806451136</title>\n",
              "<polygon fill=\"lightgrey\" stroke=\"black\" points=\"328.5,-251 259.5,-251 259.5,-232 328.5,-232 328.5,-251\"/>\n",
              "<text text-anchor=\"middle\" x=\"294\" y=\"-239\" font-family=\"monospace\" font-size=\"10.00\">TBackward0</text>\n",
              "</g>\n",
              "<!-- 23417806451136&#45;&gt;23419204940608 -->\n",
              "<g id=\"edge19\" class=\"edge\">\n",
              "<title>23417806451136&#45;&gt;23419204940608</title>\n",
              "<path fill=\"none\" stroke=\"black\" d=\"M277.61,-231.98C261.43,-223.57 236.43,-210.59 217.62,-200.81\"/>\n",
              "<polygon fill=\"black\" stroke=\"black\" points=\"219.17,-197.68 208.69,-196.17 215.95,-203.89 219.17,-197.68\"/>\n",
              "</g>\n",
              "<!-- 23417806450656 -->\n",
              "<g id=\"node22\" class=\"node\">\n",
              "<title>23417806450656</title>\n",
              "<polygon fill=\"lightgrey\" stroke=\"black\" points=\"342,-311.5 252,-311.5 252,-292.5 342,-292.5 342,-311.5\"/>\n",
              "<text text-anchor=\"middle\" x=\"297\" y=\"-299.5\" font-family=\"monospace\" font-size=\"10.00\">AccumulateGrad</text>\n",
              "</g>\n",
              "<!-- 23417806450656&#45;&gt;23417806451136 -->\n",
              "<g id=\"edge20\" class=\"edge\">\n",
              "<title>23417806450656&#45;&gt;23417806451136</title>\n",
              "<path fill=\"none\" stroke=\"black\" d=\"M296.56,-292.37C296.14,-284.25 295.5,-271.81 294.97,-261.39\"/>\n",
              "<polygon fill=\"black\" stroke=\"black\" points=\"298.45,-260.97 294.44,-251.17 291.46,-261.33 298.45,-260.97\"/>\n",
              "</g>\n",
              "<!-- 23417785107456 -->\n",
              "<g id=\"node23\" class=\"node\">\n",
              "<title>23417785107456</title>\n",
              "<polygon fill=\"lightblue\" stroke=\"black\" points=\"367.5,-383 298.5,-383 298.5,-353 367.5,-353 367.5,-383\"/>\n",
              "<text text-anchor=\"middle\" x=\"333\" y=\"-371\" font-family=\"monospace\" font-size=\"10.00\">l3.weight</text>\n",
              "<text text-anchor=\"middle\" x=\"333\" y=\"-360\" font-family=\"monospace\" font-size=\"10.00\"> (10, 128)</text>\n",
              "</g>\n",
              "<!-- 23417785107456&#45;&gt;23417806450656 -->\n",
              "<g id=\"edge21\" class=\"edge\">\n",
              "<title>23417785107456&#45;&gt;23417806450656</title>\n",
              "<path fill=\"none\" stroke=\"black\" d=\"M325.01,-352.8C319.67,-343.31 312.61,-330.76 306.92,-320.63\"/>\n",
              "<polygon fill=\"black\" stroke=\"black\" points=\"309.93,-318.84 301.97,-311.84 303.83,-322.28 309.93,-318.84\"/>\n",
              "</g>\n",
              "</g>\n",
              "</svg>\n"
            ],
            "text/plain": [
              "<graphviz.graphs.Digraph at 0x154c60c44340>"
            ]
          },
          "execution_count": 57,
          "metadata": {},
          "output_type": "execute_result"
        }
      ],
      "source": [
        "# 予測計算\n",
        "outputs = net(inputs)\n",
        "\n",
        "#  損失計算\n",
        "loss = criterion(outputs, labels)\n",
        "\n",
        "# 損失の計算グラフ可視化\n",
        "make_dot(loss, params=dict(net.named_parameters()))"
      ]
    },
    {
      "cell_type": "markdown",
      "metadata": {
        "id": "MSvDarxnQRbh"
      },
      "source": [
        "### 勾配計算"
      ]
    },
    {
      "cell_type": "code",
      "execution_count": 58,
      "metadata": {
        "id": "fqzLuvQ3ix3t"
      },
      "outputs": [
        {
          "name": "stdout",
          "output_type": "stream",
          "text": [
            "[[-0.00071 -0.00071 -0.00071 ... -0.00071 -0.00071 -0.00071]\n",
            " [-0.0001  -0.0001  -0.0001  ... -0.0001  -0.0001  -0.0001 ]\n",
            " [-0.00053 -0.00053 -0.00053 ... -0.00053 -0.00053 -0.00053]\n",
            " ...\n",
            " [ 0.00148  0.00148  0.00148 ...  0.00148  0.00148  0.00148]\n",
            " [ 0.00023  0.00023  0.00023 ...  0.00023  0.00023  0.00023]\n",
            " [ 0.00028  0.00028  0.00028 ...  0.00028  0.00028  0.00028]]\n",
            "0.0008487979\n"
          ]
        }
      ],
      "source": [
        "# 勾配計算\n",
        "loss.backward()\n",
        "\n",
        "# 勾配計算結果の一部\n",
        "w = net.to('cpu').l1.weight.grad.numpy()\n",
        "print(w)\n",
        "\n",
        "# 各要素の絶対値の平均\n",
        "print(np.abs(w).mean())"
      ]
    },
    {
      "cell_type": "markdown",
      "metadata": {
        "id": "0d8Wavl7rehD"
      },
      "source": [
        "### 繰り返し計算"
      ]
    },
    {
      "cell_type": "code",
      "execution_count": 59,
      "metadata": {
        "id": "3Y4-Y2KA602e"
      },
      "outputs": [],
      "source": [
        "# 乱数の固定化\n",
        "torch.manual_seed(123)\n",
        "torch.cuda.manual_seed(123)\n",
        "torch.backends.cudnn.deterministic = True\n",
        "torch.use_deterministic_algorithms = True\n",
        "\n",
        "# モデルインスタンス生成\n",
        "net = Net2(n_input, n_output, n_hidden).to(device)\n",
        "\n",
        "# 損失関数： 交差エントロピー関数\n",
        "criterion = nn.CrossEntropyLoss()\n",
        "\n",
        "# 最適化関数: 勾配降下法\n",
        "optimizer = optim.SGD(net.parameters(), lr=lr)\n",
        "\n",
        "# 繰り返し回数\n",
        "num_epochs = 200\n",
        "\n",
        "# 評価結果記録用\n",
        "history2 = np.zeros((0,5))"
      ]
    },
    {
      "cell_type": "code",
      "execution_count": 62,
      "metadata": {
        "id": "3S5NlNuoXi2I"
      },
      "outputs": [
        {
          "name": "stderr",
          "output_type": "stream",
          "text": [
            "                                                 \r"
          ]
        },
        {
          "name": "stdout",
          "output_type": "stream",
          "text": [
            "Epoch [1/200], loss: 0.68348 acc: 0.83500 val_loss: 0.59091, val_acc: 0.85440\n"
          ]
        },
        {
          "name": "stderr",
          "output_type": "stream",
          "text": [
            "                                                 \r"
          ]
        },
        {
          "name": "stdout",
          "output_type": "stream",
          "text": [
            "Epoch [2/200], loss: 0.55614 acc: 0.85635 val_loss: 0.49907, val_acc: 0.86860\n"
          ]
        },
        {
          "name": "stderr",
          "output_type": "stream",
          "text": [
            "                                                 \r"
          ]
        },
        {
          "name": "stdout",
          "output_type": "stream",
          "text": [
            "Epoch [3/200], loss: 0.48658 acc: 0.87038 val_loss: 0.44713, val_acc: 0.87900\n"
          ]
        },
        {
          "name": "stderr",
          "output_type": "stream",
          "text": [
            "                                                 \r"
          ]
        },
        {
          "name": "stdout",
          "output_type": "stream",
          "text": [
            "Epoch [4/200], loss: 0.44354 acc: 0.87825 val_loss: 0.41107, val_acc: 0.88700\n"
          ]
        },
        {
          "name": "stderr",
          "output_type": "stream",
          "text": [
            " 28%|██▊       | 34/120 [00:02<00:05, 15.40it/s]Exception ignored in: <function tqdm.__del__ at 0x154cb5dbed40>\n",
            "Traceback (most recent call last):\n",
            "  File \"/home/miyawaki/anaconda3/envs/irvs_get_started/lib/python3.10/site-packages/tqdm/std.py\", line 1145, in __del__\n",
            "    self.close()\n",
            "  File \"/home/miyawaki/anaconda3/envs/irvs_get_started/lib/python3.10/site-packages/tqdm/notebook.py\", line 283, in close\n",
            "    self.disp(bar_style='danger', check_delay=False)\n",
            "AttributeError: 'tqdm_notebook' object has no attribute 'disp'\n",
            "                                                 \r"
          ]
        },
        {
          "name": "stdout",
          "output_type": "stream",
          "text": [
            "Epoch [5/200], loss: 0.41437 acc: 0.88405 val_loss: 0.38665, val_acc: 0.89360\n"
          ]
        },
        {
          "name": "stderr",
          "output_type": "stream",
          "text": [
            "                                                 \r"
          ]
        },
        {
          "name": "stdout",
          "output_type": "stream",
          "text": [
            "Epoch [6/200], loss: 0.39283 acc: 0.88872 val_loss: 0.36793, val_acc: 0.89710\n"
          ]
        },
        {
          "name": "stderr",
          "output_type": "stream",
          "text": [
            "                                                 \r"
          ]
        },
        {
          "name": "stdout",
          "output_type": "stream",
          "text": [
            "Epoch [7/200], loss: 0.37652 acc: 0.89253 val_loss: 0.35499, val_acc: 0.89930\n"
          ]
        },
        {
          "name": "stderr",
          "output_type": "stream",
          "text": [
            "                                                 \r"
          ]
        },
        {
          "name": "stdout",
          "output_type": "stream",
          "text": [
            "Epoch [8/200], loss: 0.36366 acc: 0.89582 val_loss: 0.34422, val_acc: 0.90200\n"
          ]
        },
        {
          "name": "stderr",
          "output_type": "stream",
          "text": [
            "                                                 \r"
          ]
        },
        {
          "name": "stdout",
          "output_type": "stream",
          "text": [
            "Epoch [9/200], loss: 0.35249 acc: 0.89827 val_loss: 0.33463, val_acc: 0.90350\n"
          ]
        },
        {
          "name": "stderr",
          "output_type": "stream",
          "text": [
            "                                                 \r"
          ]
        },
        {
          "name": "stdout",
          "output_type": "stream",
          "text": [
            "Epoch [10/200], loss: 0.34307 acc: 0.90053 val_loss: 0.32614, val_acc: 0.90620\n"
          ]
        },
        {
          "name": "stderr",
          "output_type": "stream",
          "text": [
            "                                                 \r"
          ]
        },
        {
          "name": "stdout",
          "output_type": "stream",
          "text": [
            "Epoch [11/200], loss: 0.33498 acc: 0.90360 val_loss: 0.31965, val_acc: 0.90940\n"
          ]
        },
        {
          "name": "stderr",
          "output_type": "stream",
          "text": [
            "                                                 \r"
          ]
        },
        {
          "name": "stdout",
          "output_type": "stream",
          "text": [
            "Epoch [12/200], loss: 0.32783 acc: 0.90452 val_loss: 0.31199, val_acc: 0.90960\n"
          ]
        },
        {
          "name": "stderr",
          "output_type": "stream",
          "text": [
            "                                                 \r"
          ]
        },
        {
          "name": "stdout",
          "output_type": "stream",
          "text": [
            "Epoch [13/200], loss: 0.32119 acc: 0.90693 val_loss: 0.30786, val_acc: 0.91260\n"
          ]
        },
        {
          "name": "stderr",
          "output_type": "stream",
          "text": [
            "                                                 \r"
          ]
        },
        {
          "name": "stdout",
          "output_type": "stream",
          "text": [
            "Epoch [14/200], loss: 0.31533 acc: 0.90798 val_loss: 0.30191, val_acc: 0.91260\n"
          ]
        },
        {
          "name": "stderr",
          "output_type": "stream",
          "text": [
            "                                                 \r"
          ]
        },
        {
          "name": "stdout",
          "output_type": "stream",
          "text": [
            "Epoch [15/200], loss: 0.30993 acc: 0.90967 val_loss: 0.29615, val_acc: 0.91420\n"
          ]
        },
        {
          "name": "stderr",
          "output_type": "stream",
          "text": [
            "                                                 \r"
          ]
        },
        {
          "name": "stdout",
          "output_type": "stream",
          "text": [
            "Epoch [16/200], loss: 0.30511 acc: 0.91142 val_loss: 0.29323, val_acc: 0.91420\n"
          ]
        },
        {
          "name": "stderr",
          "output_type": "stream",
          "text": [
            "                                                 \r"
          ]
        },
        {
          "name": "stdout",
          "output_type": "stream",
          "text": [
            "Epoch [17/200], loss: 0.30047 acc: 0.91265 val_loss: 0.28826, val_acc: 0.91610\n"
          ]
        },
        {
          "name": "stderr",
          "output_type": "stream",
          "text": [
            "                                                 \r"
          ]
        },
        {
          "name": "stdout",
          "output_type": "stream",
          "text": [
            "Epoch [18/200], loss: 0.29575 acc: 0.91413 val_loss: 0.28695, val_acc: 0.91620\n"
          ]
        },
        {
          "name": "stderr",
          "output_type": "stream",
          "text": [
            "                                                 \r"
          ]
        },
        {
          "name": "stdout",
          "output_type": "stream",
          "text": [
            "Epoch [19/200], loss: 0.29165 acc: 0.91562 val_loss: 0.28141, val_acc: 0.91870\n"
          ]
        },
        {
          "name": "stderr",
          "output_type": "stream",
          "text": [
            "                                                 \r"
          ]
        },
        {
          "name": "stdout",
          "output_type": "stream",
          "text": [
            "Epoch [20/200], loss: 0.28753 acc: 0.91583 val_loss: 0.27676, val_acc: 0.92050\n"
          ]
        },
        {
          "name": "stderr",
          "output_type": "stream",
          "text": [
            "                                                 \r"
          ]
        },
        {
          "name": "stdout",
          "output_type": "stream",
          "text": [
            "Epoch [21/200], loss: 0.28380 acc: 0.91757 val_loss: 0.27587, val_acc: 0.91900\n"
          ]
        },
        {
          "name": "stderr",
          "output_type": "stream",
          "text": [
            "                                                 \r"
          ]
        },
        {
          "name": "stdout",
          "output_type": "stream",
          "text": [
            "Epoch [22/200], loss: 0.27990 acc: 0.91833 val_loss: 0.27336, val_acc: 0.91990\n"
          ]
        },
        {
          "name": "stderr",
          "output_type": "stream",
          "text": [
            "                                                 \r"
          ]
        },
        {
          "name": "stdout",
          "output_type": "stream",
          "text": [
            "Epoch [23/200], loss: 0.27661 acc: 0.91927 val_loss: 0.26740, val_acc: 0.92250\n"
          ]
        },
        {
          "name": "stderr",
          "output_type": "stream",
          "text": [
            "                                                 \r"
          ]
        },
        {
          "name": "stdout",
          "output_type": "stream",
          "text": [
            "Epoch [24/200], loss: 0.27289 acc: 0.92087 val_loss: 0.26630, val_acc: 0.92250\n"
          ]
        },
        {
          "name": "stderr",
          "output_type": "stream",
          "text": [
            "                                                 \r"
          ]
        },
        {
          "name": "stdout",
          "output_type": "stream",
          "text": [
            "Epoch [25/200], loss: 0.26965 acc: 0.92175 val_loss: 0.26190, val_acc: 0.92340\n"
          ]
        },
        {
          "name": "stderr",
          "output_type": "stream",
          "text": [
            "                                                 \r"
          ]
        },
        {
          "name": "stdout",
          "output_type": "stream",
          "text": [
            "Epoch [26/200], loss: 0.26654 acc: 0.92208 val_loss: 0.25962, val_acc: 0.92450\n"
          ]
        },
        {
          "name": "stderr",
          "output_type": "stream",
          "text": [
            "                                                 \r"
          ]
        },
        {
          "name": "stdout",
          "output_type": "stream",
          "text": [
            "Epoch [27/200], loss: 0.26356 acc: 0.92293 val_loss: 0.25582, val_acc: 0.92650\n"
          ]
        },
        {
          "name": "stderr",
          "output_type": "stream",
          "text": [
            "                                                 \r"
          ]
        },
        {
          "name": "stdout",
          "output_type": "stream",
          "text": [
            "Epoch [28/200], loss: 0.26025 acc: 0.92483 val_loss: 0.25398, val_acc: 0.92540\n"
          ]
        },
        {
          "name": "stderr",
          "output_type": "stream",
          "text": [
            "                                                 \r"
          ]
        },
        {
          "name": "stdout",
          "output_type": "stream",
          "text": [
            "Epoch [29/200], loss: 0.25722 acc: 0.92545 val_loss: 0.25205, val_acc: 0.92570\n"
          ]
        },
        {
          "name": "stderr",
          "output_type": "stream",
          "text": [
            "                                                 \r"
          ]
        },
        {
          "name": "stdout",
          "output_type": "stream",
          "text": [
            "Epoch [30/200], loss: 0.25427 acc: 0.92590 val_loss: 0.24828, val_acc: 0.92800\n"
          ]
        },
        {
          "name": "stderr",
          "output_type": "stream",
          "text": [
            "                                                 \r"
          ]
        },
        {
          "name": "stdout",
          "output_type": "stream",
          "text": [
            "Epoch [31/200], loss: 0.25143 acc: 0.92732 val_loss: 0.24560, val_acc: 0.92920\n"
          ]
        },
        {
          "name": "stderr",
          "output_type": "stream",
          "text": [
            "                                                 \r"
          ]
        },
        {
          "name": "stdout",
          "output_type": "stream",
          "text": [
            "Epoch [32/200], loss: 0.24868 acc: 0.92790 val_loss: 0.24380, val_acc: 0.92960\n"
          ]
        },
        {
          "name": "stderr",
          "output_type": "stream",
          "text": [
            "                                                 \r"
          ]
        },
        {
          "name": "stdout",
          "output_type": "stream",
          "text": [
            "Epoch [33/200], loss: 0.24583 acc: 0.92882 val_loss: 0.24229, val_acc: 0.93060\n"
          ]
        },
        {
          "name": "stderr",
          "output_type": "stream",
          "text": [
            "                                                 \r"
          ]
        },
        {
          "name": "stdout",
          "output_type": "stream",
          "text": [
            "Epoch [34/200], loss: 0.24324 acc: 0.92937 val_loss: 0.23852, val_acc: 0.93120\n"
          ]
        },
        {
          "name": "stderr",
          "output_type": "stream",
          "text": [
            "                                                 \r"
          ]
        },
        {
          "name": "stdout",
          "output_type": "stream",
          "text": [
            "Epoch [35/200], loss: 0.24038 acc: 0.93048 val_loss: 0.23812, val_acc: 0.93270\n"
          ]
        },
        {
          "name": "stderr",
          "output_type": "stream",
          "text": [
            "                                                 \r"
          ]
        },
        {
          "name": "stdout",
          "output_type": "stream",
          "text": [
            "Epoch [36/200], loss: 0.23779 acc: 0.93123 val_loss: 0.23431, val_acc: 0.93310\n"
          ]
        },
        {
          "name": "stderr",
          "output_type": "stream",
          "text": [
            "                                                 \r"
          ]
        },
        {
          "name": "stdout",
          "output_type": "stream",
          "text": [
            "Epoch [37/200], loss: 0.23509 acc: 0.93198 val_loss: 0.23207, val_acc: 0.93210\n"
          ]
        },
        {
          "name": "stderr",
          "output_type": "stream",
          "text": [
            "                                                 \r"
          ]
        },
        {
          "name": "stdout",
          "output_type": "stream",
          "text": [
            "Epoch [38/200], loss: 0.23262 acc: 0.93267 val_loss: 0.22964, val_acc: 0.93420\n"
          ]
        },
        {
          "name": "stderr",
          "output_type": "stream",
          "text": [
            "                                                 \r"
          ]
        },
        {
          "name": "stdout",
          "output_type": "stream",
          "text": [
            "Epoch [39/200], loss: 0.23010 acc: 0.93363 val_loss: 0.22710, val_acc: 0.93370\n"
          ]
        },
        {
          "name": "stderr",
          "output_type": "stream",
          "text": [
            "                                                 \r"
          ]
        },
        {
          "name": "stdout",
          "output_type": "stream",
          "text": [
            "Epoch [40/200], loss: 0.22731 acc: 0.93427 val_loss: 0.22597, val_acc: 0.93400\n"
          ]
        },
        {
          "name": "stderr",
          "output_type": "stream",
          "text": [
            "                                                 \r"
          ]
        },
        {
          "name": "stdout",
          "output_type": "stream",
          "text": [
            "Epoch [41/200], loss: 0.22510 acc: 0.93462 val_loss: 0.22299, val_acc: 0.93500\n"
          ]
        },
        {
          "name": "stderr",
          "output_type": "stream",
          "text": [
            "                                                 \r"
          ]
        },
        {
          "name": "stdout",
          "output_type": "stream",
          "text": [
            "Epoch [42/200], loss: 0.22252 acc: 0.93535 val_loss: 0.22104, val_acc: 0.93600\n"
          ]
        },
        {
          "name": "stderr",
          "output_type": "stream",
          "text": [
            "                                                 \r"
          ]
        },
        {
          "name": "stdout",
          "output_type": "stream",
          "text": [
            "Epoch [43/200], loss: 0.21996 acc: 0.93645 val_loss: 0.21794, val_acc: 0.93620\n"
          ]
        },
        {
          "name": "stderr",
          "output_type": "stream",
          "text": [
            "                                                 \r"
          ]
        },
        {
          "name": "stdout",
          "output_type": "stream",
          "text": [
            "Epoch [44/200], loss: 0.21760 acc: 0.93780 val_loss: 0.21740, val_acc: 0.93740\n"
          ]
        },
        {
          "name": "stderr",
          "output_type": "stream",
          "text": [
            "                                                 \r"
          ]
        },
        {
          "name": "stdout",
          "output_type": "stream",
          "text": [
            "Epoch [45/200], loss: 0.21515 acc: 0.93792 val_loss: 0.21389, val_acc: 0.93790\n"
          ]
        },
        {
          "name": "stderr",
          "output_type": "stream",
          "text": [
            "                                                 \r"
          ]
        },
        {
          "name": "stdout",
          "output_type": "stream",
          "text": [
            "Epoch [46/200], loss: 0.21288 acc: 0.93853 val_loss: 0.21214, val_acc: 0.93900\n"
          ]
        },
        {
          "name": "stderr",
          "output_type": "stream",
          "text": [
            "                                                 \r"
          ]
        },
        {
          "name": "stdout",
          "output_type": "stream",
          "text": [
            "Epoch [47/200], loss: 0.21053 acc: 0.93898 val_loss: 0.20996, val_acc: 0.93780\n"
          ]
        },
        {
          "name": "stderr",
          "output_type": "stream",
          "text": [
            "                                                 \r"
          ]
        },
        {
          "name": "stdout",
          "output_type": "stream",
          "text": [
            "Epoch [48/200], loss: 0.20834 acc: 0.93955 val_loss: 0.20718, val_acc: 0.93950\n"
          ]
        },
        {
          "name": "stderr",
          "output_type": "stream",
          "text": [
            "                                                 \r"
          ]
        },
        {
          "name": "stdout",
          "output_type": "stream",
          "text": [
            "Epoch [49/200], loss: 0.20596 acc: 0.94070 val_loss: 0.20514, val_acc: 0.93870\n"
          ]
        },
        {
          "name": "stderr",
          "output_type": "stream",
          "text": [
            "                                                 \r"
          ]
        },
        {
          "name": "stdout",
          "output_type": "stream",
          "text": [
            "Epoch [50/200], loss: 0.20383 acc: 0.94132 val_loss: 0.20364, val_acc: 0.94010\n"
          ]
        },
        {
          "name": "stderr",
          "output_type": "stream",
          "text": [
            "                                                 \r"
          ]
        },
        {
          "name": "stdout",
          "output_type": "stream",
          "text": [
            "Epoch [51/200], loss: 0.20158 acc: 0.94168 val_loss: 0.20174, val_acc: 0.93980\n"
          ]
        },
        {
          "name": "stderr",
          "output_type": "stream",
          "text": [
            "                                                 \r"
          ]
        },
        {
          "name": "stdout",
          "output_type": "stream",
          "text": [
            "Epoch [52/200], loss: 0.19950 acc: 0.94268 val_loss: 0.19991, val_acc: 0.94070\n"
          ]
        },
        {
          "name": "stderr",
          "output_type": "stream",
          "text": [
            "                                                 \r"
          ]
        },
        {
          "name": "stdout",
          "output_type": "stream",
          "text": [
            "Epoch [53/200], loss: 0.19750 acc: 0.94335 val_loss: 0.19773, val_acc: 0.94190\n"
          ]
        },
        {
          "name": "stderr",
          "output_type": "stream",
          "text": [
            "                                                 \r"
          ]
        },
        {
          "name": "stdout",
          "output_type": "stream",
          "text": [
            "Epoch [54/200], loss: 0.19526 acc: 0.94355 val_loss: 0.19632, val_acc: 0.94140\n"
          ]
        },
        {
          "name": "stderr",
          "output_type": "stream",
          "text": [
            "                                                 \r"
          ]
        },
        {
          "name": "stdout",
          "output_type": "stream",
          "text": [
            "Epoch [55/200], loss: 0.19324 acc: 0.94425 val_loss: 0.19381, val_acc: 0.94220\n"
          ]
        },
        {
          "name": "stderr",
          "output_type": "stream",
          "text": [
            "                                                 \r"
          ]
        },
        {
          "name": "stdout",
          "output_type": "stream",
          "text": [
            "Epoch [56/200], loss: 0.19117 acc: 0.94510 val_loss: 0.19222, val_acc: 0.94250\n"
          ]
        },
        {
          "name": "stderr",
          "output_type": "stream",
          "text": [
            "                                                 \r"
          ]
        },
        {
          "name": "stdout",
          "output_type": "stream",
          "text": [
            "Epoch [57/200], loss: 0.18920 acc: 0.94513 val_loss: 0.19037, val_acc: 0.94310\n"
          ]
        },
        {
          "name": "stderr",
          "output_type": "stream",
          "text": [
            "                                                 \r"
          ]
        },
        {
          "name": "stdout",
          "output_type": "stream",
          "text": [
            "Epoch [58/200], loss: 0.18734 acc: 0.94588 val_loss: 0.18873, val_acc: 0.94370\n"
          ]
        },
        {
          "name": "stderr",
          "output_type": "stream",
          "text": [
            "                                                 \r"
          ]
        },
        {
          "name": "stdout",
          "output_type": "stream",
          "text": [
            "Epoch [59/200], loss: 0.18546 acc: 0.94680 val_loss: 0.18731, val_acc: 0.94440\n"
          ]
        },
        {
          "name": "stderr",
          "output_type": "stream",
          "text": [
            "                                                 \r"
          ]
        },
        {
          "name": "stdout",
          "output_type": "stream",
          "text": [
            "Epoch [60/200], loss: 0.18344 acc: 0.94712 val_loss: 0.18573, val_acc: 0.94460\n"
          ]
        },
        {
          "name": "stderr",
          "output_type": "stream",
          "text": [
            "                                                 \r"
          ]
        },
        {
          "name": "stdout",
          "output_type": "stream",
          "text": [
            "Epoch [61/200], loss: 0.18163 acc: 0.94775 val_loss: 0.18310, val_acc: 0.94580\n"
          ]
        },
        {
          "name": "stderr",
          "output_type": "stream",
          "text": [
            "                                                 \r"
          ]
        },
        {
          "name": "stdout",
          "output_type": "stream",
          "text": [
            "Epoch [62/200], loss: 0.17985 acc: 0.94825 val_loss: 0.18150, val_acc: 0.94570\n"
          ]
        },
        {
          "name": "stderr",
          "output_type": "stream",
          "text": [
            "                                                 \r"
          ]
        },
        {
          "name": "stdout",
          "output_type": "stream",
          "text": [
            "Epoch [63/200], loss: 0.17811 acc: 0.94873 val_loss: 0.17980, val_acc: 0.94720\n"
          ]
        },
        {
          "name": "stderr",
          "output_type": "stream",
          "text": [
            "                                                 \r"
          ]
        },
        {
          "name": "stdout",
          "output_type": "stream",
          "text": [
            "Epoch [64/200], loss: 0.17615 acc: 0.94917 val_loss: 0.17817, val_acc: 0.94660\n"
          ]
        },
        {
          "name": "stderr",
          "output_type": "stream",
          "text": [
            "                                                 \r"
          ]
        },
        {
          "name": "stdout",
          "output_type": "stream",
          "text": [
            "Epoch [65/200], loss: 0.17429 acc: 0.94965 val_loss: 0.17649, val_acc: 0.94740\n"
          ]
        },
        {
          "name": "stderr",
          "output_type": "stream",
          "text": [
            "                                                 \r"
          ]
        },
        {
          "name": "stdout",
          "output_type": "stream",
          "text": [
            "Epoch [66/200], loss: 0.17271 acc: 0.95005 val_loss: 0.17751, val_acc: 0.94820\n"
          ]
        },
        {
          "name": "stderr",
          "output_type": "stream",
          "text": [
            "                                                 \r"
          ]
        },
        {
          "name": "stdout",
          "output_type": "stream",
          "text": [
            "Epoch [67/200], loss: 0.17103 acc: 0.95082 val_loss: 0.17469, val_acc: 0.94800\n"
          ]
        },
        {
          "name": "stderr",
          "output_type": "stream",
          "text": [
            "                                                 \r"
          ]
        },
        {
          "name": "stdout",
          "output_type": "stream",
          "text": [
            "Epoch [68/200], loss: 0.16928 acc: 0.95122 val_loss: 0.17224, val_acc: 0.94780\n"
          ]
        },
        {
          "name": "stderr",
          "output_type": "stream",
          "text": [
            "                                                 \r"
          ]
        },
        {
          "name": "stdout",
          "output_type": "stream",
          "text": [
            "Epoch [69/200], loss: 0.16761 acc: 0.95192 val_loss: 0.17000, val_acc: 0.94950\n"
          ]
        },
        {
          "name": "stderr",
          "output_type": "stream",
          "text": [
            "                                                 \r"
          ]
        },
        {
          "name": "stdout",
          "output_type": "stream",
          "text": [
            "Epoch [70/200], loss: 0.16595 acc: 0.95195 val_loss: 0.17011, val_acc: 0.95070\n"
          ]
        },
        {
          "name": "stderr",
          "output_type": "stream",
          "text": [
            "                                                 \r"
          ]
        },
        {
          "name": "stdout",
          "output_type": "stream",
          "text": [
            "Epoch [71/200], loss: 0.16432 acc: 0.95318 val_loss: 0.16809, val_acc: 0.95070\n"
          ]
        },
        {
          "name": "stderr",
          "output_type": "stream",
          "text": [
            "                                                 \r"
          ]
        },
        {
          "name": "stdout",
          "output_type": "stream",
          "text": [
            "Epoch [72/200], loss: 0.16287 acc: 0.95342 val_loss: 0.16649, val_acc: 0.94970\n"
          ]
        },
        {
          "name": "stderr",
          "output_type": "stream",
          "text": [
            "                                                 \r"
          ]
        },
        {
          "name": "stdout",
          "output_type": "stream",
          "text": [
            "Epoch [73/200], loss: 0.16137 acc: 0.95378 val_loss: 0.16495, val_acc: 0.95180\n"
          ]
        },
        {
          "name": "stderr",
          "output_type": "stream",
          "text": [
            "                                                 \r"
          ]
        },
        {
          "name": "stdout",
          "output_type": "stream",
          "text": [
            "Epoch [74/200], loss: 0.15965 acc: 0.95440 val_loss: 0.16373, val_acc: 0.95110\n"
          ]
        },
        {
          "name": "stderr",
          "output_type": "stream",
          "text": [
            "                                                 \r"
          ]
        },
        {
          "name": "stdout",
          "output_type": "stream",
          "text": [
            "Epoch [75/200], loss: 0.15831 acc: 0.95443 val_loss: 0.16323, val_acc: 0.95230\n"
          ]
        },
        {
          "name": "stderr",
          "output_type": "stream",
          "text": [
            "                                                 \r"
          ]
        },
        {
          "name": "stdout",
          "output_type": "stream",
          "text": [
            "Epoch [76/200], loss: 0.15676 acc: 0.95513 val_loss: 0.16076, val_acc: 0.95210\n"
          ]
        },
        {
          "name": "stderr",
          "output_type": "stream",
          "text": [
            "                                                 \r"
          ]
        },
        {
          "name": "stdout",
          "output_type": "stream",
          "text": [
            "Epoch [77/200], loss: 0.15520 acc: 0.95565 val_loss: 0.16046, val_acc: 0.95190\n"
          ]
        },
        {
          "name": "stderr",
          "output_type": "stream",
          "text": [
            "                                                 \r"
          ]
        },
        {
          "name": "stdout",
          "output_type": "stream",
          "text": [
            "Epoch [78/200], loss: 0.15371 acc: 0.95603 val_loss: 0.15961, val_acc: 0.95220\n"
          ]
        },
        {
          "name": "stderr",
          "output_type": "stream",
          "text": [
            "                                                 \r"
          ]
        },
        {
          "name": "stdout",
          "output_type": "stream",
          "text": [
            "Epoch [79/200], loss: 0.15236 acc: 0.95673 val_loss: 0.15720, val_acc: 0.95320\n"
          ]
        },
        {
          "name": "stderr",
          "output_type": "stream",
          "text": [
            "                                                 \r"
          ]
        },
        {
          "name": "stdout",
          "output_type": "stream",
          "text": [
            "Epoch [80/200], loss: 0.15116 acc: 0.95677 val_loss: 0.15586, val_acc: 0.95340\n"
          ]
        },
        {
          "name": "stderr",
          "output_type": "stream",
          "text": [
            "                                                 \r"
          ]
        },
        {
          "name": "stdout",
          "output_type": "stream",
          "text": [
            "Epoch [81/200], loss: 0.14962 acc: 0.95723 val_loss: 0.15462, val_acc: 0.95300\n"
          ]
        },
        {
          "name": "stderr",
          "output_type": "stream",
          "text": [
            "                                                 \r"
          ]
        },
        {
          "name": "stdout",
          "output_type": "stream",
          "text": [
            "Epoch [82/200], loss: 0.14811 acc: 0.95755 val_loss: 0.15487, val_acc: 0.95320\n"
          ]
        },
        {
          "name": "stderr",
          "output_type": "stream",
          "text": [
            "                                                 \r"
          ]
        },
        {
          "name": "stdout",
          "output_type": "stream",
          "text": [
            "Epoch [83/200], loss: 0.14689 acc: 0.95775 val_loss: 0.15244, val_acc: 0.95440\n"
          ]
        },
        {
          "name": "stderr",
          "output_type": "stream",
          "text": [
            "                                                 \r"
          ]
        },
        {
          "name": "stdout",
          "output_type": "stream",
          "text": [
            "Epoch [84/200], loss: 0.14551 acc: 0.95815 val_loss: 0.15140, val_acc: 0.95500\n"
          ]
        },
        {
          "name": "stderr",
          "output_type": "stream",
          "text": [
            "                                                 \r"
          ]
        },
        {
          "name": "stdout",
          "output_type": "stream",
          "text": [
            "Epoch [85/200], loss: 0.14428 acc: 0.95902 val_loss: 0.15058, val_acc: 0.95500\n"
          ]
        },
        {
          "name": "stderr",
          "output_type": "stream",
          "text": [
            "                                                 \r"
          ]
        },
        {
          "name": "stdout",
          "output_type": "stream",
          "text": [
            "Epoch [86/200], loss: 0.14287 acc: 0.95935 val_loss: 0.15045, val_acc: 0.95490\n"
          ]
        },
        {
          "name": "stderr",
          "output_type": "stream",
          "text": [
            "                                                 \r"
          ]
        },
        {
          "name": "stdout",
          "output_type": "stream",
          "text": [
            "Epoch [87/200], loss: 0.14181 acc: 0.95932 val_loss: 0.14880, val_acc: 0.95520\n"
          ]
        },
        {
          "name": "stderr",
          "output_type": "stream",
          "text": [
            "                                                 \r"
          ]
        },
        {
          "name": "stdout",
          "output_type": "stream",
          "text": [
            "Epoch [88/200], loss: 0.14043 acc: 0.95980 val_loss: 0.14787, val_acc: 0.95510\n"
          ]
        },
        {
          "name": "stderr",
          "output_type": "stream",
          "text": [
            "                                                 \r"
          ]
        },
        {
          "name": "stdout",
          "output_type": "stream",
          "text": [
            "Epoch [89/200], loss: 0.13929 acc: 0.96022 val_loss: 0.14540, val_acc: 0.95710\n"
          ]
        },
        {
          "name": "stderr",
          "output_type": "stream",
          "text": [
            "                                                 \r"
          ]
        },
        {
          "name": "stdout",
          "output_type": "stream",
          "text": [
            "Epoch [90/200], loss: 0.13797 acc: 0.96042 val_loss: 0.14493, val_acc: 0.95670\n"
          ]
        },
        {
          "name": "stderr",
          "output_type": "stream",
          "text": [
            "                                                 \r"
          ]
        },
        {
          "name": "stdout",
          "output_type": "stream",
          "text": [
            "Epoch [91/200], loss: 0.13681 acc: 0.96103 val_loss: 0.14394, val_acc: 0.95700\n"
          ]
        },
        {
          "name": "stderr",
          "output_type": "stream",
          "text": [
            "                                                 \r"
          ]
        },
        {
          "name": "stdout",
          "output_type": "stream",
          "text": [
            "Epoch [92/200], loss: 0.13565 acc: 0.96120 val_loss: 0.14329, val_acc: 0.95730\n"
          ]
        },
        {
          "name": "stderr",
          "output_type": "stream",
          "text": [
            "                                                 \r"
          ]
        },
        {
          "name": "stdout",
          "output_type": "stream",
          "text": [
            "Epoch [93/200], loss: 0.13451 acc: 0.96167 val_loss: 0.14303, val_acc: 0.95720\n"
          ]
        },
        {
          "name": "stderr",
          "output_type": "stream",
          "text": [
            "                                                 \r"
          ]
        },
        {
          "name": "stdout",
          "output_type": "stream",
          "text": [
            "Epoch [94/200], loss: 0.13317 acc: 0.96182 val_loss: 0.14084, val_acc: 0.95810\n"
          ]
        },
        {
          "name": "stderr",
          "output_type": "stream",
          "text": [
            "                                                 \r"
          ]
        },
        {
          "name": "stdout",
          "output_type": "stream",
          "text": [
            "Epoch [95/200], loss: 0.13212 acc: 0.96223 val_loss: 0.14041, val_acc: 0.95780\n"
          ]
        },
        {
          "name": "stderr",
          "output_type": "stream",
          "text": [
            "                                                 \r"
          ]
        },
        {
          "name": "stdout",
          "output_type": "stream",
          "text": [
            "Epoch [96/200], loss: 0.13105 acc: 0.96268 val_loss: 0.14046, val_acc: 0.95810\n"
          ]
        },
        {
          "name": "stderr",
          "output_type": "stream",
          "text": [
            "                                                 \r"
          ]
        },
        {
          "name": "stdout",
          "output_type": "stream",
          "text": [
            "Epoch [97/200], loss: 0.12973 acc: 0.96300 val_loss: 0.13919, val_acc: 0.95760\n"
          ]
        },
        {
          "name": "stderr",
          "output_type": "stream",
          "text": [
            "                                                 \r"
          ]
        },
        {
          "name": "stdout",
          "output_type": "stream",
          "text": [
            "Epoch [98/200], loss: 0.12887 acc: 0.96327 val_loss: 0.13741, val_acc: 0.95800\n"
          ]
        },
        {
          "name": "stderr",
          "output_type": "stream",
          "text": [
            "                                                 \r"
          ]
        },
        {
          "name": "stdout",
          "output_type": "stream",
          "text": [
            "Epoch [99/200], loss: 0.12784 acc: 0.96378 val_loss: 0.13635, val_acc: 0.95830\n"
          ]
        },
        {
          "name": "stderr",
          "output_type": "stream",
          "text": [
            "                                                 \r"
          ]
        },
        {
          "name": "stdout",
          "output_type": "stream",
          "text": [
            "Epoch [100/200], loss: 0.12680 acc: 0.96393 val_loss: 0.13592, val_acc: 0.95800\n"
          ]
        },
        {
          "name": "stderr",
          "output_type": "stream",
          "text": [
            "                                                 \r"
          ]
        },
        {
          "name": "stdout",
          "output_type": "stream",
          "text": [
            "Epoch [101/200], loss: 0.12578 acc: 0.96445 val_loss: 0.13501, val_acc: 0.95870\n"
          ]
        },
        {
          "name": "stderr",
          "output_type": "stream",
          "text": [
            "                                                 \r"
          ]
        },
        {
          "name": "stdout",
          "output_type": "stream",
          "text": [
            "Epoch [102/200], loss: 0.12447 acc: 0.96470 val_loss: 0.13465, val_acc: 0.95900\n"
          ]
        },
        {
          "name": "stderr",
          "output_type": "stream",
          "text": [
            "                                                 \r"
          ]
        },
        {
          "name": "stdout",
          "output_type": "stream",
          "text": [
            "Epoch [103/200], loss: 0.12358 acc: 0.96490 val_loss: 0.13355, val_acc: 0.95930\n"
          ]
        },
        {
          "name": "stderr",
          "output_type": "stream",
          "text": [
            "                                                 \r"
          ]
        },
        {
          "name": "stdout",
          "output_type": "stream",
          "text": [
            "Epoch [104/200], loss: 0.12246 acc: 0.96532 val_loss: 0.13234, val_acc: 0.95950\n"
          ]
        },
        {
          "name": "stderr",
          "output_type": "stream",
          "text": [
            "                                                 \r"
          ]
        },
        {
          "name": "stdout",
          "output_type": "stream",
          "text": [
            "Epoch [105/200], loss: 0.12151 acc: 0.96590 val_loss: 0.13240, val_acc: 0.95980\n"
          ]
        },
        {
          "name": "stderr",
          "output_type": "stream",
          "text": [
            "                                                 \r"
          ]
        },
        {
          "name": "stdout",
          "output_type": "stream",
          "text": [
            "Epoch [106/200], loss: 0.12041 acc: 0.96570 val_loss: 0.13016, val_acc: 0.95960\n"
          ]
        },
        {
          "name": "stderr",
          "output_type": "stream",
          "text": [
            "                                                 \r"
          ]
        },
        {
          "name": "stdout",
          "output_type": "stream",
          "text": [
            "Epoch [107/200], loss: 0.11951 acc: 0.96587 val_loss: 0.12987, val_acc: 0.96050\n"
          ]
        },
        {
          "name": "stderr",
          "output_type": "stream",
          "text": [
            "                                                 \r"
          ]
        },
        {
          "name": "stdout",
          "output_type": "stream",
          "text": [
            "Epoch [108/200], loss: 0.11839 acc: 0.96660 val_loss: 0.12873, val_acc: 0.96100\n"
          ]
        },
        {
          "name": "stderr",
          "output_type": "stream",
          "text": [
            "                                                 \r"
          ]
        },
        {
          "name": "stdout",
          "output_type": "stream",
          "text": [
            "Epoch [109/200], loss: 0.11752 acc: 0.96668 val_loss: 0.12869, val_acc: 0.96040\n"
          ]
        },
        {
          "name": "stderr",
          "output_type": "stream",
          "text": [
            "                                                 \r"
          ]
        },
        {
          "name": "stdout",
          "output_type": "stream",
          "text": [
            "Epoch [110/200], loss: 0.11678 acc: 0.96712 val_loss: 0.12711, val_acc: 0.96110\n"
          ]
        },
        {
          "name": "stderr",
          "output_type": "stream",
          "text": [
            "                                                 \r"
          ]
        },
        {
          "name": "stdout",
          "output_type": "stream",
          "text": [
            "Epoch [111/200], loss: 0.11565 acc: 0.96718 val_loss: 0.12782, val_acc: 0.96080\n"
          ]
        },
        {
          "name": "stderr",
          "output_type": "stream",
          "text": [
            "                                                 \r"
          ]
        },
        {
          "name": "stdout",
          "output_type": "stream",
          "text": [
            "Epoch [112/200], loss: 0.11478 acc: 0.96735 val_loss: 0.12711, val_acc: 0.96100\n"
          ]
        },
        {
          "name": "stderr",
          "output_type": "stream",
          "text": [
            "                                                 \r"
          ]
        },
        {
          "name": "stdout",
          "output_type": "stream",
          "text": [
            "Epoch [113/200], loss: 0.11391 acc: 0.96753 val_loss: 0.12532, val_acc: 0.96150\n"
          ]
        },
        {
          "name": "stderr",
          "output_type": "stream",
          "text": [
            "                                                 \r"
          ]
        },
        {
          "name": "stdout",
          "output_type": "stream",
          "text": [
            "Epoch [114/200], loss: 0.11299 acc: 0.96820 val_loss: 0.12504, val_acc: 0.96230\n"
          ]
        },
        {
          "name": "stderr",
          "output_type": "stream",
          "text": [
            "                                                 \r"
          ]
        },
        {
          "name": "stdout",
          "output_type": "stream",
          "text": [
            "Epoch [115/200], loss: 0.11205 acc: 0.96820 val_loss: 0.12365, val_acc: 0.96270\n"
          ]
        },
        {
          "name": "stderr",
          "output_type": "stream",
          "text": [
            "                                                 \r"
          ]
        },
        {
          "name": "stdout",
          "output_type": "stream",
          "text": [
            "Epoch [116/200], loss: 0.11118 acc: 0.96825 val_loss: 0.12281, val_acc: 0.96260\n"
          ]
        },
        {
          "name": "stderr",
          "output_type": "stream",
          "text": [
            "                                                 \r"
          ]
        },
        {
          "name": "stdout",
          "output_type": "stream",
          "text": [
            "Epoch [117/200], loss: 0.11039 acc: 0.96845 val_loss: 0.12289, val_acc: 0.96230\n"
          ]
        },
        {
          "name": "stderr",
          "output_type": "stream",
          "text": [
            "                                                 \r"
          ]
        },
        {
          "name": "stdout",
          "output_type": "stream",
          "text": [
            "Epoch [118/200], loss: 0.10946 acc: 0.96917 val_loss: 0.12236, val_acc: 0.96240\n"
          ]
        },
        {
          "name": "stderr",
          "output_type": "stream",
          "text": [
            "                                                 \r"
          ]
        },
        {
          "name": "stdout",
          "output_type": "stream",
          "text": [
            "Epoch [119/200], loss: 0.10840 acc: 0.96957 val_loss: 0.12130, val_acc: 0.96290\n"
          ]
        },
        {
          "name": "stderr",
          "output_type": "stream",
          "text": [
            "                                                 \r"
          ]
        },
        {
          "name": "stdout",
          "output_type": "stream",
          "text": [
            "Epoch [120/200], loss: 0.10771 acc: 0.96947 val_loss: 0.12009, val_acc: 0.96300\n"
          ]
        },
        {
          "name": "stderr",
          "output_type": "stream",
          "text": [
            "                                                 \r"
          ]
        },
        {
          "name": "stdout",
          "output_type": "stream",
          "text": [
            "Epoch [121/200], loss: 0.10690 acc: 0.96950 val_loss: 0.12033, val_acc: 0.96330\n"
          ]
        },
        {
          "name": "stderr",
          "output_type": "stream",
          "text": [
            "                                                 \r"
          ]
        },
        {
          "name": "stdout",
          "output_type": "stream",
          "text": [
            "Epoch [122/200], loss: 0.10611 acc: 0.96997 val_loss: 0.11927, val_acc: 0.96430\n"
          ]
        },
        {
          "name": "stderr",
          "output_type": "stream",
          "text": [
            "                                                 \r"
          ]
        },
        {
          "name": "stdout",
          "output_type": "stream",
          "text": [
            "Epoch [123/200], loss: 0.10553 acc: 0.97020 val_loss: 0.11879, val_acc: 0.96380\n"
          ]
        },
        {
          "name": "stderr",
          "output_type": "stream",
          "text": [
            "                                                 \r"
          ]
        },
        {
          "name": "stdout",
          "output_type": "stream",
          "text": [
            "Epoch [124/200], loss: 0.10437 acc: 0.97040 val_loss: 0.11799, val_acc: 0.96410\n"
          ]
        },
        {
          "name": "stderr",
          "output_type": "stream",
          "text": [
            "                                                 \r"
          ]
        },
        {
          "name": "stdout",
          "output_type": "stream",
          "text": [
            "Epoch [125/200], loss: 0.10361 acc: 0.97097 val_loss: 0.11939, val_acc: 0.96360\n"
          ]
        },
        {
          "name": "stderr",
          "output_type": "stream",
          "text": [
            "                                                 \r"
          ]
        },
        {
          "name": "stdout",
          "output_type": "stream",
          "text": [
            "Epoch [126/200], loss: 0.10295 acc: 0.97080 val_loss: 0.11675, val_acc: 0.96470\n"
          ]
        },
        {
          "name": "stderr",
          "output_type": "stream",
          "text": [
            "                                                 \r"
          ]
        },
        {
          "name": "stdout",
          "output_type": "stream",
          "text": [
            "Epoch [127/200], loss: 0.10224 acc: 0.97098 val_loss: 0.11752, val_acc: 0.96420\n"
          ]
        },
        {
          "name": "stderr",
          "output_type": "stream",
          "text": [
            "                                                 \r"
          ]
        },
        {
          "name": "stdout",
          "output_type": "stream",
          "text": [
            "Epoch [128/200], loss: 0.10117 acc: 0.97142 val_loss: 0.11545, val_acc: 0.96510\n"
          ]
        },
        {
          "name": "stderr",
          "output_type": "stream",
          "text": [
            "                                                 \r"
          ]
        },
        {
          "name": "stdout",
          "output_type": "stream",
          "text": [
            "Epoch [129/200], loss: 0.10060 acc: 0.97163 val_loss: 0.11535, val_acc: 0.96390\n"
          ]
        },
        {
          "name": "stderr",
          "output_type": "stream",
          "text": [
            "                                                 \r"
          ]
        },
        {
          "name": "stdout",
          "output_type": "stream",
          "text": [
            "Epoch [130/200], loss: 0.09999 acc: 0.97195 val_loss: 0.11457, val_acc: 0.96480\n"
          ]
        },
        {
          "name": "stderr",
          "output_type": "stream",
          "text": [
            "                                                 \r"
          ]
        },
        {
          "name": "stdout",
          "output_type": "stream",
          "text": [
            "Epoch [131/200], loss: 0.09909 acc: 0.97208 val_loss: 0.11454, val_acc: 0.96540\n"
          ]
        },
        {
          "name": "stderr",
          "output_type": "stream",
          "text": [
            "                                                 \r"
          ]
        },
        {
          "name": "stdout",
          "output_type": "stream",
          "text": [
            "Epoch [132/200], loss: 0.09840 acc: 0.97217 val_loss: 0.11423, val_acc: 0.96480\n"
          ]
        },
        {
          "name": "stderr",
          "output_type": "stream",
          "text": [
            "                                                 \r"
          ]
        },
        {
          "name": "stdout",
          "output_type": "stream",
          "text": [
            "Epoch [133/200], loss: 0.09777 acc: 0.97258 val_loss: 0.11296, val_acc: 0.96560\n"
          ]
        },
        {
          "name": "stderr",
          "output_type": "stream",
          "text": [
            "                                                 \r"
          ]
        },
        {
          "name": "stdout",
          "output_type": "stream",
          "text": [
            "Epoch [134/200], loss: 0.09705 acc: 0.97277 val_loss: 0.11233, val_acc: 0.96510\n"
          ]
        },
        {
          "name": "stderr",
          "output_type": "stream",
          "text": [
            "                                                 \r"
          ]
        },
        {
          "name": "stdout",
          "output_type": "stream",
          "text": [
            "Epoch [135/200], loss: 0.09626 acc: 0.97293 val_loss: 0.11250, val_acc: 0.96620\n"
          ]
        },
        {
          "name": "stderr",
          "output_type": "stream",
          "text": [
            "                                                 \r"
          ]
        },
        {
          "name": "stdout",
          "output_type": "stream",
          "text": [
            "Epoch [136/200], loss: 0.09550 acc: 0.97323 val_loss: 0.11127, val_acc: 0.96530\n"
          ]
        },
        {
          "name": "stderr",
          "output_type": "stream",
          "text": [
            "                                                 \r"
          ]
        },
        {
          "name": "stdout",
          "output_type": "stream",
          "text": [
            "Epoch [137/200], loss: 0.09480 acc: 0.97348 val_loss: 0.11220, val_acc: 0.96560\n"
          ]
        },
        {
          "name": "stderr",
          "output_type": "stream",
          "text": [
            "                                                 \r"
          ]
        },
        {
          "name": "stdout",
          "output_type": "stream",
          "text": [
            "Epoch [138/200], loss: 0.09408 acc: 0.97380 val_loss: 0.11055, val_acc: 0.96680\n"
          ]
        },
        {
          "name": "stderr",
          "output_type": "stream",
          "text": [
            "                                                 \r"
          ]
        },
        {
          "name": "stdout",
          "output_type": "stream",
          "text": [
            "Epoch [139/200], loss: 0.09357 acc: 0.97385 val_loss: 0.11110, val_acc: 0.96620\n"
          ]
        },
        {
          "name": "stderr",
          "output_type": "stream",
          "text": [
            "                                                 \r"
          ]
        },
        {
          "name": "stdout",
          "output_type": "stream",
          "text": [
            "Epoch [140/200], loss: 0.09291 acc: 0.97417 val_loss: 0.11010, val_acc: 0.96710\n"
          ]
        },
        {
          "name": "stderr",
          "output_type": "stream",
          "text": [
            "                                                 \r"
          ]
        },
        {
          "name": "stdout",
          "output_type": "stream",
          "text": [
            "Epoch [141/200], loss: 0.09225 acc: 0.97413 val_loss: 0.10844, val_acc: 0.96660\n"
          ]
        },
        {
          "name": "stderr",
          "output_type": "stream",
          "text": [
            "                                                 \r"
          ]
        },
        {
          "name": "stdout",
          "output_type": "stream",
          "text": [
            "Epoch [142/200], loss: 0.09151 acc: 0.97453 val_loss: 0.10987, val_acc: 0.96660\n"
          ]
        },
        {
          "name": "stderr",
          "output_type": "stream",
          "text": [
            "                                                 \r"
          ]
        },
        {
          "name": "stdout",
          "output_type": "stream",
          "text": [
            "Epoch [143/200], loss: 0.09090 acc: 0.97452 val_loss: 0.10781, val_acc: 0.96710\n"
          ]
        },
        {
          "name": "stderr",
          "output_type": "stream",
          "text": [
            "                                                 \r"
          ]
        },
        {
          "name": "stdout",
          "output_type": "stream",
          "text": [
            "Epoch [144/200], loss: 0.09021 acc: 0.97473 val_loss: 0.10808, val_acc: 0.96690\n"
          ]
        },
        {
          "name": "stderr",
          "output_type": "stream",
          "text": [
            "                                                 \r"
          ]
        },
        {
          "name": "stdout",
          "output_type": "stream",
          "text": [
            "Epoch [145/200], loss: 0.08974 acc: 0.97485 val_loss: 0.10806, val_acc: 0.96640\n"
          ]
        },
        {
          "name": "stderr",
          "output_type": "stream",
          "text": [
            "                                                 \r"
          ]
        },
        {
          "name": "stdout",
          "output_type": "stream",
          "text": [
            "Epoch [146/200], loss: 0.08899 acc: 0.97505 val_loss: 0.10677, val_acc: 0.96680\n"
          ]
        },
        {
          "name": "stderr",
          "output_type": "stream",
          "text": [
            "                                                 \r"
          ]
        },
        {
          "name": "stdout",
          "output_type": "stream",
          "text": [
            "Epoch [147/200], loss: 0.08832 acc: 0.97550 val_loss: 0.10733, val_acc: 0.96700\n"
          ]
        },
        {
          "name": "stderr",
          "output_type": "stream",
          "text": [
            "                                                 \r"
          ]
        },
        {
          "name": "stdout",
          "output_type": "stream",
          "text": [
            "Epoch [148/200], loss: 0.08779 acc: 0.97538 val_loss: 0.10604, val_acc: 0.96740\n"
          ]
        },
        {
          "name": "stderr",
          "output_type": "stream",
          "text": [
            "                                                 \r"
          ]
        },
        {
          "name": "stdout",
          "output_type": "stream",
          "text": [
            "Epoch [149/200], loss: 0.08722 acc: 0.97555 val_loss: 0.10622, val_acc: 0.96700\n"
          ]
        },
        {
          "name": "stderr",
          "output_type": "stream",
          "text": [
            "                                                 \r"
          ]
        },
        {
          "name": "stdout",
          "output_type": "stream",
          "text": [
            "Epoch [150/200], loss: 0.08667 acc: 0.97620 val_loss: 0.10470, val_acc: 0.96810\n"
          ]
        },
        {
          "name": "stderr",
          "output_type": "stream",
          "text": [
            "                                                 \r"
          ]
        },
        {
          "name": "stdout",
          "output_type": "stream",
          "text": [
            "Epoch [151/200], loss: 0.08594 acc: 0.97625 val_loss: 0.10559, val_acc: 0.96800\n"
          ]
        },
        {
          "name": "stderr",
          "output_type": "stream",
          "text": [
            "                                                 \r"
          ]
        },
        {
          "name": "stdout",
          "output_type": "stream",
          "text": [
            "Epoch [152/200], loss: 0.08534 acc: 0.97617 val_loss: 0.10436, val_acc: 0.96850\n"
          ]
        },
        {
          "name": "stderr",
          "output_type": "stream",
          "text": [
            "                                                 \r"
          ]
        },
        {
          "name": "stdout",
          "output_type": "stream",
          "text": [
            "Epoch [153/200], loss: 0.08465 acc: 0.97643 val_loss: 0.10318, val_acc: 0.96820\n"
          ]
        },
        {
          "name": "stderr",
          "output_type": "stream",
          "text": [
            "                                                 \r"
          ]
        },
        {
          "name": "stdout",
          "output_type": "stream",
          "text": [
            "Epoch [154/200], loss: 0.08418 acc: 0.97663 val_loss: 0.10327, val_acc: 0.96840\n"
          ]
        },
        {
          "name": "stderr",
          "output_type": "stream",
          "text": [
            "                                                 \r"
          ]
        },
        {
          "name": "stdout",
          "output_type": "stream",
          "text": [
            "Epoch [155/200], loss: 0.08365 acc: 0.97670 val_loss: 0.10327, val_acc: 0.96840\n"
          ]
        },
        {
          "name": "stderr",
          "output_type": "stream",
          "text": [
            "                                                 \r"
          ]
        },
        {
          "name": "stdout",
          "output_type": "stream",
          "text": [
            "Epoch [156/200], loss: 0.08306 acc: 0.97707 val_loss: 0.10219, val_acc: 0.96900\n"
          ]
        },
        {
          "name": "stderr",
          "output_type": "stream",
          "text": [
            "                                                 \r"
          ]
        },
        {
          "name": "stdout",
          "output_type": "stream",
          "text": [
            "Epoch [157/200], loss: 0.08253 acc: 0.97698 val_loss: 0.10306, val_acc: 0.96790\n"
          ]
        },
        {
          "name": "stderr",
          "output_type": "stream",
          "text": [
            "                                                 \r"
          ]
        },
        {
          "name": "stdout",
          "output_type": "stream",
          "text": [
            "Epoch [158/200], loss: 0.08200 acc: 0.97725 val_loss: 0.10185, val_acc: 0.96880\n"
          ]
        },
        {
          "name": "stderr",
          "output_type": "stream",
          "text": [
            "                                                 \r"
          ]
        },
        {
          "name": "stdout",
          "output_type": "stream",
          "text": [
            "Epoch [159/200], loss: 0.08137 acc: 0.97758 val_loss: 0.10188, val_acc: 0.96930\n"
          ]
        },
        {
          "name": "stderr",
          "output_type": "stream",
          "text": [
            "                                                 \r"
          ]
        },
        {
          "name": "stdout",
          "output_type": "stream",
          "text": [
            "Epoch [160/200], loss: 0.08093 acc: 0.97778 val_loss: 0.10009, val_acc: 0.96940\n"
          ]
        },
        {
          "name": "stderr",
          "output_type": "stream",
          "text": [
            "                                                 \r"
          ]
        },
        {
          "name": "stdout",
          "output_type": "stream",
          "text": [
            "Epoch [161/200], loss: 0.08036 acc: 0.97772 val_loss: 0.10031, val_acc: 0.96920\n"
          ]
        },
        {
          "name": "stderr",
          "output_type": "stream",
          "text": [
            "                                                 \r"
          ]
        },
        {
          "name": "stdout",
          "output_type": "stream",
          "text": [
            "Epoch [162/200], loss: 0.07981 acc: 0.97798 val_loss: 0.10077, val_acc: 0.96850\n"
          ]
        },
        {
          "name": "stderr",
          "output_type": "stream",
          "text": [
            "                                                 \r"
          ]
        },
        {
          "name": "stdout",
          "output_type": "stream",
          "text": [
            "Epoch [163/200], loss: 0.07924 acc: 0.97783 val_loss: 0.10056, val_acc: 0.96920\n"
          ]
        },
        {
          "name": "stderr",
          "output_type": "stream",
          "text": [
            "                                                 \r"
          ]
        },
        {
          "name": "stdout",
          "output_type": "stream",
          "text": [
            "Epoch [164/200], loss: 0.07871 acc: 0.97822 val_loss: 0.09990, val_acc: 0.96980\n"
          ]
        },
        {
          "name": "stderr",
          "output_type": "stream",
          "text": [
            "                                                 \r"
          ]
        },
        {
          "name": "stdout",
          "output_type": "stream",
          "text": [
            "Epoch [165/200], loss: 0.07813 acc: 0.97838 val_loss: 0.09869, val_acc: 0.96980\n"
          ]
        },
        {
          "name": "stderr",
          "output_type": "stream",
          "text": [
            "                                                 \r"
          ]
        },
        {
          "name": "stdout",
          "output_type": "stream",
          "text": [
            "Epoch [166/200], loss: 0.07773 acc: 0.97827 val_loss: 0.09821, val_acc: 0.96930\n"
          ]
        },
        {
          "name": "stderr",
          "output_type": "stream",
          "text": [
            "                                                 \r"
          ]
        },
        {
          "name": "stdout",
          "output_type": "stream",
          "text": [
            "Epoch [167/200], loss: 0.07727 acc: 0.97885 val_loss: 0.09897, val_acc: 0.96910\n"
          ]
        },
        {
          "name": "stderr",
          "output_type": "stream",
          "text": [
            "                                                 \r"
          ]
        },
        {
          "name": "stdout",
          "output_type": "stream",
          "text": [
            "Epoch [168/200], loss: 0.07662 acc: 0.97898 val_loss: 0.09726, val_acc: 0.96970\n"
          ]
        },
        {
          "name": "stderr",
          "output_type": "stream",
          "text": [
            "                                                 \r"
          ]
        },
        {
          "name": "stdout",
          "output_type": "stream",
          "text": [
            "Epoch [169/200], loss: 0.07628 acc: 0.97873 val_loss: 0.09802, val_acc: 0.96970\n"
          ]
        },
        {
          "name": "stderr",
          "output_type": "stream",
          "text": [
            "                                                 \r"
          ]
        },
        {
          "name": "stdout",
          "output_type": "stream",
          "text": [
            "Epoch [170/200], loss: 0.07568 acc: 0.97945 val_loss: 0.09697, val_acc: 0.97020\n"
          ]
        },
        {
          "name": "stderr",
          "output_type": "stream",
          "text": [
            "                                                 \r"
          ]
        },
        {
          "name": "stdout",
          "output_type": "stream",
          "text": [
            "Epoch [171/200], loss: 0.07520 acc: 0.97923 val_loss: 0.09720, val_acc: 0.97010\n"
          ]
        },
        {
          "name": "stderr",
          "output_type": "stream",
          "text": [
            "                                                 \r"
          ]
        },
        {
          "name": "stdout",
          "output_type": "stream",
          "text": [
            "Epoch [172/200], loss: 0.07476 acc: 0.97945 val_loss: 0.09666, val_acc: 0.97050\n"
          ]
        },
        {
          "name": "stderr",
          "output_type": "stream",
          "text": [
            "                                                 \r"
          ]
        },
        {
          "name": "stdout",
          "output_type": "stream",
          "text": [
            "Epoch [173/200], loss: 0.07424 acc: 0.97952 val_loss: 0.09682, val_acc: 0.97030\n"
          ]
        },
        {
          "name": "stderr",
          "output_type": "stream",
          "text": [
            "                                                 \r"
          ]
        },
        {
          "name": "stdout",
          "output_type": "stream",
          "text": [
            "Epoch [174/200], loss: 0.07388 acc: 0.97975 val_loss: 0.09560, val_acc: 0.97030\n"
          ]
        },
        {
          "name": "stderr",
          "output_type": "stream",
          "text": [
            "                                                 \r"
          ]
        },
        {
          "name": "stdout",
          "output_type": "stream",
          "text": [
            "Epoch [175/200], loss: 0.07331 acc: 0.97995 val_loss: 0.09567, val_acc: 0.97000\n"
          ]
        },
        {
          "name": "stderr",
          "output_type": "stream",
          "text": [
            "                                                 \r"
          ]
        },
        {
          "name": "stdout",
          "output_type": "stream",
          "text": [
            "Epoch [176/200], loss: 0.07275 acc: 0.97970 val_loss: 0.09520, val_acc: 0.97070\n"
          ]
        },
        {
          "name": "stderr",
          "output_type": "stream",
          "text": [
            "                                                 \r"
          ]
        },
        {
          "name": "stdout",
          "output_type": "stream",
          "text": [
            "Epoch [177/200], loss: 0.07241 acc: 0.97987 val_loss: 0.09449, val_acc: 0.97030\n"
          ]
        },
        {
          "name": "stderr",
          "output_type": "stream",
          "text": [
            "                                                 \r"
          ]
        },
        {
          "name": "stdout",
          "output_type": "stream",
          "text": [
            "Epoch [178/200], loss: 0.07197 acc: 0.98002 val_loss: 0.09444, val_acc: 0.96980\n"
          ]
        },
        {
          "name": "stderr",
          "output_type": "stream",
          "text": [
            "                                                 \r"
          ]
        },
        {
          "name": "stdout",
          "output_type": "stream",
          "text": [
            "Epoch [179/200], loss: 0.07152 acc: 0.98033 val_loss: 0.09452, val_acc: 0.97020\n"
          ]
        },
        {
          "name": "stderr",
          "output_type": "stream",
          "text": [
            "                                                 \r"
          ]
        },
        {
          "name": "stdout",
          "output_type": "stream",
          "text": [
            "Epoch [180/200], loss: 0.07111 acc: 0.98033 val_loss: 0.09414, val_acc: 0.97050\n"
          ]
        },
        {
          "name": "stderr",
          "output_type": "stream",
          "text": [
            "                                                 \r"
          ]
        },
        {
          "name": "stdout",
          "output_type": "stream",
          "text": [
            "Epoch [181/200], loss: 0.07054 acc: 0.98075 val_loss: 0.09418, val_acc: 0.97090\n"
          ]
        },
        {
          "name": "stderr",
          "output_type": "stream",
          "text": [
            "                                                 \r"
          ]
        },
        {
          "name": "stdout",
          "output_type": "stream",
          "text": [
            "Epoch [182/200], loss: 0.07020 acc: 0.98047 val_loss: 0.09373, val_acc: 0.97090\n"
          ]
        },
        {
          "name": "stderr",
          "output_type": "stream",
          "text": [
            "                                                 \r"
          ]
        },
        {
          "name": "stdout",
          "output_type": "stream",
          "text": [
            "Epoch [183/200], loss: 0.06965 acc: 0.98077 val_loss: 0.09437, val_acc: 0.97130\n"
          ]
        },
        {
          "name": "stderr",
          "output_type": "stream",
          "text": [
            "                                                 \r"
          ]
        },
        {
          "name": "stdout",
          "output_type": "stream",
          "text": [
            "Epoch [184/200], loss: 0.06930 acc: 0.98095 val_loss: 0.09290, val_acc: 0.97120\n"
          ]
        },
        {
          "name": "stderr",
          "output_type": "stream",
          "text": [
            "                                                 \r"
          ]
        },
        {
          "name": "stdout",
          "output_type": "stream",
          "text": [
            "Epoch [185/200], loss: 0.06899 acc: 0.98103 val_loss: 0.09269, val_acc: 0.97110\n"
          ]
        },
        {
          "name": "stderr",
          "output_type": "stream",
          "text": [
            "                                                 \r"
          ]
        },
        {
          "name": "stdout",
          "output_type": "stream",
          "text": [
            "Epoch [186/200], loss: 0.06851 acc: 0.98115 val_loss: 0.09218, val_acc: 0.97100\n"
          ]
        },
        {
          "name": "stderr",
          "output_type": "stream",
          "text": [
            "                                                 \r"
          ]
        },
        {
          "name": "stdout",
          "output_type": "stream",
          "text": [
            "Epoch [187/200], loss: 0.06813 acc: 0.98118 val_loss: 0.09215, val_acc: 0.97160\n"
          ]
        },
        {
          "name": "stderr",
          "output_type": "stream",
          "text": [
            "                                                 \r"
          ]
        },
        {
          "name": "stdout",
          "output_type": "stream",
          "text": [
            "Epoch [188/200], loss: 0.06764 acc: 0.98147 val_loss: 0.09153, val_acc: 0.97120\n"
          ]
        },
        {
          "name": "stderr",
          "output_type": "stream",
          "text": [
            "                                                 \r"
          ]
        },
        {
          "name": "stdout",
          "output_type": "stream",
          "text": [
            "Epoch [189/200], loss: 0.06714 acc: 0.98138 val_loss: 0.09179, val_acc: 0.97130\n"
          ]
        },
        {
          "name": "stderr",
          "output_type": "stream",
          "text": [
            "                                                 \r"
          ]
        },
        {
          "name": "stdout",
          "output_type": "stream",
          "text": [
            "Epoch [190/200], loss: 0.06673 acc: 0.98170 val_loss: 0.09093, val_acc: 0.97140\n"
          ]
        },
        {
          "name": "stderr",
          "output_type": "stream",
          "text": [
            "                                                 \r"
          ]
        },
        {
          "name": "stdout",
          "output_type": "stream",
          "text": [
            "Epoch [191/200], loss: 0.06652 acc: 0.98143 val_loss: 0.09098, val_acc: 0.97110\n"
          ]
        },
        {
          "name": "stderr",
          "output_type": "stream",
          "text": [
            "                                                 \r"
          ]
        },
        {
          "name": "stdout",
          "output_type": "stream",
          "text": [
            "Epoch [192/200], loss: 0.06605 acc: 0.98162 val_loss: 0.09126, val_acc: 0.97080\n"
          ]
        },
        {
          "name": "stderr",
          "output_type": "stream",
          "text": [
            "                                                 \r"
          ]
        },
        {
          "name": "stdout",
          "output_type": "stream",
          "text": [
            "Epoch [193/200], loss: 0.06560 acc: 0.98190 val_loss: 0.09197, val_acc: 0.97200\n"
          ]
        },
        {
          "name": "stderr",
          "output_type": "stream",
          "text": [
            "                                                 \r"
          ]
        },
        {
          "name": "stdout",
          "output_type": "stream",
          "text": [
            "Epoch [194/200], loss: 0.06520 acc: 0.98203 val_loss: 0.09158, val_acc: 0.97170\n"
          ]
        },
        {
          "name": "stderr",
          "output_type": "stream",
          "text": [
            "                                                 \r"
          ]
        },
        {
          "name": "stdout",
          "output_type": "stream",
          "text": [
            "Epoch [195/200], loss: 0.06478 acc: 0.98215 val_loss: 0.09063, val_acc: 0.97170\n"
          ]
        },
        {
          "name": "stderr",
          "output_type": "stream",
          "text": [
            "                                                 \r"
          ]
        },
        {
          "name": "stdout",
          "output_type": "stream",
          "text": [
            "Epoch [196/200], loss: 0.06447 acc: 0.98213 val_loss: 0.08963, val_acc: 0.97240\n"
          ]
        },
        {
          "name": "stderr",
          "output_type": "stream",
          "text": [
            "                                                 \r"
          ]
        },
        {
          "name": "stdout",
          "output_type": "stream",
          "text": [
            "Epoch [197/200], loss: 0.06403 acc: 0.98255 val_loss: 0.09046, val_acc: 0.97210\n"
          ]
        },
        {
          "name": "stderr",
          "output_type": "stream",
          "text": [
            "                                                 \r"
          ]
        },
        {
          "name": "stdout",
          "output_type": "stream",
          "text": [
            "Epoch [198/200], loss: 0.06365 acc: 0.98245 val_loss: 0.08929, val_acc: 0.97190\n"
          ]
        },
        {
          "name": "stderr",
          "output_type": "stream",
          "text": [
            "                                                 \r"
          ]
        },
        {
          "name": "stdout",
          "output_type": "stream",
          "text": [
            "Epoch [199/200], loss: 0.06334 acc: 0.98278 val_loss: 0.08867, val_acc: 0.97180\n"
          ]
        },
        {
          "name": "stderr",
          "output_type": "stream",
          "text": [
            "                                                 \r"
          ]
        },
        {
          "name": "stdout",
          "output_type": "stream",
          "text": [
            "Epoch [200/200], loss: 0.06291 acc: 0.98288 val_loss: 0.08871, val_acc: 0.97170\n"
          ]
        }
      ],
      "source": [
        "# tqdmライブラリのインポート\n",
        "#from tqdm.auto import tqdm\n",
        "\n",
        "# 繰り返し計算メインループ\n",
        "\n",
        "for epoch in range(num_epochs):\n",
        "    # 1エポックあたりの正解数(精度計算用)\n",
        "    n_train_acc, n_val_acc = 0, 0\n",
        "    # 1エポックあたりの累積損失(平均化前)\n",
        "    train_loss, val_loss = 0, 0\n",
        "    # 1エポックあたりのデータ累積件数\n",
        "    n_train, n_test = 0, 0\n",
        "\n",
        "    # 訓練フェーズ\n",
        "    for inputs, labels in tqdm(train_loader, leave = False):\n",
        "        # 1バッチあたりのデータ件数\n",
        "        train_batch_size = len(labels)\n",
        "        # 1エポックあたりのデータ累積件数\n",
        "        n_train += train_batch_size\n",
        "\n",
        "        # GPUヘ転送\n",
        "        inputs = inputs.to(device)\n",
        "        labels = labels.to(device)\n",
        "    \n",
        "        #勾配の初期化\n",
        "        optimizer.zero_grad()\n",
        "\n",
        "        # 予測計算\n",
        "        outputs = net(inputs)\n",
        "\n",
        "        # 損失計算\n",
        "        loss = criterion(outputs, labels)\n",
        "\n",
        "        # 勾配計算\n",
        "        loss.backward()\n",
        "    \n",
        "        # パラメータ修正\n",
        "        optimizer.step()\n",
        "\n",
        "        # 予測ラベル導出\n",
        "        predicted = torch.max(outputs, 1)[1]\n",
        "\n",
        "        # 平均前の損失と正解数の計算\n",
        "        # lossは平均計算が行われているので平均前の損失に戻して加算\n",
        "        train_loss += loss.item() * train_batch_size \n",
        "        n_train_acc += (predicted == labels).sum().item() \n",
        "\n",
        "    #予測フェーズ\n",
        "    for inputs_test, labels_test in test_loader:\n",
        "        # 1バッチあたりのデータ件数\n",
        "        test_batch_size = len(labels_test)\n",
        "        # 1エポックあたりのデータ累積件数\n",
        "        n_test += test_batch_size\n",
        "\n",
        "        inputs_test = inputs_test.to(device)\n",
        "        labels_test = labels_test.to(device)\n",
        "            \n",
        "        # 予測計算\n",
        "        outputs_test = net(inputs_test)\n",
        "\n",
        "        # 損失計算\n",
        "        loss_test = criterion(outputs_test, labels_test)\n",
        "\n",
        "        #予測ラベル導出\n",
        "        predicted_test = torch.max(outputs_test, 1)[1]\n",
        "\n",
        "        #  平均前の損失と正解数の計算\n",
        "        # lossは平均計算が行われているので平均前の損失に戻して加算\n",
        "        val_loss +=  loss_test.item() * test_batch_size\n",
        "        n_val_acc +=  (predicted_test == labels_test).sum().item()\n",
        "\n",
        "    # 精度計算\n",
        "    train_acc = n_train_acc / n_train\n",
        "    val_acc = n_val_acc / n_test\n",
        "    # 損失計算\n",
        "    ave_train_loss = train_loss / n_train\n",
        "    ave_val_loss = val_loss / n_test\n",
        "    # 結果表示\n",
        "    print (f'Epoch [{epoch+1}/{num_epochs}], loss: {ave_train_loss:.5f} acc: {train_acc:.5f} val_loss: {ave_val_loss:.5f}, val_acc: {val_acc:.5f}')\n",
        "    # 記録\n",
        "    item = np.array([epoch+1 , ave_train_loss, train_acc, ave_val_loss, val_acc])\n",
        "    history2 = np.vstack((history2, item))"
      ]
    },
    {
      "cell_type": "code",
      "execution_count": 63,
      "metadata": {
        "id": "Ypvzwuju7Imp"
      },
      "outputs": [
        {
          "name": "stdout",
          "output_type": "stream",
          "text": [
            "初期状態: 損失: 2.04603 精度: 0.48140\n",
            "最終状態: 損失: 0.08871 精度: 0.97170\n"
          ]
        }
      ],
      "source": [
        "#損失と精度の確認\n",
        "\n",
        "print(f'初期状態: 損失: {history2[0,3]:.5f} 精度: {history2[0,4]:.5f}' )\n",
        "print(f'最終状態: 損失: {history2[-1,3]:.5f} 精度: {history2[-1,4]:.5f}' )"
      ]
    },
    {
      "cell_type": "code",
      "execution_count": 64,
      "metadata": {
        "id": "ZTvso0I27I2a"
      },
      "outputs": [
        {
          "data": {
            "image/png": "[encoded data removed]",
            "text/plain": [
              "<Figure size 900x800 with 1 Axes>"
            ]
          },
          "metadata": {},
          "output_type": "display_data"
        }
      ],
      "source": [
        "# 学習曲線の表示 (損失)\n",
        "\n",
        "plt.plot(history2[:,0], history2[:,1], 'b', label='訓練')\n",
        "plt.plot(history2[:,0], history2[:,3], 'k', label='検証')\n",
        "plt.xlabel('繰り返し回数')\n",
        "plt.ylabel('損失')\n",
        "plt.title('学習曲線(損失)')\n",
        "plt.legend()\n",
        "plt.show()"
      ]
    },
    {
      "cell_type": "code",
      "execution_count": 65,
      "metadata": {
        "id": "S5qoasEA7JEa"
      },
      "outputs": [
        {
          "data": {
            "image/png": "[encoded data removed]",
            "text/plain": [
              "<Figure size 900x800 with 1 Axes>"
            ]
          },
          "metadata": {},
          "output_type": "display_data"
        }
      ],
      "source": [
        "# 学習曲線の表示 (精度)\n",
        "\n",
        "plt.plot(history2[:,0], history2[:,2], 'b', label='訓練')\n",
        "plt.plot(history2[:,0], history2[:,4], 'k', label='検証')\n",
        "plt.xlabel('繰り返し回数')\n",
        "plt.ylabel('精度')\n",
        "plt.title('学習曲線(精度)')\n",
        "plt.legend()\n",
        "plt.show()"
      ]
    },
    {
      "cell_type": "markdown",
      "metadata": {
        "id": "pW9O1YawQRbq"
      },
      "source": [
        "## コラム　勾配消失とReLU関数"
      ]
    },
    {
      "cell_type": "code",
      "execution_count": 66,
      "metadata": {
        "id": "eAyrUWNFQRbq"
      },
      "outputs": [],
      "source": [
        "# モデルの定義　シグモイド関数バージョン\n",
        "# 784入力10出力2隠れ層のニューラルネットワークモデル\n",
        "\n",
        "class Net3(nn.Module):\n",
        "    def __init__(self, n_input, n_output, n_hidden):\n",
        "        super().__init__()\n",
        "        \n",
        "        # 隠れ層1の定義 (隠れ層のノード数: n_hidden)\n",
        "        self.l1 = nn.Linear(n_input, n_hidden)\n",
        "\n",
        "        # 隠れ層2の定義 (隠れ層のノード数: n_hidden)\n",
        "        self.l2 = nn.Linear(n_hidden, n_hidden)\n",
        "\n",
        "        # 出力層の定義\n",
        "        self.l3 = nn.Linear(n_hidden, n_output)\n",
        "\n",
        "        # シグモイド関数の定義\n",
        "        self.sigmoid = nn.Sigmoid()\n",
        "\n",
        "    def forward(self, x):\n",
        "        x1 = self.l1(x)\n",
        "        x2 = self.sigmoid(x1)\n",
        "        x3 = self.l2(x2)\n",
        "        x4 = self.sigmoid(x3)\n",
        "        x5 = self.l3(x4)\n",
        "        return x5"
      ]
    },
    {
      "cell_type": "code",
      "execution_count": 67,
      "metadata": {
        "id": "6Eh3LoaBQRbr"
      },
      "outputs": [],
      "source": [
        "# 乱数の固定化\n",
        "torch.manual_seed(123)\n",
        "torch.cuda.manual_seed(123)\n",
        "\n",
        "# モデルインスタンス生成\n",
        "net = Net3(n_input, n_output, n_hidden).to(device)\n",
        "\n",
        "# 損失関数： 交差エントロピー関数\n",
        "criterion = nn.CrossEntropyLoss()\n",
        "\n",
        "# 最適化関数: 勾配降下法\n",
        "optimizer = torch.optim.SGD(net.parameters(), lr=lr)"
      ]
    },
    {
      "cell_type": "code",
      "execution_count": 68,
      "metadata": {
        "id": "9jZIRBRSfsov"
      },
      "outputs": [],
      "source": [
        "# DataLoaderから最初の1セットを取得する\n",
        "for images, labels in test_loader:\n",
        "    break\n",
        "\n",
        "# 予測結果の取得\n",
        "inputs = images.to(device)\n",
        "labels = labels.to(device)"
      ]
    },
    {
      "cell_type": "code",
      "execution_count": 69,
      "metadata": {
        "id": "z1OMhGtkmkR5"
      },
      "outputs": [
        {
          "data": {
            "image/svg+xml": [
              "<?xml version=\"1.0\" encoding=\"UTF-8\" standalone=\"no\"?>\n",
              "<!DOCTYPE svg PUBLIC \"-//W3C//DTD SVG 1.1//EN\"\n",
              " \"http://www.w3.org/Graphics/SVG/1.1/DTD/svg11.dtd\">\n",
              "<!-- Generated by graphviz version 2.43.0 (0)\n",
              " -->\n",
              "<!-- Title: %3 Pages: 1 -->\n",
              "<svg width=\"392pt\" height=\"655pt\"\n",
              " viewBox=\"0.00 0.00 391.50 655.00\" xmlns=\"http://www.w3.org/2000/svg\" xmlns:xlink=\"http://www.w3.org/1999/xlink\">\n",
              "<g id=\"graph0\" class=\"graph\" transform=\"scale(1 1) rotate(0) translate(4 651)\">\n",
              "<title>%3</title>\n",
              "<polygon fill=\"white\" stroke=\"transparent\" points=\"-4,4 -4,-651 387.5,-651 387.5,4 -4,4\"/>\n",
              "<!-- 23417798999824 -->\n",
              "<g id=\"node1\" class=\"node\">\n",
              "<title>23417798999824</title>\n",
              "<polygon fill=\"#caff70\" stroke=\"black\" points=\"227,-31 173,-31 173,0 227,0 227,-31\"/>\n",
              "<text text-anchor=\"middle\" x=\"200\" y=\"-7\" font-family=\"monospace\" font-size=\"10.00\"> ()</text>\n",
              "</g>\n",
              "<!-- 23417441458576 -->\n",
              "<g id=\"node2\" class=\"node\">\n",
              "<title>23417441458576</title>\n",
              "<polygon fill=\"lightgrey\" stroke=\"black\" points=\"250.5,-86 149.5,-86 149.5,-67 250.5,-67 250.5,-86\"/>\n",
              "<text text-anchor=\"middle\" x=\"200\" y=\"-74\" font-family=\"monospace\" font-size=\"10.00\">NllLossBackward0</text>\n",
              "</g>\n",
              "<!-- 23417441458576&#45;&gt;23417798999824 -->\n",
              "<g id=\"edge22\" class=\"edge\">\n",
              "<title>23417441458576&#45;&gt;23417798999824</title>\n",
              "<path fill=\"none\" stroke=\"black\" d=\"M200,-66.79C200,-60.07 200,-50.4 200,-41.34\"/>\n",
              "<polygon fill=\"black\" stroke=\"black\" points=\"203.5,-41.19 200,-31.19 196.5,-41.19 203.5,-41.19\"/>\n",
              "</g>\n",
              "<!-- 23417441456032 -->\n",
              "<g id=\"node3\" class=\"node\">\n",
              "<title>23417441456032</title>\n",
              "<polygon fill=\"lightgrey\" stroke=\"black\" points=\"258,-141 142,-141 142,-122 258,-122 258,-141\"/>\n",
              "<text text-anchor=\"middle\" x=\"200\" y=\"-129\" font-family=\"monospace\" font-size=\"10.00\">LogSoftmaxBackward0</text>\n",
              "</g>\n",
              "<!-- 23417441456032&#45;&gt;23417441458576 -->\n",
              "<g id=\"edge1\" class=\"edge\">\n",
              "<title>23417441456032&#45;&gt;23417441458576</title>\n",
              "<path fill=\"none\" stroke=\"black\" d=\"M200,-121.75C200,-114.8 200,-104.85 200,-96.13\"/>\n",
              "<polygon fill=\"black\" stroke=\"black\" points=\"203.5,-96.09 200,-86.09 196.5,-96.09 203.5,-96.09\"/>\n",
              "</g>\n",
              "<!-- 23417808850704 -->\n",
              "<g id=\"node4\" class=\"node\">\n",
              "<title>23417808850704</title>\n",
              "<polygon fill=\"lightgrey\" stroke=\"black\" points=\"245,-196 155,-196 155,-177 245,-177 245,-196\"/>\n",
              "<text text-anchor=\"middle\" x=\"200\" y=\"-184\" font-family=\"monospace\" font-size=\"10.00\">AddmmBackward0</text>\n",
              "</g>\n",
              "<!-- 23417808850704&#45;&gt;23417441456032 -->\n",
              "<g id=\"edge2\" class=\"edge\">\n",
              "<title>23417808850704&#45;&gt;23417441456032</title>\n",
              "<path fill=\"none\" stroke=\"black\" d=\"M200,-176.75C200,-169.8 200,-159.85 200,-151.13\"/>\n",
              "<polygon fill=\"black\" stroke=\"black\" points=\"203.5,-151.09 200,-141.09 196.5,-151.09 203.5,-151.09\"/>\n",
              "</g>\n",
              "<!-- 23417439859088 -->\n",
              "<g id=\"node5\" class=\"node\">\n",
              "<title>23417439859088</title>\n",
              "<polygon fill=\"lightgrey\" stroke=\"black\" points=\"131,-251 41,-251 41,-232 131,-232 131,-251\"/>\n",
              "<text text-anchor=\"middle\" x=\"86\" y=\"-239\" font-family=\"monospace\" font-size=\"10.00\">AccumulateGrad</text>\n",
              "</g>\n",
              "<!-- 23417439859088&#45;&gt;23417808850704 -->\n",
              "<g id=\"edge3\" class=\"edge\">\n",
              "<title>23417439859088&#45;&gt;23417808850704</title>\n",
              "<path fill=\"none\" stroke=\"black\" d=\"M104.32,-231.98C122.66,-223.46 151.11,-210.23 172.23,-200.41\"/>\n",
              "<polygon fill=\"black\" stroke=\"black\" points=\"173.76,-203.56 181.35,-196.17 170.81,-197.21 173.76,-203.56\"/>\n",
              "</g>\n",
              "<!-- 23417799621856 -->\n",
              "<g id=\"node6\" class=\"node\">\n",
              "<title>23417799621856</title>\n",
              "<polygon fill=\"lightblue\" stroke=\"black\" points=\"113,-317 59,-317 59,-287 113,-287 113,-317\"/>\n",
              "<text text-anchor=\"middle\" x=\"86\" y=\"-305\" font-family=\"monospace\" font-size=\"10.00\">l3.bias</text>\n",
              "<text text-anchor=\"middle\" x=\"86\" y=\"-294\" font-family=\"monospace\" font-size=\"10.00\"> (10)</text>\n",
              "</g>\n",
              "<!-- 23417799621856&#45;&gt;23417439859088 -->\n",
              "<g id=\"edge4\" class=\"edge\">\n",
              "<title>23417799621856&#45;&gt;23417439859088</title>\n",
              "<path fill=\"none\" stroke=\"black\" d=\"M86,-286.84C86,-279.21 86,-269.7 86,-261.45\"/>\n",
              "<polygon fill=\"black\" stroke=\"black\" points=\"89.5,-261.27 86,-251.27 82.5,-261.27 89.5,-261.27\"/>\n",
              "</g>\n",
              "<!-- 23417439859856 -->\n",
              "<g id=\"node7\" class=\"node\">\n",
              "<title>23417439859856</title>\n",
              "<polygon fill=\"lightgrey\" stroke=\"black\" points=\"250.5,-251 149.5,-251 149.5,-232 250.5,-232 250.5,-251\"/>\n",
              "<text text-anchor=\"middle\" x=\"200\" y=\"-239\" font-family=\"monospace\" font-size=\"10.00\">SigmoidBackward0</text>\n",
              "</g>\n",
              "<!-- 23417439859856&#45;&gt;23417808850704 -->\n",
              "<g id=\"edge5\" class=\"edge\">\n",
              "<title>23417439859856&#45;&gt;23417808850704</title>\n",
              "<path fill=\"none\" stroke=\"black\" d=\"M200,-231.75C200,-224.8 200,-214.85 200,-206.13\"/>\n",
              "<polygon fill=\"black\" stroke=\"black\" points=\"203.5,-206.09 200,-196.09 196.5,-206.09 203.5,-206.09\"/>\n",
              "</g>\n",
              "<!-- 23417439859808 -->\n",
              "<g id=\"node8\" class=\"node\">\n",
              "<title>23417439859808</title>\n",
              "<polygon fill=\"lightgrey\" stroke=\"black\" points=\"241,-311.5 151,-311.5 151,-292.5 241,-292.5 241,-311.5\"/>\n",
              "<text text-anchor=\"middle\" x=\"196\" y=\"-299.5\" font-family=\"monospace\" font-size=\"10.00\">AddmmBackward0</text>\n",
              "</g>\n",
              "<!-- 23417439859808&#45;&gt;23417439859856 -->\n",
              "<g id=\"edge6\" class=\"edge\">\n",
              "<title>23417439859808&#45;&gt;23417439859856</title>\n",
              "<path fill=\"none\" stroke=\"black\" d=\"M196.59,-292.37C197.15,-284.25 198,-271.81 198.71,-261.39\"/>\n",
              "<polygon fill=\"black\" stroke=\"black\" points=\"202.22,-261.38 199.41,-251.17 195.23,-260.91 202.22,-261.38\"/>\n",
              "</g>\n",
              "<!-- 23417439859712 -->\n",
              "<g id=\"node9\" class=\"node\">\n",
              "<title>23417439859712</title>\n",
              "<polygon fill=\"lightgrey\" stroke=\"black\" points=\"90,-377.5 0,-377.5 0,-358.5 90,-358.5 90,-377.5\"/>\n",
              "<text text-anchor=\"middle\" x=\"45\" y=\"-365.5\" font-family=\"monospace\" font-size=\"10.00\">AccumulateGrad</text>\n",
              "</g>\n",
              "<!-- 23417439859712&#45;&gt;23417439859808 -->\n",
              "<g id=\"edge7\" class=\"edge\">\n",
              "<title>23417439859712&#45;&gt;23417439859808</title>\n",
              "<path fill=\"none\" stroke=\"black\" d=\"M65.36,-358.37C91.26,-347.39 136.17,-328.36 165.99,-315.72\"/>\n",
              "<polygon fill=\"black\" stroke=\"black\" points=\"167.63,-318.82 175.48,-311.7 164.9,-312.38 167.63,-318.82\"/>\n",
              "</g>\n",
              "<!-- 23417802786352 -->\n",
              "<g id=\"node10\" class=\"node\">\n",
              "<title>23417802786352</title>\n",
              "<polygon fill=\"lightblue\" stroke=\"black\" points=\"72,-449 18,-449 18,-419 72,-419 72,-449\"/>\n",
              "<text text-anchor=\"middle\" x=\"45\" y=\"-437\" font-family=\"monospace\" font-size=\"10.00\">l2.bias</text>\n",
              "<text text-anchor=\"middle\" x=\"45\" y=\"-426\" font-family=\"monospace\" font-size=\"10.00\"> (128)</text>\n",
              "</g>\n",
              "<!-- 23417802786352&#45;&gt;23417439859712 -->\n",
              "<g id=\"edge8\" class=\"edge\">\n",
              "<title>23417802786352&#45;&gt;23417439859712</title>\n",
              "<path fill=\"none\" stroke=\"black\" d=\"M45,-418.8C45,-409.7 45,-397.79 45,-387.9\"/>\n",
              "<polygon fill=\"black\" stroke=\"black\" points=\"48.5,-387.84 45,-377.84 41.5,-387.84 48.5,-387.84\"/>\n",
              "</g>\n",
              "<!-- 23417439861488 -->\n",
              "<g id=\"node11\" class=\"node\">\n",
              "<title>23417439861488</title>\n",
              "<polygon fill=\"lightgrey\" stroke=\"black\" points=\"209.5,-377.5 108.5,-377.5 108.5,-358.5 209.5,-358.5 209.5,-377.5\"/>\n",
              "<text text-anchor=\"middle\" x=\"159\" y=\"-365.5\" font-family=\"monospace\" font-size=\"10.00\">SigmoidBackward0</text>\n",
              "</g>\n",
              "<!-- 23417439861488&#45;&gt;23417439859808 -->\n",
              "<g id=\"edge9\" class=\"edge\">\n",
              "<title>23417439861488&#45;&gt;23417439859808</title>\n",
              "<path fill=\"none\" stroke=\"black\" d=\"M163.99,-358.37C169.53,-348.78 178.63,-333.05 185.71,-320.8\"/>\n",
              "<polygon fill=\"black\" stroke=\"black\" points=\"188.88,-322.31 190.85,-311.91 182.82,-318.81 188.88,-322.31\"/>\n",
              "</g>\n",
              "<!-- 23417439859568 -->\n",
              "<g id=\"node12\" class=\"node\">\n",
              "<title>23417439859568</title>\n",
              "<polygon fill=\"lightgrey\" stroke=\"black\" points=\"201,-443.5 111,-443.5 111,-424.5 201,-424.5 201,-443.5\"/>\n",
              "<text text-anchor=\"middle\" x=\"156\" y=\"-431.5\" font-family=\"monospace\" font-size=\"10.00\">AddmmBackward0</text>\n",
              "</g>\n",
              "<!-- 23417439859568&#45;&gt;23417439861488 -->\n",
              "<g id=\"edge10\" class=\"edge\">\n",
              "<title>23417439859568&#45;&gt;23417439861488</title>\n",
              "<path fill=\"none\" stroke=\"black\" d=\"M156.4,-424.37C156.84,-415.07 157.55,-399.98 158.11,-387.9\"/>\n",
              "<polygon fill=\"black\" stroke=\"black\" points=\"161.61,-388.06 158.58,-377.91 154.62,-387.73 161.61,-388.06\"/>\n",
              "</g>\n",
              "<!-- 23417439860336 -->\n",
              "<g id=\"node13\" class=\"node\">\n",
              "<title>23417439860336</title>\n",
              "<polygon fill=\"lightgrey\" stroke=\"black\" points=\"112,-509.5 22,-509.5 22,-490.5 112,-490.5 112,-509.5\"/>\n",
              "<text text-anchor=\"middle\" x=\"67\" y=\"-497.5\" font-family=\"monospace\" font-size=\"10.00\">AccumulateGrad</text>\n",
              "</g>\n",
              "<!-- 23417439860336&#45;&gt;23417439859568 -->\n",
              "<g id=\"edge11\" class=\"edge\">\n",
              "<title>23417439860336&#45;&gt;23417439859568</title>\n",
              "<path fill=\"none\" stroke=\"black\" d=\"M79,-490.37C93.47,-479.97 118.01,-462.32 135.49,-449.75\"/>\n",
              "<polygon fill=\"black\" stroke=\"black\" points=\"137.83,-452.38 143.9,-443.7 133.74,-446.7 137.83,-452.38\"/>\n",
              "</g>\n",
              "<!-- 23417796894992 -->\n",
              "<g id=\"node14\" class=\"node\">\n",
              "<title>23417796894992</title>\n",
              "<polygon fill=\"lightblue\" stroke=\"black\" points=\"94,-581 40,-581 40,-551 94,-551 94,-581\"/>\n",
              "<text text-anchor=\"middle\" x=\"67\" y=\"-569\" font-family=\"monospace\" font-size=\"10.00\">l1.bias</text>\n",
              "<text text-anchor=\"middle\" x=\"67\" y=\"-558\" font-family=\"monospace\" font-size=\"10.00\"> (128)</text>\n",
              "</g>\n",
              "<!-- 23417796894992&#45;&gt;23417439860336 -->\n",
              "<g id=\"edge12\" class=\"edge\">\n",
              "<title>23417796894992&#45;&gt;23417439860336</title>\n",
              "<path fill=\"none\" stroke=\"black\" d=\"M67,-550.8C67,-541.7 67,-529.79 67,-519.9\"/>\n",
              "<polygon fill=\"black\" stroke=\"black\" points=\"70.5,-519.84 67,-509.84 63.5,-519.84 70.5,-519.84\"/>\n",
              "</g>\n",
              "<!-- 23417439860384 -->\n",
              "<g id=\"node15\" class=\"node\">\n",
              "<title>23417439860384</title>\n",
              "<polygon fill=\"lightgrey\" stroke=\"black\" points=\"199.5,-509.5 130.5,-509.5 130.5,-490.5 199.5,-490.5 199.5,-509.5\"/>\n",
              "<text text-anchor=\"middle\" x=\"165\" y=\"-497.5\" font-family=\"monospace\" font-size=\"10.00\">TBackward0</text>\n",
              "</g>\n",
              "<!-- 23417439860384&#45;&gt;23417439859568 -->\n",
              "<g id=\"edge13\" class=\"edge\">\n",
              "<title>23417439860384&#45;&gt;23417439859568</title>\n",
              "<path fill=\"none\" stroke=\"black\" d=\"M163.79,-490.37C162.48,-481.07 160.36,-465.98 158.66,-453.9\"/>\n",
              "<polygon fill=\"black\" stroke=\"black\" points=\"162.11,-453.32 157.25,-443.91 155.18,-454.3 162.11,-453.32\"/>\n",
              "</g>\n",
              "<!-- 23417439860048 -->\n",
              "<g id=\"node16\" class=\"node\">\n",
              "<title>23417439860048</title>\n",
              "<polygon fill=\"lightgrey\" stroke=\"black\" points=\"210,-575.5 120,-575.5 120,-556.5 210,-556.5 210,-575.5\"/>\n",
              "<text text-anchor=\"middle\" x=\"165\" y=\"-563.5\" font-family=\"monospace\" font-size=\"10.00\">AccumulateGrad</text>\n",
              "</g>\n",
              "<!-- 23417439860048&#45;&gt;23417439860384 -->\n",
              "<g id=\"edge14\" class=\"edge\">\n",
              "<title>23417439860048&#45;&gt;23417439860384</title>\n",
              "<path fill=\"none\" stroke=\"black\" d=\"M165,-556.37C165,-547.16 165,-532.29 165,-520.27\"/>\n",
              "<polygon fill=\"black\" stroke=\"black\" points=\"168.5,-519.91 165,-509.91 161.5,-519.91 168.5,-519.91\"/>\n",
              "</g>\n",
              "<!-- 23417442603696 -->\n",
              "<g id=\"node17\" class=\"node\">\n",
              "<title>23417442603696</title>\n",
              "<polygon fill=\"lightblue\" stroke=\"black\" points=\"202,-647 128,-647 128,-617 202,-617 202,-647\"/>\n",
              "<text text-anchor=\"middle\" x=\"165\" y=\"-635\" font-family=\"monospace\" font-size=\"10.00\">l1.weight</text>\n",
              "<text text-anchor=\"middle\" x=\"165\" y=\"-624\" font-family=\"monospace\" font-size=\"10.00\"> (128, 784)</text>\n",
              "</g>\n",
              "<!-- 23417442603696&#45;&gt;23417439860048 -->\n",
              "<g id=\"edge15\" class=\"edge\">\n",
              "<title>23417442603696&#45;&gt;23417439860048</title>\n",
              "<path fill=\"none\" stroke=\"black\" d=\"M165,-616.8C165,-607.7 165,-595.79 165,-585.9\"/>\n",
              "<polygon fill=\"black\" stroke=\"black\" points=\"168.5,-585.84 165,-575.84 161.5,-585.84 168.5,-585.84\"/>\n",
              "</g>\n",
              "<!-- 23417439854864 -->\n",
              "<g id=\"node18\" class=\"node\">\n",
              "<title>23417439854864</title>\n",
              "<polygon fill=\"lightgrey\" stroke=\"black\" points=\"296.5,-377.5 227.5,-377.5 227.5,-358.5 296.5,-358.5 296.5,-377.5\"/>\n",
              "<text text-anchor=\"middle\" x=\"262\" y=\"-365.5\" font-family=\"monospace\" font-size=\"10.00\">TBackward0</text>\n",
              "</g>\n",
              "<!-- 23417439854864&#45;&gt;23417439859808 -->\n",
              "<g id=\"edge16\" class=\"edge\">\n",
              "<title>23417439854864&#45;&gt;23417439859808</title>\n",
              "<path fill=\"none\" stroke=\"black\" d=\"M253.1,-358.37C242.73,-348.31 225.37,-331.48 212.51,-319.01\"/>\n",
              "<polygon fill=\"black\" stroke=\"black\" points=\"214.8,-316.35 205.18,-311.91 209.93,-321.38 214.8,-316.35\"/>\n",
              "</g>\n",
              "<!-- 23417439859904 -->\n",
              "<g id=\"node19\" class=\"node\">\n",
              "<title>23417439859904</title>\n",
              "<polygon fill=\"lightgrey\" stroke=\"black\" points=\"309,-443.5 219,-443.5 219,-424.5 309,-424.5 309,-443.5\"/>\n",
              "<text text-anchor=\"middle\" x=\"264\" y=\"-431.5\" font-family=\"monospace\" font-size=\"10.00\">AccumulateGrad</text>\n",
              "</g>\n",
              "<!-- 23417439859904&#45;&gt;23417439854864 -->\n",
              "<g id=\"edge17\" class=\"edge\">\n",
              "<title>23417439859904&#45;&gt;23417439854864</title>\n",
              "<path fill=\"none\" stroke=\"black\" d=\"M263.73,-424.37C263.44,-415.16 262.98,-400.29 262.6,-388.27\"/>\n",
              "<polygon fill=\"black\" stroke=\"black\" points=\"266.09,-387.79 262.28,-377.91 259.09,-388.01 266.09,-387.79\"/>\n",
              "</g>\n",
              "<!-- 23417784130896 -->\n",
              "<g id=\"node20\" class=\"node\">\n",
              "<title>23417784130896</title>\n",
              "<polygon fill=\"lightblue\" stroke=\"black\" points=\"301,-515 227,-515 227,-485 301,-485 301,-515\"/>\n",
              "<text text-anchor=\"middle\" x=\"264\" y=\"-503\" font-family=\"monospace\" font-size=\"10.00\">l2.weight</text>\n",
              "<text text-anchor=\"middle\" x=\"264\" y=\"-492\" font-family=\"monospace\" font-size=\"10.00\"> (128, 128)</text>\n",
              "</g>\n",
              "<!-- 23417784130896&#45;&gt;23417439859904 -->\n",
              "<g id=\"edge18\" class=\"edge\">\n",
              "<title>23417784130896&#45;&gt;23417439859904</title>\n",
              "<path fill=\"none\" stroke=\"black\" d=\"M264,-484.8C264,-475.7 264,-463.79 264,-453.9\"/>\n",
              "<polygon fill=\"black\" stroke=\"black\" points=\"267.5,-453.84 264,-443.84 260.5,-453.84 267.5,-453.84\"/>\n",
              "</g>\n",
              "<!-- 23417439856208 -->\n",
              "<g id=\"node21\" class=\"node\">\n",
              "<title>23417439856208</title>\n",
              "<polygon fill=\"lightgrey\" stroke=\"black\" points=\"344.5,-251 275.5,-251 275.5,-232 344.5,-232 344.5,-251\"/>\n",
              "<text text-anchor=\"middle\" x=\"310\" y=\"-239\" font-family=\"monospace\" font-size=\"10.00\">TBackward0</text>\n",
              "</g>\n",
              "<!-- 23417439856208&#45;&gt;23417808850704 -->\n",
              "<g id=\"edge19\" class=\"edge\">\n",
              "<title>23417439856208&#45;&gt;23417808850704</title>\n",
              "<path fill=\"none\" stroke=\"black\" d=\"M292.33,-231.98C274.71,-223.5 247.42,-210.35 227.07,-200.54\"/>\n",
              "<polygon fill=\"black\" stroke=\"black\" points=\"228.52,-197.36 217.99,-196.17 225.48,-203.66 228.52,-197.36\"/>\n",
              "</g>\n",
              "<!-- 23417439860432 -->\n",
              "<g id=\"node22\" class=\"node\">\n",
              "<title>23417439860432</title>\n",
              "<polygon fill=\"lightgrey\" stroke=\"black\" points=\"358,-311.5 268,-311.5 268,-292.5 358,-292.5 358,-311.5\"/>\n",
              "<text text-anchor=\"middle\" x=\"313\" y=\"-299.5\" font-family=\"monospace\" font-size=\"10.00\">AccumulateGrad</text>\n",
              "</g>\n",
              "<!-- 23417439860432&#45;&gt;23417439856208 -->\n",
              "<g id=\"edge20\" class=\"edge\">\n",
              "<title>23417439860432&#45;&gt;23417439856208</title>\n",
              "<path fill=\"none\" stroke=\"black\" d=\"M312.56,-292.37C312.14,-284.25 311.5,-271.81 310.97,-261.39\"/>\n",
              "<polygon fill=\"black\" stroke=\"black\" points=\"314.45,-260.97 310.44,-251.17 307.46,-261.33 314.45,-260.97\"/>\n",
              "</g>\n",
              "<!-- 23417787982416 -->\n",
              "<g id=\"node23\" class=\"node\">\n",
              "<title>23417787982416</title>\n",
              "<polygon fill=\"lightblue\" stroke=\"black\" points=\"383.5,-383 314.5,-383 314.5,-353 383.5,-353 383.5,-383\"/>\n",
              "<text text-anchor=\"middle\" x=\"349\" y=\"-371\" font-family=\"monospace\" font-size=\"10.00\">l3.weight</text>\n",
              "<text text-anchor=\"middle\" x=\"349\" y=\"-360\" font-family=\"monospace\" font-size=\"10.00\"> (10, 128)</text>\n",
              "</g>\n",
              "<!-- 23417787982416&#45;&gt;23417439860432 -->\n",
              "<g id=\"edge21\" class=\"edge\">\n",
              "<title>23417787982416&#45;&gt;23417439860432</title>\n",
              "<path fill=\"none\" stroke=\"black\" d=\"M341.01,-352.8C335.67,-343.31 328.61,-330.76 322.92,-320.63\"/>\n",
              "<polygon fill=\"black\" stroke=\"black\" points=\"325.93,-318.84 317.97,-311.84 319.83,-322.28 325.93,-318.84\"/>\n",
              "</g>\n",
              "</g>\n",
              "</svg>\n"
            ],
            "text/plain": [
              "<graphviz.graphs.Digraph at 0x154c4c479480>"
            ]
          },
          "execution_count": 69,
          "metadata": {},
          "output_type": "execute_result"
        }
      ],
      "source": [
        "# 予測計算\n",
        "outputs = net(inputs)\n",
        "\n",
        "# 損失計算\n",
        "loss = criterion(outputs, labels)\n",
        "\n",
        "# 損失の計算グラフ可視化\n",
        "make_dot(loss, params=dict(net.named_parameters()))"
      ]
    },
    {
      "cell_type": "code",
      "execution_count": 70,
      "metadata": {
        "id": "hxF0mwu8HTuK"
      },
      "outputs": [
        {
          "name": "stdout",
          "output_type": "stream",
          "text": [
            "[[ 0.00012  0.00012  0.00012 ...  0.00012  0.00012  0.00012]\n",
            " [ 0.00014  0.00014  0.00014 ...  0.00014  0.00014  0.00014]\n",
            " [-0.00014 -0.00014 -0.00014 ... -0.00014 -0.00014 -0.00014]\n",
            " ...\n",
            " [-0.00013 -0.00013 -0.00013 ... -0.00013 -0.00013 -0.00013]\n",
            " [ 0.00018  0.00018  0.00018 ...  0.00018  0.00018  0.00018]\n",
            " [-0.00009 -0.00009 -0.00009 ... -0.00009 -0.00009 -0.00009]]\n",
            "0.00017514593\n"
          ]
        }
      ],
      "source": [
        "# 勾配計算\n",
        "loss.backward()\n",
        "\n",
        "# 勾配計算結果の一部\n",
        "w = net.to('cpu').l1.weight.grad.numpy()\n",
        "print(w)\n",
        "\n",
        "# 各要素の絶対値の平均\n",
        "print(np.abs(w).mean())"
      ]
    },
    {
      "cell_type": "markdown",
      "metadata": {
        "id": "l27mdkndXTYK"
      },
      "source": [
        "## コラム　lambda式による関数定義"
      ]
    },
    {
      "cell_type": "code",
      "execution_count": 71,
      "metadata": {
        "id": "uHF-e5roXToO"
      },
      "outputs": [],
      "source": [
        "# 通常の関数定義\n",
        "\n",
        "def f(x):\n",
        "    return (2 * x**2 + 2)"
      ]
    },
    {
      "cell_type": "code",
      "execution_count": 72,
      "metadata": {
        "id": "fV8-PErUztA0"
      },
      "outputs": [
        {
          "name": "stdout",
          "output_type": "stream",
          "text": [
            "[10.     8.125  6.5    5.125  4.     3.125  2.5    2.125  2.     2.125\n",
            "  2.5    3.125  4.     5.125  6.5    8.125 10.   ]\n"
          ]
        }
      ],
      "source": [
        "x = np.arange(-2, 2.1, 0.25)\n",
        "y = f(x)\n",
        "print(y)"
      ]
    },
    {
      "cell_type": "code",
      "execution_count": 73,
      "metadata": {
        "id": "6G78qvPjztA0"
      },
      "outputs": [],
      "source": [
        "# lambda式による関数定義\n",
        "\n",
        "g = lambda x: 2 * x**2 + 2"
      ]
    },
    {
      "cell_type": "code",
      "execution_count": 74,
      "metadata": {
        "id": "6G6B3TKkztA0"
      },
      "outputs": [
        {
          "name": "stdout",
          "output_type": "stream",
          "text": [
            "[10.     8.125  6.5    5.125  4.     3.125  2.5    2.125  2.     2.125\n",
            "  2.5    3.125  4.     5.125  6.5    8.125 10.   ]\n"
          ]
        }
      ],
      "source": [
        "y = g(x)\n",
        "print(y)"
      ]
    },
    {
      "cell_type": "markdown",
      "metadata": {
        "id": "lcZ6_XudTXJe"
      },
      "source": [
        "## コラム バッチサイズと精度"
      ]
    },
    {
      "cell_type": "markdown",
      "metadata": {
        "id": "Oj1K95OlGa2I"
      },
      "source": [
        "### fit関数の定義"
      ]
    },
    {
      "cell_type": "code",
      "execution_count": 75,
      "metadata": {
        "id": "Q5yVM-xLYhjs"
      },
      "outputs": [],
      "source": [
        "# 学習用関数\n",
        "def fit(net, optimizer, criterion, num_epochs, train_loader, test_loader, device, history):\n",
        "\n",
        "    # tqdmライブラリのインポート\n",
        "    from tqdm.notebook import tqdm\n",
        "\n",
        "    base_epochs = len(history)\n",
        "  \n",
        "    for epoch in range(base_epochs, num_epochs+base_epochs):\n",
        "        # 1エポックあたりの正解数(精度計算用)\n",
        "        n_train_acc, n_val_acc = 0, 0\n",
        "        # 1エポックあたりの累積損失(平均化前)\n",
        "        train_loss, val_loss = 0, 0\n",
        "        # 1エポックあたりのデータ累積件数\n",
        "        n_train, n_test = 0, 0\n",
        "\n",
        "        #訓練フェーズ\n",
        "        net.train()\n",
        "\n",
        "        for inputs, labels in tqdm(train_loader):\n",
        "            # 1バッチあたりのデータ件数\n",
        "            train_batch_size = len(labels)\n",
        "            # 1エポックあたりのデータ累積件数\n",
        "            n_train += train_batch_size\n",
        "    \n",
        "            # GPUヘ転送\n",
        "            inputs = inputs.to(device)\n",
        "            labels = labels.to(device)\n",
        "\n",
        "            # 勾配の初期化\n",
        "            optimizer.zero_grad()\n",
        "\n",
        "            # 予測計算\n",
        "            outputs = net(inputs)\n",
        "\n",
        "            # 損失計算\n",
        "            loss = criterion(outputs, labels)\n",
        "\n",
        "            # 勾配計算\n",
        "            loss.backward()\n",
        "\n",
        "            # パラメータ修正\n",
        "            optimizer.step()\n",
        "\n",
        "            # 予測ラベル導出\n",
        "            predicted = torch.max(outputs, 1)[1]\n",
        "\n",
        "            # 平均前の損失と正解数の計算\n",
        "            # lossは平均計算が行われているので平均前の損失に戻して加算\n",
        "            train_loss += loss.item() * train_batch_size \n",
        "            n_train_acc += (predicted == labels).sum().item() \n",
        "\n",
        "        #予測フェーズ\n",
        "        net.eval()\n",
        "\n",
        "        for inputs_test, labels_test in test_loader:\n",
        "            # 1バッチあたりのデータ件数\n",
        "            test_batch_size = len(labels_test)\n",
        "            # 1エポックあたりのデータ累積件数\n",
        "            n_test += test_batch_size\n",
        "\n",
        "            # GPUヘ転送\n",
        "            inputs_test = inputs_test.to(device)\n",
        "            labels_test = labels_test.to(device)\n",
        "\n",
        "            # 予測計算\n",
        "            outputs_test = net(inputs_test)\n",
        "\n",
        "            # 損失計算\n",
        "            loss_test = criterion(outputs_test, labels_test)\n",
        " \n",
        "            # 予測ラベル導出\n",
        "            predicted_test = torch.max(outputs_test, 1)[1]\n",
        "\n",
        "            #  平均前の損失と正解数の計算\n",
        "            # lossは平均計算が行われているので平均前の損失に戻して加算\n",
        "            val_loss +=  loss_test.item() * test_batch_size\n",
        "            n_val_acc +=  (predicted_test == labels_test).sum().item()\n",
        "\n",
        "        # 精度計算\n",
        "        train_acc = n_train_acc / n_train\n",
        "        val_acc = n_val_acc / n_test\n",
        "        # 損失計算\n",
        "        avg_train_loss = train_loss / n_train\n",
        "        avg_val_loss = val_loss / n_test\n",
        "        # 結果表示\n",
        "        print (f'Epoch [{(epoch+1)}/{num_epochs+base_epochs}], loss: {avg_train_loss:.5f} acc: {train_acc:.5f} val_loss: {avg_val_loss:.5f}, val_acc: {val_acc:.5f}')\n",
        "        # 記録\n",
        "        item = np.array([epoch+1, avg_train_loss, train_acc, avg_val_loss, val_acc])\n",
        "        history = np.vstack((history, item))\n",
        "    return history"
      ]
    },
    {
      "cell_type": "code",
      "execution_count": 76,
      "metadata": {
        "id": "IzdXGNUYM_sk"
      },
      "outputs": [],
      "source": [
        "# PyTorch乱数固定用\n",
        "\n",
        "def torch_seed(seed=123):\n",
        "    torch.manual_seed(seed)\n",
        "    torch.cuda.manual_seed(seed)\n",
        "    torch.backends.cudnn.deterministic = True\n",
        "    torch.use_deterministic_algorithms = True"
      ]
    },
    {
      "cell_type": "code",
      "execution_count": 77,
      "metadata": {
        "id": "0rq82O2Ti87J"
      },
      "outputs": [],
      "source": [
        "# ミニバッチのサイズ指定\n",
        "batch_size_train = 500\n",
        "\n",
        "# 訓練用データローダー\n",
        "# 訓練用なので、シャッフルをかける\n",
        "train_loader = DataLoader(\n",
        "    train_set, batch_size = batch_size_train, \n",
        "    shuffle = True)\n",
        "\n",
        "# 乱数の固定化\n",
        "torch_seed()\n",
        "\n",
        "# 学習率\n",
        "lr = 0.01\n",
        "\n",
        "# モデルインスタンス生成\n",
        "net = Net(n_input, n_output, n_hidden).to(device)\n",
        "\n",
        "# 最適化アルゴリズム: 勾配降下法\n",
        "optimizer = optim.SGD(net.parameters(), lr=lr)\n",
        "\n",
        "# 損失関数： 交差エントロピー関数\n",
        "criterion = nn.CrossEntropyLoss()\n",
        "\n",
        "# 繰り返し回数\n",
        "num_epochs = 100\n",
        "\n",
        "# 評価結果記録用\n",
        "history6 = np.zeros((0,5))"
      ]
    },
    {
      "cell_type": "code",
      "execution_count": 78,
      "metadata": {
        "id": "Pr8JBupxjOaj"
      },
      "outputs": [
        {
          "ename": "ImportError",
          "evalue": "IProgress not found. Please update jupyter and ipywidgets. See https://ipywidgets.readthedocs.io/en/stable/user_install.html",
          "output_type": "error",
          "traceback": [
            "\u001b[0;31m---------------------------------------------------------------------------\u001b[0m",
            "\u001b[0;31mImportError\u001b[0m                               Traceback (most recent call last)",
            "Cell \u001b[0;32mIn[78], line 1\u001b[0m\n\u001b[0;32m----> 1\u001b[0m history6 \u001b[39m=\u001b[39m fit(net, optimizer, criterion, num_epochs, train_loader, test_loader, device, history6)\n",
            "Cell \u001b[0;32mIn[75], line 20\u001b[0m, in \u001b[0;36mfit\u001b[0;34m(net, optimizer, criterion, num_epochs, train_loader, test_loader, device, history)\u001b[0m\n\u001b[1;32m     17\u001b[0m \u001b[39m#訓練フェーズ\u001b[39;00m\n\u001b[1;32m     18\u001b[0m net\u001b[39m.\u001b[39mtrain()\n\u001b[0;32m---> 20\u001b[0m \u001b[39mfor\u001b[39;00m inputs, labels \u001b[39min\u001b[39;00m tqdm(train_loader):\n\u001b[1;32m     21\u001b[0m     \u001b[39m# 1バッチあたりのデータ件数\u001b[39;00m\n\u001b[1;32m     22\u001b[0m     train_batch_size \u001b[39m=\u001b[39m \u001b[39mlen\u001b[39m(labels)\n\u001b[1;32m     23\u001b[0m     \u001b[39m# 1エポックあたりのデータ累積件数\u001b[39;00m\n",
            "File \u001b[0;32m~/anaconda3/envs/irvs_get_started/lib/python3.10/site-packages/tqdm/notebook.py:238\u001b[0m, in \u001b[0;36mtqdm_notebook.__init__\u001b[0;34m(self, *args, **kwargs)\u001b[0m\n\u001b[1;32m    236\u001b[0m unit_scale \u001b[39m=\u001b[39m \u001b[39m1\u001b[39m \u001b[39mif\u001b[39;00m \u001b[39mself\u001b[39m\u001b[39m.\u001b[39munit_scale \u001b[39mis\u001b[39;00m \u001b[39mTrue\u001b[39;00m \u001b[39melse\u001b[39;00m \u001b[39mself\u001b[39m\u001b[39m.\u001b[39munit_scale \u001b[39mor\u001b[39;00m \u001b[39m1\u001b[39m\n\u001b[1;32m    237\u001b[0m total \u001b[39m=\u001b[39m \u001b[39mself\u001b[39m\u001b[39m.\u001b[39mtotal \u001b[39m*\u001b[39m unit_scale \u001b[39mif\u001b[39;00m \u001b[39mself\u001b[39m\u001b[39m.\u001b[39mtotal \u001b[39melse\u001b[39;00m \u001b[39mself\u001b[39m\u001b[39m.\u001b[39mtotal\n\u001b[0;32m--> 238\u001b[0m \u001b[39mself\u001b[39m\u001b[39m.\u001b[39mcontainer \u001b[39m=\u001b[39m \u001b[39mself\u001b[39;49m\u001b[39m.\u001b[39;49mstatus_printer(\u001b[39mself\u001b[39;49m\u001b[39m.\u001b[39;49mfp, total, \u001b[39mself\u001b[39;49m\u001b[39m.\u001b[39;49mdesc, \u001b[39mself\u001b[39;49m\u001b[39m.\u001b[39;49mncols)\n\u001b[1;32m    239\u001b[0m \u001b[39mself\u001b[39m\u001b[39m.\u001b[39mcontainer\u001b[39m.\u001b[39mpbar \u001b[39m=\u001b[39m proxy(\u001b[39mself\u001b[39m)\n\u001b[1;32m    240\u001b[0m \u001b[39mself\u001b[39m\u001b[39m.\u001b[39mdisplayed \u001b[39m=\u001b[39m \u001b[39mFalse\u001b[39;00m\n",
            "File \u001b[0;32m~/anaconda3/envs/irvs_get_started/lib/python3.10/site-packages/tqdm/notebook.py:113\u001b[0m, in \u001b[0;36mtqdm_notebook.status_printer\u001b[0;34m(_, total, desc, ncols)\u001b[0m\n\u001b[1;32m    104\u001b[0m \u001b[39m# Fallback to text bar if there's no total\u001b[39;00m\n\u001b[1;32m    105\u001b[0m \u001b[39m# DEPRECATED: replaced with an 'info' style bar\u001b[39;00m\n\u001b[1;32m    106\u001b[0m \u001b[39m# if not total:\u001b[39;00m\n\u001b[0;32m   (...)\u001b[0m\n\u001b[1;32m    110\u001b[0m \n\u001b[1;32m    111\u001b[0m \u001b[39m# Prepare IPython progress bar\u001b[39;00m\n\u001b[1;32m    112\u001b[0m \u001b[39mif\u001b[39;00m IProgress \u001b[39mis\u001b[39;00m \u001b[39mNone\u001b[39;00m:  \u001b[39m# #187 #451 #558 #872\u001b[39;00m\n\u001b[0;32m--> 113\u001b[0m     \u001b[39mraise\u001b[39;00m \u001b[39mImportError\u001b[39;00m(WARN_NOIPYW)\n\u001b[1;32m    114\u001b[0m \u001b[39mif\u001b[39;00m total:\n\u001b[1;32m    115\u001b[0m     pbar \u001b[39m=\u001b[39m IProgress(\u001b[39mmin\u001b[39m\u001b[39m=\u001b[39m\u001b[39m0\u001b[39m, \u001b[39mmax\u001b[39m\u001b[39m=\u001b[39mtotal)\n",
            "\u001b[0;31mImportError\u001b[0m: IProgress not found. Please update jupyter and ipywidgets. See https://ipywidgets.readthedocs.io/en/stable/user_install.html"
          ]
        }
      ],
      "source": [
        "history6 = fit(net, optimizer, criterion, num_epochs, train_loader, test_loader, device, history6)"
      ]
    },
    {
      "cell_type": "markdown",
      "metadata": {
        "id": "nt295NtfX_HK"
      },
      "source": [
        "### batch_size=200"
      ]
    },
    {
      "cell_type": "code",
      "execution_count": null,
      "metadata": {
        "id": "fSDG1UhbTuk4"
      },
      "outputs": [],
      "source": [
        "# ミニバッチのサイズ指定\n",
        "batch_size_train = 200\n",
        "\n",
        "# 訓練用データローダー\n",
        "# 訓練用なので、シャッフルをかける\n",
        "train_loader = DataLoader(\n",
        "    train_set, batch_size = batch_size_train, \n",
        "    shuffle = True)\n",
        "\n",
        "# 乱数の固定化\n",
        "torch_seed()\n",
        "\n",
        "# 学習率\n",
        "lr = 0.01\n",
        "\n",
        "# モデルインスタンス生成\n",
        "net = Net(n_input, n_output, n_hidden).to(device)\n",
        "\n",
        "# 最適化アルゴリズム: 勾配降下法\n",
        "optimizer = optim.SGD(net.parameters(), lr=lr)\n",
        "\n",
        "# 損失関数： 交差エントロピー関数\n",
        "criterion = nn.CrossEntropyLoss()\n",
        "\n",
        "# 繰り返し回数\n",
        "num_epochs = 100\n",
        "\n",
        "# 評価結果記録用\n",
        "history3 = np.zeros((0,5))"
      ]
    },
    {
      "cell_type": "code",
      "execution_count": null,
      "metadata": {
        "id": "4a4ozAKcH7v2"
      },
      "outputs": [],
      "source": [
        "history3 = fit(net, optimizer, criterion, num_epochs, train_loader, test_loader, device, history3)"
      ]
    },
    {
      "cell_type": "markdown",
      "metadata": {
        "id": "whmV7NaLIyJE"
      },
      "source": [
        "### batch_size=100"
      ]
    },
    {
      "cell_type": "code",
      "execution_count": null,
      "metadata": {
        "id": "90I9xU_SIu_v"
      },
      "outputs": [],
      "source": [
        "# ミニバッチのサイズ指定\n",
        "batch_size_train = 100\n",
        "\n",
        "# 訓練用データローダー\n",
        "# 訓練用なので、シャッフルをかける\n",
        "train_loader = DataLoader(\n",
        "    train_set, batch_size = batch_size_train, \n",
        "    shuffle = True)\n",
        "\n",
        "# 乱数の固定化\n",
        "torch_seed()\n",
        "\n",
        "# 学習率\n",
        "lr = 0.01\n",
        "\n",
        "# モデル初期化\n",
        "net = Net(n_input, n_output, n_hidden).to(device)\n",
        "\n",
        "# 最適化アルゴリズム: 勾配降下法\n",
        "optimizer = optim.SGD(net.parameters(), lr=lr)\n",
        "\n",
        "# 損失関数： 交差エントロピー関数\n",
        "criterion = nn.CrossEntropyLoss()\n",
        "\n",
        "# 繰り返し回数\n",
        "num_epochs = 100\n",
        "\n",
        "# 評価結果記録用\n",
        "history4 = np.zeros((0,5))"
      ]
    },
    {
      "cell_type": "code",
      "execution_count": null,
      "metadata": {
        "id": "0FVIZ5U9IvF0"
      },
      "outputs": [],
      "source": [
        "history4 = fit(net, optimizer, criterion, num_epochs, train_loader, test_loader, device, history4)"
      ]
    },
    {
      "cell_type": "markdown",
      "metadata": {
        "id": "yY58TdCuJBrR"
      },
      "source": [
        "### batch_size=50"
      ]
    },
    {
      "cell_type": "code",
      "execution_count": null,
      "metadata": {
        "id": "PsDDyUh7IvNb"
      },
      "outputs": [],
      "source": [
        "# ミニバッチのサイズ指定\n",
        "batch_size_train = 50\n",
        "\n",
        "# 訓練用データローダー\n",
        "# 訓練用なので、シャッフルをかける\n",
        "train_loader = DataLoader(\n",
        "    train_set, batch_size = batch_size_train, \n",
        "    shuffle = True)\n",
        "\n",
        "# 乱数の固定化\n",
        "torch_seed()\n",
        "\n",
        "# 学習率\n",
        "lr = 0.01\n",
        "\n",
        "# モデル初期化\n",
        "net = Net(n_input, n_output, n_hidden).to(device)\n",
        "\n",
        "# 最適化アルゴリズム: 勾配降下法\n",
        "optimizer = optim.SGD(net.parameters(), lr=lr)\n",
        "\n",
        "# 損失関数： 交差エントロピー関数\n",
        "criterion = nn.CrossEntropyLoss()\n",
        "\n",
        "# 繰り返し回数\n",
        "num_epochs = 100\n",
        "\n",
        "# 評価結果記録用\n",
        "history5 = np.zeros((0,5))"
      ]
    },
    {
      "cell_type": "code",
      "execution_count": null,
      "metadata": {
        "id": "3BEa8fHvIvoZ"
      },
      "outputs": [],
      "source": [
        "history5 = fit(net, optimizer, criterion, num_epochs, train_loader, test_loader, device, history5)"
      ]
    },
    {
      "cell_type": "markdown",
      "metadata": {
        "id": "4bJR1IpmJpGh"
      },
      "source": [
        "### 学習曲線の比較"
      ]
    },
    {
      "cell_type": "code",
      "execution_count": null,
      "metadata": {
        "id": "U6wENwdCorRu"
      },
      "outputs": [],
      "source": [
        "# 学習曲線の表示 (精度)\n",
        "\n",
        "plt.plot(history[:,0], history[:,4], label='batch_size=500', c='k', linestyle='-.')\n",
        "plt.plot(history3[:,0], history3[:,4], label='batch_size=200', c='b', linestyle='-.')\n",
        "plt.plot(history4[:,0], history4[:,4], label='batch_size=100', c='k')\n",
        "plt.plot(history5[:,0], history5[:,4], label='batch_size=50', c='b')\n",
        "plt.xlabel('繰り返し回数')\n",
        "plt.ylabel('精度')\n",
        "plt.title('学習曲線(精度)')\n",
        "plt.legend()\n",
        "plt.show()"
      ]
    },
    {
      "cell_type": "code",
      "execution_count": null,
      "metadata": {
        "id": "jCLl1jfqcjVQ"
      },
      "outputs": [],
      "source": []
    }
  ],
  "metadata": {
    "accelerator": "GPU",
    "colab": {
      "provenance": [],
      "toc_visible": true
    },
    "kernelspec": {
      "display_name": "Python 3",
      "language": "python",
      "name": "python3"
    },
    "language_info": {
      "codemirror_mode": {
        "name": "ipython",
        "version": 3
      },
      "file_extension": ".py",
      "mimetype": "text/x-python",
      "name": "python",
      "nbconvert_exporter": "python",
      "pygments_lexer": "ipython3",
      "version": "3.10.10"
    }
  },
  "nbformat": 4,
  "nbformat_minor": 0
}
